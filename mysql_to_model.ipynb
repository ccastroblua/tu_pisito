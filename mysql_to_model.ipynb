{
 "cells": [
  {
   "cell_type": "code",
   "execution_count": 64,
   "id": "39afe158",
   "metadata": {},
   "outputs": [],
   "source": [
    "from config.configuration import engine\n",
    "from tools import idealista_functions as i_func\n",
    "import pandas as pd\n",
    "import numpy as np\n",
    "import h2o\n",
    "from h2o.automl import H2OAutoML\n",
    "import seaborn as sns"
   ]
  },
  {
   "cell_type": "code",
   "execution_count": 27,
   "id": "e53560d1",
   "metadata": {},
   "outputs": [],
   "source": [
    "mysql_df = pd.read_sql_query(\n",
    "f\"\"\"\n",
    "SELECT sq_mt_built, \n",
    "        n_rooms, \n",
    "        n_bathrooms, \n",
    "        apartments.latitude, \n",
    "        apartments.longitude, \n",
    "        is_new_development, \n",
    "        is_renewal_needed, \n",
    "        has_lift, \n",
    "        is_exterior, \n",
    "        has_parking, \n",
    "        floor, \n",
    "        house_type_id,\n",
    "        value_m2,\n",
    "        neighborhood_name,\n",
    "        district_name,\n",
    "        buy_price\n",
    "FROM apartments\n",
    "LEFT JOIN neighborhoods\n",
    "ON apartments.neighborhood_id = neighborhoods.neighborhood_id\n",
    "LEFT JOIN districts\n",
    "ON neighborhoods.district_id = districts.district_id\n",
    "ORDER BY apartment_id DESC;\n",
    "\"\"\", engine)"
   ]
  },
  {
   "cell_type": "code",
   "execution_count": 28,
   "id": "765a1aa2",
   "metadata": {},
   "outputs": [],
   "source": [
    "# Let's rename two columns:\n",
    "\n",
    "mysql_df = mysql_df.rename(columns = {\n",
    "    \"neighborhood_name\": \"neighborhood\",\n",
    "    \"district_name\": \"district\"\n",
    "       })"
   ]
  },
  {
   "cell_type": "code",
   "execution_count": 29,
   "id": "802e5659",
   "metadata": {},
   "outputs": [],
   "source": [
    "mysql_df[\"log_buy_price\"] = np.log10(mysql_df.buy_price)"
   ]
  },
  {
   "cell_type": "code",
   "execution_count": 20,
   "id": "0ee62dc6",
   "metadata": {},
   "outputs": [
    {
     "data": {
      "text/html": [
       "<div>\n",
       "<style scoped>\n",
       "    .dataframe tbody tr th:only-of-type {\n",
       "        vertical-align: middle;\n",
       "    }\n",
       "\n",
       "    .dataframe tbody tr th {\n",
       "        vertical-align: top;\n",
       "    }\n",
       "\n",
       "    .dataframe thead th {\n",
       "        text-align: right;\n",
       "    }\n",
       "</style>\n",
       "<table border=\"1\" class=\"dataframe\">\n",
       "  <thead>\n",
       "    <tr style=\"text-align: right;\">\n",
       "      <th></th>\n",
       "      <th>sq_mt_built</th>\n",
       "      <th>n_rooms</th>\n",
       "      <th>n_bathrooms</th>\n",
       "      <th>latitude</th>\n",
       "      <th>longitude</th>\n",
       "      <th>is_new_development</th>\n",
       "      <th>is_renewal_needed</th>\n",
       "      <th>has_lift</th>\n",
       "      <th>is_exterior</th>\n",
       "      <th>has_parking</th>\n",
       "      <th>floor</th>\n",
       "      <th>house_type_id</th>\n",
       "      <th>value_m2</th>\n",
       "      <th>neighborhood</th>\n",
       "      <th>district</th>\n",
       "      <th>buy_price</th>\n",
       "      <th>log_buy_price</th>\n",
       "    </tr>\n",
       "  </thead>\n",
       "  <tbody>\n",
       "    <tr>\n",
       "      <th>0</th>\n",
       "      <td>51.0</td>\n",
       "      <td>1</td>\n",
       "      <td>1</td>\n",
       "      <td>40.3472</td>\n",
       "      <td>-3.70438</td>\n",
       "      <td>1</td>\n",
       "      <td>0</td>\n",
       "      <td>1</td>\n",
       "      <td>1</td>\n",
       "      <td>1</td>\n",
       "      <td>3.0</td>\n",
       "      <td>0</td>\n",
       "      <td>1617.18</td>\n",
       "      <td>San Andrés</td>\n",
       "      <td>Villaverde</td>\n",
       "      <td>163000.0</td>\n",
       "      <td>5.212188</td>\n",
       "    </tr>\n",
       "    <tr>\n",
       "      <th>1</th>\n",
       "      <td>98.0</td>\n",
       "      <td>2</td>\n",
       "      <td>2</td>\n",
       "      <td>40.3606</td>\n",
       "      <td>-3.69252</td>\n",
       "      <td>1</td>\n",
       "      <td>0</td>\n",
       "      <td>1</td>\n",
       "      <td>1</td>\n",
       "      <td>1</td>\n",
       "      <td>0.0</td>\n",
       "      <td>0</td>\n",
       "      <td>1827.79</td>\n",
       "      <td>Los Rosales</td>\n",
       "      <td>Villaverde</td>\n",
       "      <td>294900.0</td>\n",
       "      <td>5.469675</td>\n",
       "    </tr>\n",
       "    <tr>\n",
       "      <th>2</th>\n",
       "      <td>110.0</td>\n",
       "      <td>3</td>\n",
       "      <td>2</td>\n",
       "      <td>40.3663</td>\n",
       "      <td>-3.68527</td>\n",
       "      <td>0</td>\n",
       "      <td>0</td>\n",
       "      <td>1</td>\n",
       "      <td>1</td>\n",
       "      <td>1</td>\n",
       "      <td>1.0</td>\n",
       "      <td>0</td>\n",
       "      <td>1912.80</td>\n",
       "      <td>San Fermín</td>\n",
       "      <td>Usera</td>\n",
       "      <td>239000.0</td>\n",
       "      <td>5.378398</td>\n",
       "    </tr>\n",
       "    <tr>\n",
       "      <th>3</th>\n",
       "      <td>64.0</td>\n",
       "      <td>3</td>\n",
       "      <td>1</td>\n",
       "      <td>40.3550</td>\n",
       "      <td>-3.69355</td>\n",
       "      <td>0</td>\n",
       "      <td>0</td>\n",
       "      <td>1</td>\n",
       "      <td>1</td>\n",
       "      <td>0</td>\n",
       "      <td>1.0</td>\n",
       "      <td>0</td>\n",
       "      <td>1796.68</td>\n",
       "      <td>Los Ángeles</td>\n",
       "      <td>Villaverde</td>\n",
       "      <td>115100.0</td>\n",
       "      <td>5.061075</td>\n",
       "    </tr>\n",
       "    <tr>\n",
       "      <th>4</th>\n",
       "      <td>95.0</td>\n",
       "      <td>3</td>\n",
       "      <td>1</td>\n",
       "      <td>40.3628</td>\n",
       "      <td>-3.69888</td>\n",
       "      <td>0</td>\n",
       "      <td>0</td>\n",
       "      <td>1</td>\n",
       "      <td>1</td>\n",
       "      <td>0</td>\n",
       "      <td>3.0</td>\n",
       "      <td>0</td>\n",
       "      <td>1796.68</td>\n",
       "      <td>Los Ángeles</td>\n",
       "      <td>Villaverde</td>\n",
       "      <td>152000.0</td>\n",
       "      <td>5.181844</td>\n",
       "    </tr>\n",
       "  </tbody>\n",
       "</table>\n",
       "</div>"
      ],
      "text/plain": [
       "   sq_mt_built  n_rooms  n_bathrooms  latitude  longitude  is_new_development  \\\n",
       "0         51.0        1            1   40.3472   -3.70438                   1   \n",
       "1         98.0        2            2   40.3606   -3.69252                   1   \n",
       "2        110.0        3            2   40.3663   -3.68527                   0   \n",
       "3         64.0        3            1   40.3550   -3.69355                   0   \n",
       "4         95.0        3            1   40.3628   -3.69888                   0   \n",
       "\n",
       "   is_renewal_needed  has_lift  is_exterior  has_parking  floor  \\\n",
       "0                  0         1            1            1    3.0   \n",
       "1                  0         1            1            1    0.0   \n",
       "2                  0         1            1            1    1.0   \n",
       "3                  0         1            1            0    1.0   \n",
       "4                  0         1            1            0    3.0   \n",
       "\n",
       "   house_type_id  value_m2 neighborhood    district  buy_price  log_buy_price  \n",
       "0              0   1617.18   San Andrés  Villaverde   163000.0       5.212188  \n",
       "1              0   1827.79  Los Rosales  Villaverde   294900.0       5.469675  \n",
       "2              0   1912.80   San Fermín       Usera   239000.0       5.378398  \n",
       "3              0   1796.68  Los Ángeles  Villaverde   115100.0       5.061075  \n",
       "4              0   1796.68  Los Ángeles  Villaverde   152000.0       5.181844  "
      ]
     },
     "execution_count": 20,
     "metadata": {},
     "output_type": "execute_result"
    }
   ],
   "source": [
    "mysql_df.head()"
   ]
  },
  {
   "cell_type": "code",
   "execution_count": 30,
   "id": "7c6c5a27",
   "metadata": {},
   "outputs": [],
   "source": [
    "# Export data to CSV:\n",
    "\n",
    "mysql_df.to_csv(\"./data/mysql_df_log.csv\", index = False)"
   ]
  },
  {
   "cell_type": "code",
   "execution_count": 31,
   "id": "9a6816ff",
   "metadata": {},
   "outputs": [],
   "source": [
    "# Droping columns innecesary columns\n",
    "\n",
    "mysql_df.drop(\"buy_price\", axis=1, inplace=True)"
   ]
  },
  {
   "cell_type": "code",
   "execution_count": 33,
   "id": "e5595a61",
   "metadata": {},
   "outputs": [
    {
     "data": {
      "text/plain": [
       "Index(['sq_mt_built', 'n_rooms', 'n_bathrooms', 'latitude', 'longitude',\n",
       "       'is_new_development', 'is_renewal_needed', 'has_lift', 'is_exterior',\n",
       "       'has_parking', 'floor', 'house_type_id', 'value_m2', 'neighborhood',\n",
       "       'district', 'log_buy_price'],\n",
       "      dtype='object')"
      ]
     },
     "execution_count": 33,
     "metadata": {},
     "output_type": "execute_result"
    }
   ],
   "source": [
    "mysql_df.columns"
   ]
  },
  {
   "cell_type": "code",
   "execution_count": 36,
   "id": "e3970e4f",
   "metadata": {},
   "outputs": [
    {
     "name": "stdout",
     "output_type": "stream",
     "text": [
      "Checking whether there is an H2O instance running at http://localhost:54321 . connected.\n"
     ]
    },
    {
     "data": {
      "text/html": [
       "<div style=\"overflow:auto\"><table style=\"width:50%\"><tr><td>H2O_cluster_uptime:</td>\n",
       "<td>6 hours 50 mins</td></tr>\n",
       "<tr><td>H2O_cluster_timezone:</td>\n",
       "<td>Europe/Madrid</td></tr>\n",
       "<tr><td>H2O_data_parsing_timezone:</td>\n",
       "<td>UTC</td></tr>\n",
       "<tr><td>H2O_cluster_version:</td>\n",
       "<td>3.32.1.4</td></tr>\n",
       "<tr><td>H2O_cluster_version_age:</td>\n",
       "<td>20 days </td></tr>\n",
       "<tr><td>H2O_cluster_name:</td>\n",
       "<td>H2O_from_python_ccastrob_7q9g6e</td></tr>\n",
       "<tr><td>H2O_cluster_total_nodes:</td>\n",
       "<td>1</td></tr>\n",
       "<tr><td>H2O_cluster_free_memory:</td>\n",
       "<td>2.982 Gb</td></tr>\n",
       "<tr><td>H2O_cluster_total_cores:</td>\n",
       "<td>12</td></tr>\n",
       "<tr><td>H2O_cluster_allowed_cores:</td>\n",
       "<td>12</td></tr>\n",
       "<tr><td>H2O_cluster_status:</td>\n",
       "<td>locked, healthy</td></tr>\n",
       "<tr><td>H2O_connection_url:</td>\n",
       "<td>http://localhost:54321</td></tr>\n",
       "<tr><td>H2O_connection_proxy:</td>\n",
       "<td>{\"http\": null, \"https\": null}</td></tr>\n",
       "<tr><td>H2O_internal_security:</td>\n",
       "<td>False</td></tr>\n",
       "<tr><td>H2O_API_Extensions:</td>\n",
       "<td>Amazon S3, XGBoost, Algos, AutoML, Core V3, TargetEncoder, Core V4</td></tr>\n",
       "<tr><td>Python_version:</td>\n",
       "<td>3.8.5 final</td></tr></table></div>"
      ],
      "text/plain": [
       "--------------------------  ------------------------------------------------------------------\n",
       "H2O_cluster_uptime:         6 hours 50 mins\n",
       "H2O_cluster_timezone:       Europe/Madrid\n",
       "H2O_data_parsing_timezone:  UTC\n",
       "H2O_cluster_version:        3.32.1.4\n",
       "H2O_cluster_version_age:    20 days\n",
       "H2O_cluster_name:           H2O_from_python_ccastrob_7q9g6e\n",
       "H2O_cluster_total_nodes:    1\n",
       "H2O_cluster_free_memory:    2.982 Gb\n",
       "H2O_cluster_total_cores:    12\n",
       "H2O_cluster_allowed_cores:  12\n",
       "H2O_cluster_status:         locked, healthy\n",
       "H2O_connection_url:         http://localhost:54321\n",
       "H2O_connection_proxy:       {\"http\": null, \"https\": null}\n",
       "H2O_internal_security:      False\n",
       "H2O_API_Extensions:         Amazon S3, XGBoost, Algos, AutoML, Core V3, TargetEncoder, Core V4\n",
       "Python_version:             3.8.5 final\n",
       "--------------------------  ------------------------------------------------------------------"
      ]
     },
     "metadata": {},
     "output_type": "display_data"
    }
   ],
   "source": [
    "h2o.init()"
   ]
  },
  {
   "cell_type": "code",
   "execution_count": 37,
   "id": "5b9c3325",
   "metadata": {},
   "outputs": [
    {
     "name": "stdout",
     "output_type": "stream",
     "text": [
      "Parse progress: |█████████████████████████████████████████████████████████| 100%\n"
     ]
    }
   ],
   "source": [
    "# Let's split data:\n",
    "\n",
    "h2o_df = h2o.H2OFrame(mysql_df)\n",
    "train_h2o, test_h2o = h2o_df.split_frame(ratios=[0.8])"
   ]
  },
  {
   "cell_type": "code",
   "execution_count": 38,
   "id": "472e1eb1",
   "metadata": {},
   "outputs": [],
   "source": [
    "y_cols = \"log_buy_price\"\n",
    "X_cols = train_h2o.drop(\"log_buy_price\", axis=1).columns"
   ]
  },
  {
   "cell_type": "code",
   "execution_count": 39,
   "id": "cf16e6ef",
   "metadata": {},
   "outputs": [
    {
     "name": "stdout",
     "output_type": "stream",
     "text": [
      "AutoML progress: |███████████████████████████████████████████Failed polling AutoML progress log: Unexpected HTTP error: ('Connection aborted.', RemoteDisconnected('Remote end closed connection without response'))\n",
      "█████████████| 100%\n"
     ]
    }
   ],
   "source": [
    "automl = H2OAutoML(max_models=250, max_runtime_secs=6000)\n",
    "automl.train(x=X_cols, y=y_cols, training_frame=train_h2o)"
   ]
  },
  {
   "cell_type": "code",
   "execution_count": 40,
   "id": "b69f36cd",
   "metadata": {},
   "outputs": [
    {
     "data": {
      "text/html": [
       "<table>\n",
       "<thead>\n",
       "<tr><th>model_id                                       </th><th style=\"text-align: right;\">  mean_residual_deviance</th><th style=\"text-align: right;\">     rmse</th><th style=\"text-align: right;\">       mse</th><th style=\"text-align: right;\">      mae</th><th style=\"text-align: right;\">    rmsle</th></tr>\n",
       "</thead>\n",
       "<tbody>\n",
       "<tr><td>GBM_grid__1_AutoML_20210728_185537_model_16    </td><td style=\"text-align: right;\">              0.00572694</td><td style=\"text-align: right;\">0.0756765</td><td style=\"text-align: right;\">0.00572694</td><td style=\"text-align: right;\">0.0558204</td><td style=\"text-align: right;\">0.0115426</td></tr>\n",
       "<tr><td>GBM_grid__1_AutoML_20210728_185537_model_25    </td><td style=\"text-align: right;\">              0.00586993</td><td style=\"text-align: right;\">0.0766155</td><td style=\"text-align: right;\">0.00586993</td><td style=\"text-align: right;\">0.0560973</td><td style=\"text-align: right;\">0.0116792</td></tr>\n",
       "<tr><td>GBM_grid__1_AutoML_20210728_185537_model_29    </td><td style=\"text-align: right;\">              0.00587707</td><td style=\"text-align: right;\">0.076662 </td><td style=\"text-align: right;\">0.00587707</td><td style=\"text-align: right;\">0.0562192</td><td style=\"text-align: right;\">0.0116837</td></tr>\n",
       "<tr><td>XGBoost_grid__1_AutoML_20210728_185537_model_26</td><td style=\"text-align: right;\">              0.00591612</td><td style=\"text-align: right;\">0.0769163</td><td style=\"text-align: right;\">0.00591612</td><td style=\"text-align: right;\">0.056948 </td><td style=\"text-align: right;\">0.0117409</td></tr>\n",
       "<tr><td>GBM_grid__1_AutoML_20210728_185537_model_8     </td><td style=\"text-align: right;\">              0.00592494</td><td style=\"text-align: right;\">0.0769737</td><td style=\"text-align: right;\">0.00592494</td><td style=\"text-align: right;\">0.0559579</td><td style=\"text-align: right;\">0.0117446</td></tr>\n",
       "<tr><td>GBM_grid__1_AutoML_20210728_185537_model_60    </td><td style=\"text-align: right;\">              0.00592944</td><td style=\"text-align: right;\">0.0770029</td><td style=\"text-align: right;\">0.00592944</td><td style=\"text-align: right;\">0.0566777</td><td style=\"text-align: right;\">0.0117477</td></tr>\n",
       "<tr><td>XGBoost_grid__1_AutoML_20210728_185537_model_13</td><td style=\"text-align: right;\">              0.0059327 </td><td style=\"text-align: right;\">0.077024 </td><td style=\"text-align: right;\">0.0059327 </td><td style=\"text-align: right;\">0.0568652</td><td style=\"text-align: right;\">0.0117601</td></tr>\n",
       "<tr><td>GBM_grid__1_AutoML_20210728_185537_model_93    </td><td style=\"text-align: right;\">              0.0059337 </td><td style=\"text-align: right;\">0.0770305</td><td style=\"text-align: right;\">0.0059337 </td><td style=\"text-align: right;\">0.0560842</td><td style=\"text-align: right;\">0.0117454</td></tr>\n",
       "<tr><td>GBM_grid__1_AutoML_20210728_185537_model_72    </td><td style=\"text-align: right;\">              0.00593578</td><td style=\"text-align: right;\">0.077044 </td><td style=\"text-align: right;\">0.00593578</td><td style=\"text-align: right;\">0.0558951</td><td style=\"text-align: right;\">0.0117511</td></tr>\n",
       "<tr><td>XGBoost_grid__1_AutoML_20210728_185537_model_8 </td><td style=\"text-align: right;\">              0.00593615</td><td style=\"text-align: right;\">0.0770464</td><td style=\"text-align: right;\">0.00593615</td><td style=\"text-align: right;\">0.0563745</td><td style=\"text-align: right;\">0.0117731</td></tr>\n",
       "</tbody>\n",
       "</table>"
      ]
     },
     "metadata": {},
     "output_type": "display_data"
    },
    {
     "data": {
      "text/plain": []
     },
     "execution_count": 40,
     "metadata": {},
     "output_type": "execute_result"
    }
   ],
   "source": [
    "lb = automl.leaderboard\n",
    "lb.head()"
   ]
  },
  {
   "cell_type": "code",
   "execution_count": 41,
   "id": "1ee78707",
   "metadata": {},
   "outputs": [
    {
     "name": "stdout",
     "output_type": "stream",
     "text": [
      "/mnt/c/Users/chris/ironhack_labs/Weekend-projects/tu_pisito/models/GBM_grid__1_AutoML_20210728_185537_model_16\n"
     ]
    }
   ],
   "source": [
    "model_path = h2o.save_model(model=automl.leader, path=\"../models\", force=True)\n",
    "print(model_path)"
   ]
  },
  {
   "cell_type": "markdown",
   "id": "861e05b7",
   "metadata": {},
   "source": [
    "#### Testing model:"
   ]
  },
  {
   "cell_type": "code",
   "execution_count": 42,
   "id": "e70477a3",
   "metadata": {},
   "outputs": [],
   "source": [
    "token = i_func.get_idealista_token()"
   ]
  },
  {
   "cell_type": "code",
   "execution_count": 44,
   "id": "d0c25002",
   "metadata": {},
   "outputs": [],
   "source": [
    "latitude = 40.45827074567995\n",
    "longitude = -3.6907973233431846\n",
    "latlon = str(latitude) + \",\" + str(longitude)"
   ]
  },
  {
   "cell_type": "code",
   "execution_count": 45,
   "id": "25037576",
   "metadata": {},
   "outputs": [],
   "source": [
    "result = i_func.idealista_request(token, latlon, 2000)"
   ]
  },
  {
   "cell_type": "code",
   "execution_count": 47,
   "id": "3b16d7d9",
   "metadata": {},
   "outputs": [],
   "source": [
    "df_mysql, df_pred = i_func.creating_dataframe(result)"
   ]
  },
  {
   "cell_type": "code",
   "execution_count": 53,
   "id": "4acd3613",
   "metadata": {},
   "outputs": [],
   "source": [
    "df_pred = df_pred.rename(columns = {\n",
    "\"house_type\": \"house_type_id\"\n",
    "   })"
   ]
  },
  {
   "cell_type": "code",
   "execution_count": 54,
   "id": "3f4ec8fb",
   "metadata": {},
   "outputs": [
    {
     "data": {
      "text/html": [
       "<div>\n",
       "<style scoped>\n",
       "    .dataframe tbody tr th:only-of-type {\n",
       "        vertical-align: middle;\n",
       "    }\n",
       "\n",
       "    .dataframe tbody tr th {\n",
       "        vertical-align: top;\n",
       "    }\n",
       "\n",
       "    .dataframe thead th {\n",
       "        text-align: right;\n",
       "    }\n",
       "</style>\n",
       "<table border=\"1\" class=\"dataframe\">\n",
       "  <thead>\n",
       "    <tr style=\"text-align: right;\">\n",
       "      <th></th>\n",
       "      <th>sq_mt_built</th>\n",
       "      <th>n_rooms</th>\n",
       "      <th>n_bathrooms</th>\n",
       "      <th>latitude</th>\n",
       "      <th>longitude</th>\n",
       "      <th>buy_price</th>\n",
       "      <th>is_new_development</th>\n",
       "      <th>is_renewal_needed</th>\n",
       "      <th>has_lift</th>\n",
       "      <th>is_exterior</th>\n",
       "      <th>has_parking</th>\n",
       "      <th>floor</th>\n",
       "      <th>house_type_id</th>\n",
       "      <th>value_m2</th>\n",
       "      <th>neighborhood</th>\n",
       "      <th>district</th>\n",
       "    </tr>\n",
       "  </thead>\n",
       "  <tbody>\n",
       "    <tr>\n",
       "      <th>0</th>\n",
       "      <td>182.0</td>\n",
       "      <td>3</td>\n",
       "      <td>3</td>\n",
       "      <td>40.470755</td>\n",
       "      <td>-3.676347</td>\n",
       "      <td>1400000.0</td>\n",
       "      <td>0</td>\n",
       "      <td>0</td>\n",
       "      <td>1</td>\n",
       "      <td>1</td>\n",
       "      <td>1</td>\n",
       "      <td>1.0</td>\n",
       "      <td>0</td>\n",
       "      <td>4354.35</td>\n",
       "      <td>Castilla</td>\n",
       "      <td>Chamartín</td>\n",
       "    </tr>\n",
       "    <tr>\n",
       "      <th>1</th>\n",
       "      <td>246.0</td>\n",
       "      <td>3</td>\n",
       "      <td>3</td>\n",
       "      <td>40.466451</td>\n",
       "      <td>-3.675714</td>\n",
       "      <td>795000.0</td>\n",
       "      <td>0</td>\n",
       "      <td>1</td>\n",
       "      <td>0</td>\n",
       "      <td>1</td>\n",
       "      <td>1</td>\n",
       "      <td>0.0</td>\n",
       "      <td>0</td>\n",
       "      <td>5363.75</td>\n",
       "      <td>Nueva España</td>\n",
       "      <td>Chamartín</td>\n",
       "    </tr>\n",
       "    <tr>\n",
       "      <th>2</th>\n",
       "      <td>234.0</td>\n",
       "      <td>6</td>\n",
       "      <td>3</td>\n",
       "      <td>40.461511</td>\n",
       "      <td>-3.692907</td>\n",
       "      <td>785000.0</td>\n",
       "      <td>0</td>\n",
       "      <td>0</td>\n",
       "      <td>1</td>\n",
       "      <td>1</td>\n",
       "      <td>0</td>\n",
       "      <td>3.0</td>\n",
       "      <td>0</td>\n",
       "      <td>4347.59</td>\n",
       "      <td>Cuzco-Castillejos</td>\n",
       "      <td>Tetuán</td>\n",
       "    </tr>\n",
       "    <tr>\n",
       "      <th>3</th>\n",
       "      <td>448.0</td>\n",
       "      <td>6</td>\n",
       "      <td>5</td>\n",
       "      <td>40.450447</td>\n",
       "      <td>-3.690518</td>\n",
       "      <td>2225000.0</td>\n",
       "      <td>0</td>\n",
       "      <td>0</td>\n",
       "      <td>1</td>\n",
       "      <td>1</td>\n",
       "      <td>1</td>\n",
       "      <td>4.0</td>\n",
       "      <td>0</td>\n",
       "      <td>6255.45</td>\n",
       "      <td>El Viso</td>\n",
       "      <td>Chamartín</td>\n",
       "    </tr>\n",
       "    <tr>\n",
       "      <th>4</th>\n",
       "      <td>81.0</td>\n",
       "      <td>1</td>\n",
       "      <td>1</td>\n",
       "      <td>40.450271</td>\n",
       "      <td>-3.686005</td>\n",
       "      <td>750000.0</td>\n",
       "      <td>0</td>\n",
       "      <td>0</td>\n",
       "      <td>1</td>\n",
       "      <td>1</td>\n",
       "      <td>0</td>\n",
       "      <td>1.0</td>\n",
       "      <td>0</td>\n",
       "      <td>6255.45</td>\n",
       "      <td>El Viso</td>\n",
       "      <td>Chamartín</td>\n",
       "    </tr>\n",
       "  </tbody>\n",
       "</table>\n",
       "</div>"
      ],
      "text/plain": [
       "   sq_mt_built  n_rooms  n_bathrooms   latitude  longitude  buy_price  \\\n",
       "0        182.0        3            3  40.470755  -3.676347  1400000.0   \n",
       "1        246.0        3            3  40.466451  -3.675714   795000.0   \n",
       "2        234.0        6            3  40.461511  -3.692907   785000.0   \n",
       "3        448.0        6            5  40.450447  -3.690518  2225000.0   \n",
       "4         81.0        1            1  40.450271  -3.686005   750000.0   \n",
       "\n",
       "   is_new_development  is_renewal_needed  has_lift  is_exterior  has_parking  \\\n",
       "0                   0                  0         1            1            1   \n",
       "1                   0                  1         0            1            1   \n",
       "2                   0                  0         1            1            0   \n",
       "3                   0                  0         1            1            1   \n",
       "4                   0                  0         1            1            0   \n",
       "\n",
       "   floor  house_type_id  value_m2       neighborhood   district  \n",
       "0    1.0              0   4354.35           Castilla  Chamartín  \n",
       "1    0.0              0   5363.75       Nueva España  Chamartín  \n",
       "2    3.0              0   4347.59  Cuzco-Castillejos     Tetuán  \n",
       "3    4.0              0   6255.45            El Viso  Chamartín  \n",
       "4    1.0              0   6255.45            El Viso  Chamartín  "
      ]
     },
     "execution_count": 54,
     "metadata": {},
     "output_type": "execute_result"
    }
   ],
   "source": [
    "df_pred.head()"
   ]
  },
  {
   "cell_type": "code",
   "execution_count": 51,
   "id": "f1fecb9b",
   "metadata": {},
   "outputs": [],
   "source": [
    "# Loading Model:\n",
    "\n",
    "saved_model = h2o.load_model(\"../models/GBM_grid__1_AutoML_20210728_185537_model_16\")"
   ]
  },
  {
   "cell_type": "code",
   "execution_count": 57,
   "id": "c89fa348",
   "metadata": {},
   "outputs": [
    {
     "name": "stdout",
     "output_type": "stream",
     "text": [
      "Parse progress: |█████████████████████████████████████████████████████████| 100%\n",
      "gbm prediction progress: |████████████████████████████████████████████████| 100%\n"
     ]
    }
   ],
   "source": [
    "h2o_df = h2o.H2OFrame(df_pred)\n",
    "predictions = saved_model.predict(h2o_df)\n",
    "h2o_df[\"prediction\"] = predictions"
   ]
  },
  {
   "cell_type": "code",
   "execution_count": 59,
   "id": "8627dc2f",
   "metadata": {},
   "outputs": [],
   "source": [
    "final_df = h2o_df.as_data_frame()\n",
    "final_df[\"buy_prediction\"] = 10**final_df.prediction\n",
    "final_df = final_df.astype({\"buy_prediction\": int})"
   ]
  },
  {
   "cell_type": "code",
   "execution_count": 60,
   "id": "71a85025",
   "metadata": {},
   "outputs": [],
   "source": [
    "final_df[\"error\"] = final_df[\"buy_price\"] - final_df[\"buy_prediction\"]\n",
    "final_df[\"abs_error\"] = abs(final_df[\"buy_price\"] - final_df[\"buy_prediction\"])\n",
    "final_df[\"per_error\"] = (final_df[\"error\"] / final_df[\"buy_price\"]) * 100\n",
    "final_df[\"per_abs_error\"] = (final_df[\"abs_error\"] / final_df[\"buy_price\"]) * 100\n",
    "final_df[\"good_purchase\"] = final_df[\"error\"] < 0"
   ]
  },
  {
   "cell_type": "code",
   "execution_count": 61,
   "id": "bad4003a",
   "metadata": {},
   "outputs": [
    {
     "data": {
      "text/html": [
       "<div>\n",
       "<style scoped>\n",
       "    .dataframe tbody tr th:only-of-type {\n",
       "        vertical-align: middle;\n",
       "    }\n",
       "\n",
       "    .dataframe tbody tr th {\n",
       "        vertical-align: top;\n",
       "    }\n",
       "\n",
       "    .dataframe thead th {\n",
       "        text-align: right;\n",
       "    }\n",
       "</style>\n",
       "<table border=\"1\" class=\"dataframe\">\n",
       "  <thead>\n",
       "    <tr style=\"text-align: right;\">\n",
       "      <th></th>\n",
       "      <th>buy_price</th>\n",
       "      <th>prediction</th>\n",
       "      <th>error</th>\n",
       "      <th>per_error</th>\n",
       "      <th>good_purchase</th>\n",
       "      <th>abs_error</th>\n",
       "      <th>per_abs_error</th>\n",
       "      <th>buy_prediction</th>\n",
       "    </tr>\n",
       "  </thead>\n",
       "  <tbody>\n",
       "    <tr>\n",
       "      <th>5</th>\n",
       "      <td>550000</td>\n",
       "      <td>5.762165</td>\n",
       "      <td>-28315</td>\n",
       "      <td>-5.148182</td>\n",
       "      <td>True</td>\n",
       "      <td>28315</td>\n",
       "      <td>5.148182</td>\n",
       "      <td>578315</td>\n",
       "    </tr>\n",
       "    <tr>\n",
       "      <th>19</th>\n",
       "      <td>880000</td>\n",
       "      <td>6.009130</td>\n",
       "      <td>-141244</td>\n",
       "      <td>-16.050455</td>\n",
       "      <td>True</td>\n",
       "      <td>141244</td>\n",
       "      <td>16.050455</td>\n",
       "      <td>1021244</td>\n",
       "    </tr>\n",
       "    <tr>\n",
       "      <th>8</th>\n",
       "      <td>2340000</td>\n",
       "      <td>6.317261</td>\n",
       "      <td>263841</td>\n",
       "      <td>11.275256</td>\n",
       "      <td>False</td>\n",
       "      <td>263841</td>\n",
       "      <td>11.275256</td>\n",
       "      <td>2076159</td>\n",
       "    </tr>\n",
       "    <tr>\n",
       "      <th>12</th>\n",
       "      <td>795000</td>\n",
       "      <td>5.890824</td>\n",
       "      <td>17279</td>\n",
       "      <td>2.173459</td>\n",
       "      <td>False</td>\n",
       "      <td>17279</td>\n",
       "      <td>2.173459</td>\n",
       "      <td>777721</td>\n",
       "    </tr>\n",
       "    <tr>\n",
       "      <th>9</th>\n",
       "      <td>5800000</td>\n",
       "      <td>6.601917</td>\n",
       "      <td>1801316</td>\n",
       "      <td>31.057172</td>\n",
       "      <td>False</td>\n",
       "      <td>1801316</td>\n",
       "      <td>31.057172</td>\n",
       "      <td>3998684</td>\n",
       "    </tr>\n",
       "    <tr>\n",
       "      <th>18</th>\n",
       "      <td>425000</td>\n",
       "      <td>5.652715</td>\n",
       "      <td>-24485</td>\n",
       "      <td>-5.761176</td>\n",
       "      <td>True</td>\n",
       "      <td>24485</td>\n",
       "      <td>5.761176</td>\n",
       "      <td>449485</td>\n",
       "    </tr>\n",
       "    <tr>\n",
       "      <th>13</th>\n",
       "      <td>2600000</td>\n",
       "      <td>6.371918</td>\n",
       "      <td>245396</td>\n",
       "      <td>9.438308</td>\n",
       "      <td>False</td>\n",
       "      <td>245396</td>\n",
       "      <td>9.438308</td>\n",
       "      <td>2354604</td>\n",
       "    </tr>\n",
       "    <tr>\n",
       "      <th>3</th>\n",
       "      <td>2225000</td>\n",
       "      <td>6.379782</td>\n",
       "      <td>-172627</td>\n",
       "      <td>-7.758517</td>\n",
       "      <td>True</td>\n",
       "      <td>172627</td>\n",
       "      <td>7.758517</td>\n",
       "      <td>2397627</td>\n",
       "    </tr>\n",
       "    <tr>\n",
       "      <th>11</th>\n",
       "      <td>590000</td>\n",
       "      <td>5.730505</td>\n",
       "      <td>52344</td>\n",
       "      <td>8.871864</td>\n",
       "      <td>False</td>\n",
       "      <td>52344</td>\n",
       "      <td>8.871864</td>\n",
       "      <td>537656</td>\n",
       "    </tr>\n",
       "    <tr>\n",
       "      <th>0</th>\n",
       "      <td>1400000</td>\n",
       "      <td>6.014965</td>\n",
       "      <td>364941</td>\n",
       "      <td>26.067214</td>\n",
       "      <td>False</td>\n",
       "      <td>364941</td>\n",
       "      <td>26.067214</td>\n",
       "      <td>1035059</td>\n",
       "    </tr>\n",
       "    <tr>\n",
       "      <th>1</th>\n",
       "      <td>795000</td>\n",
       "      <td>5.972134</td>\n",
       "      <td>-142852</td>\n",
       "      <td>-17.968805</td>\n",
       "      <td>True</td>\n",
       "      <td>142852</td>\n",
       "      <td>17.968805</td>\n",
       "      <td>937852</td>\n",
       "    </tr>\n",
       "    <tr>\n",
       "      <th>10</th>\n",
       "      <td>800000</td>\n",
       "      <td>5.889712</td>\n",
       "      <td>24268</td>\n",
       "      <td>3.033500</td>\n",
       "      <td>False</td>\n",
       "      <td>24268</td>\n",
       "      <td>3.033500</td>\n",
       "      <td>775732</td>\n",
       "    </tr>\n",
       "    <tr>\n",
       "      <th>7</th>\n",
       "      <td>1845000</td>\n",
       "      <td>6.185234</td>\n",
       "      <td>313086</td>\n",
       "      <td>16.969431</td>\n",
       "      <td>False</td>\n",
       "      <td>313086</td>\n",
       "      <td>16.969431</td>\n",
       "      <td>1531914</td>\n",
       "    </tr>\n",
       "    <tr>\n",
       "      <th>16</th>\n",
       "      <td>259000</td>\n",
       "      <td>5.370253</td>\n",
       "      <td>24441</td>\n",
       "      <td>9.436680</td>\n",
       "      <td>False</td>\n",
       "      <td>24441</td>\n",
       "      <td>9.436680</td>\n",
       "      <td>234559</td>\n",
       "    </tr>\n",
       "    <tr>\n",
       "      <th>4</th>\n",
       "      <td>750000</td>\n",
       "      <td>5.860387</td>\n",
       "      <td>24919</td>\n",
       "      <td>3.322533</td>\n",
       "      <td>False</td>\n",
       "      <td>24919</td>\n",
       "      <td>3.322533</td>\n",
       "      <td>725081</td>\n",
       "    </tr>\n",
       "    <tr>\n",
       "      <th>2</th>\n",
       "      <td>785000</td>\n",
       "      <td>5.986685</td>\n",
       "      <td>-184807</td>\n",
       "      <td>-23.542293</td>\n",
       "      <td>True</td>\n",
       "      <td>184807</td>\n",
       "      <td>23.542293</td>\n",
       "      <td>969807</td>\n",
       "    </tr>\n",
       "    <tr>\n",
       "      <th>17</th>\n",
       "      <td>2295000</td>\n",
       "      <td>6.364798</td>\n",
       "      <td>-21315</td>\n",
       "      <td>-0.928758</td>\n",
       "      <td>True</td>\n",
       "      <td>21315</td>\n",
       "      <td>0.928758</td>\n",
       "      <td>2316315</td>\n",
       "    </tr>\n",
       "    <tr>\n",
       "      <th>6</th>\n",
       "      <td>1100000</td>\n",
       "      <td>5.941810</td>\n",
       "      <td>225398</td>\n",
       "      <td>20.490727</td>\n",
       "      <td>False</td>\n",
       "      <td>225398</td>\n",
       "      <td>20.490727</td>\n",
       "      <td>874602</td>\n",
       "    </tr>\n",
       "    <tr>\n",
       "      <th>14</th>\n",
       "      <td>1300000</td>\n",
       "      <td>6.060602</td>\n",
       "      <td>150255</td>\n",
       "      <td>11.558077</td>\n",
       "      <td>False</td>\n",
       "      <td>150255</td>\n",
       "      <td>11.558077</td>\n",
       "      <td>1149745</td>\n",
       "    </tr>\n",
       "    <tr>\n",
       "      <th>15</th>\n",
       "      <td>1300000</td>\n",
       "      <td>6.027776</td>\n",
       "      <td>233954</td>\n",
       "      <td>17.996462</td>\n",
       "      <td>False</td>\n",
       "      <td>233954</td>\n",
       "      <td>17.996462</td>\n",
       "      <td>1066046</td>\n",
       "    </tr>\n",
       "  </tbody>\n",
       "</table>\n",
       "</div>"
      ],
      "text/plain": [
       "    buy_price  prediction    error  per_error  good_purchase  abs_error  \\\n",
       "5      550000    5.762165   -28315  -5.148182           True      28315   \n",
       "19     880000    6.009130  -141244 -16.050455           True     141244   \n",
       "8     2340000    6.317261   263841  11.275256          False     263841   \n",
       "12     795000    5.890824    17279   2.173459          False      17279   \n",
       "9     5800000    6.601917  1801316  31.057172          False    1801316   \n",
       "18     425000    5.652715   -24485  -5.761176           True      24485   \n",
       "13    2600000    6.371918   245396   9.438308          False     245396   \n",
       "3     2225000    6.379782  -172627  -7.758517           True     172627   \n",
       "11     590000    5.730505    52344   8.871864          False      52344   \n",
       "0     1400000    6.014965   364941  26.067214          False     364941   \n",
       "1      795000    5.972134  -142852 -17.968805           True     142852   \n",
       "10     800000    5.889712    24268   3.033500          False      24268   \n",
       "7     1845000    6.185234   313086  16.969431          False     313086   \n",
       "16     259000    5.370253    24441   9.436680          False      24441   \n",
       "4      750000    5.860387    24919   3.322533          False      24919   \n",
       "2      785000    5.986685  -184807 -23.542293           True     184807   \n",
       "17    2295000    6.364798   -21315  -0.928758           True      21315   \n",
       "6     1100000    5.941810   225398  20.490727          False     225398   \n",
       "14    1300000    6.060602   150255  11.558077          False     150255   \n",
       "15    1300000    6.027776   233954  17.996462          False     233954   \n",
       "\n",
       "    per_abs_error  buy_prediction  \n",
       "5        5.148182          578315  \n",
       "19      16.050455         1021244  \n",
       "8       11.275256         2076159  \n",
       "12       2.173459          777721  \n",
       "9       31.057172         3998684  \n",
       "18       5.761176          449485  \n",
       "13       9.438308         2354604  \n",
       "3        7.758517         2397627  \n",
       "11       8.871864          537656  \n",
       "0       26.067214         1035059  \n",
       "1       17.968805          937852  \n",
       "10       3.033500          775732  \n",
       "7       16.969431         1531914  \n",
       "16       9.436680          234559  \n",
       "4        3.322533          725081  \n",
       "2       23.542293          969807  \n",
       "17       0.928758         2316315  \n",
       "6       20.490727          874602  \n",
       "14      11.558077         1149745  \n",
       "15      17.996462         1066046  "
      ]
     },
     "execution_count": 61,
     "metadata": {},
     "output_type": "execute_result"
    }
   ],
   "source": [
    "cols = [\"buy_price\", \"prediction\", \"error\", \"per_error\", \"good_purchase\", \"abs_error\", \"per_abs_error\", \"buy_prediction\"]\n",
    "final_df[cols].sample(20)"
   ]
  },
  {
   "cell_type": "code",
   "execution_count": 62,
   "id": "31e68cfe",
   "metadata": {},
   "outputs": [
    {
     "data": {
      "text/plain": [
       "12.442443485505226"
      ]
     },
     "execution_count": 62,
     "metadata": {},
     "output_type": "execute_result"
    }
   ],
   "source": [
    "final_df.per_abs_error.mean()"
   ]
  },
  {
   "cell_type": "code",
   "execution_count": 65,
   "id": "6441b5c8",
   "metadata": {},
   "outputs": [
    {
     "data": {
      "text/plain": [
       "<AxesSubplot:xlabel='buy_price', ylabel='per_error'>"
      ]
     },
     "execution_count": 65,
     "metadata": {},
     "output_type": "execute_result"
    },
    {
     "data": {
      "image/png": "[encoded data removed]",
      "text/plain": [
       "<Figure size 432x288 with 1 Axes>"
      ]
     },
     "metadata": {
      "needs_background": "light"
     },
     "output_type": "display_data"
    }
   ],
   "source": [
    "sns.histplot(x=final_df[\"buy_price\"], y=final_df[\"per_error\"])"
   ]
  },
  {
   "cell_type": "code",
   "execution_count": 66,
   "id": "c0b8c194",
   "metadata": {},
   "outputs": [
    {
     "data": {
      "text/plain": [
       "<AxesSubplot:xlabel='buy_price', ylabel='per_abs_error'>"
      ]
     },
     "execution_count": 66,
     "metadata": {},
     "output_type": "execute_result"
    },
    {
     "data": {
      "image/png": "[encoded data removed]",
      "text/plain": [
       "<Figure size 432x288 with 1 Axes>"
      ]
     },
     "metadata": {
      "needs_background": "light"
     },
     "output_type": "display_data"
    }
   ],
   "source": [
    "sns.scatterplot(x=final_df[\"buy_price\"], y=final_df[\"per_abs_error\"])"
   ]
  },
  {
   "cell_type": "code",
   "execution_count": null,
   "id": "3cd678ea",
   "metadata": {},
   "outputs": [],
   "source": []
  }
 ],
 "metadata": {
  "kernelspec": {
   "display_name": "ironhack",
   "language": "python",
   "name": "ironhack"
  },
  "language_info": {
   "codemirror_mode": {
    "name": "ipython",
    "version": 3
   },
   "file_extension": ".py",
   "mimetype": "text/x-python",
   "name": "python",
   "nbconvert_exporter": "python",
   "pygments_lexer": "ipython3",
   "version": "3.8.5"
  }
 },
 "nbformat": 4,
 "nbformat_minor": 5
}
