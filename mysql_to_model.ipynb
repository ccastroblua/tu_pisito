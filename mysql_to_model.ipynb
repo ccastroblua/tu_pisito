{
 "cells": [
  {
   "cell_type": "code",
   "execution_count": 1,
   "id": "32d2a1cc",
   "metadata": {},
   "outputs": [
    {
     "name": "stdout",
     "output_type": "stream",
     "text": [
      "Conectado a mysql / base de datos: tu_pisito\n"
     ]
    }
   ],
   "source": [
    "from config.configuration import engine\n",
    "from tools import idealista_functions as i_func\n",
    "import pandas as pd"
   ]
  },
  {
   "cell_type": "code",
   "execution_count": null,
   "id": "75dff61b",
   "metadata": {},
   "outputs": [],
   "source": [
    "mysql_df = pd.read_sql_query(\n",
    "f\"\"\"\n",
    "SELECT sq_mt_built, \n",
    "        n_rooms, \n",
    "        n_bathrooms, \n",
    "        apartments.latitude, \n",
    "        apartments.longitude, \n",
    "        is_new_development, \n",
    "        is_renewal_needed, \n",
    "        has_lift, \n",
    "        is_exterior, \n",
    "        has_parking, \n",
    "        floor, \n",
    "        house_type_id,\n",
    "        value_m2,\n",
    "        neighborhood_name,\n",
    "        district_name,\n",
    "        buy_price\n",
    "FROM apartments\n",
    "LEFT JOIN neighborhoods\n",
    "ON apartments.neighborhood_id = neighborhoods.neighborhood_id\n",
    "LEFT JOIN districts\n",
    "ON neighborhoods.district_id = districts.district_id\n",
    "ORDER BY apartment_id DESC;\n",
    "\"\"\", engine)"
   ]
  }
 ],
 "metadata": {
  "kernelspec": {
   "display_name": "ironhack",
   "language": "python",
   "name": "ironhack"
  },
  "language_info": {
   "codemirror_mode": {
    "name": "ipython",
    "version": 3
   },
   "file_extension": ".py",
   "mimetype": "text/x-python",
   "name": "python",
   "nbconvert_exporter": "python",
   "pygments_lexer": "ipython3",
   "version": "3.8.5"
  }
 },
 "nbformat": 4,
 "nbformat_minor": 5
}
