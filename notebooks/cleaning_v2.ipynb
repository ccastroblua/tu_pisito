{
 "cells": [
  {
   "cell_type": "code",
   "execution_count": 187,
   "id": "0ccb74e3",
   "metadata": {},
   "outputs": [],
   "source": [
    "import pandas as pd\n",
    "import seaborn as sns"
   ]
  },
  {
   "cell_type": "code",
   "execution_count": 188,
   "id": "d8af3170",
   "metadata": {},
   "outputs": [],
   "source": [
    "df_madrid = pd.read_csv(\"../data/madrid-coordinates.csv\")"
   ]
  },
  {
   "cell_type": "code",
   "execution_count": 189,
   "id": "9a2af0f2",
   "metadata": {},
   "outputs": [
    {
     "data": {
      "text/plain": [
       "Index(['id', 'title', 'subtitle', 'sq_mt_built', 'sq_mt_useful', 'n_rooms',\n",
       "       'n_bathrooms', 'n_floors', 'sq_mt_allotment', 'latitude', 'longitude',\n",
       "       'raw_address', 'is_exact_address_hidden', 'street_name',\n",
       "       'street_number', 'portal', 'floor', 'is_floor_under', 'door',\n",
       "       'neighborhood_id', 'operation', 'rent_price', 'rent_price_by_area',\n",
       "       'is_rent_price_known', 'buy_price', 'buy_price_by_area',\n",
       "       'is_buy_price_known', 'house_type_id', 'is_renewal_needed',\n",
       "       'is_new_development', 'built_year', 'has_central_heating',\n",
       "       'has_individual_heating', 'are_pets_allowed', 'has_ac',\n",
       "       'has_fitted_wardrobes', 'has_lift', 'is_exterior', 'has_garden',\n",
       "       'has_pool', 'has_terrace', 'has_balcony', 'has_storage_room',\n",
       "       'is_furnished', 'is_kitchen_equipped', 'is_accessible',\n",
       "       'has_green_zones', 'energy_certificate', 'has_parking',\n",
       "       'has_private_parking', 'has_public_parking',\n",
       "       'is_parking_included_in_price', 'parking_price', 'is_orientation_north',\n",
       "       'is_orientation_west', 'is_orientation_south', 'is_orientation_east'],\n",
       "      dtype='object')"
      ]
     },
     "execution_count": 189,
     "metadata": {},
     "output_type": "execute_result"
    }
   ],
   "source": [
    "df_madrid.columns"
   ]
  },
  {
   "cell_type": "markdown",
   "id": "64d161ec",
   "metadata": {},
   "source": [
    "#### Columns to use:\n",
    "- sq_mt_built\n",
    "- sq_mt_useful\n",
    "- n_rooms\n",
    "- n_bathrooms\n",
    "- latitude\n",
    "- longitude\n",
    "- raw_address\n",
    "- neighborhood_id\n",
    "- buy_price\n",
    "- house_type_id\n",
    "- is_new_development\n",
    "- is_renewal_needed\n",
    "- has_lift\n",
    "- is_exterior\n",
    "- has_parking\n",
    "- floor"
   ]
  },
  {
   "cell_type": "code",
   "execution_count": 190,
   "id": "1de18791",
   "metadata": {},
   "outputs": [],
   "source": [
    "columns = [\"id\",\n",
    "            \"sq_mt_built\",\n",
    "          \"sq_mt_useful\",\n",
    "          \"n_rooms\",\n",
    "          \"n_bathrooms\",\n",
    "           \"latitude\",\n",
    "           \"longitude\",\n",
    "           \"raw_address\",\n",
    "           \"neighborhood_id\",\n",
    "           \"buy_price\",\n",
    "           \"house_type_id\",\n",
    "           \"is_new_development\",\n",
    "           \"is_renewal_needed\",\n",
    "           \"has_lift\",\n",
    "           \"is_exterior\",\n",
    "           \"has_parking\",\n",
    "           \"floor\"\n",
    "          ]"
   ]
  },
  {
   "cell_type": "code",
   "execution_count": 191,
   "id": "a72119e3",
   "metadata": {},
   "outputs": [],
   "source": [
    "new_madrid = df_madrid[columns]"
   ]
  },
  {
   "cell_type": "code",
   "execution_count": 170,
   "id": "6f2bdc0a",
   "metadata": {},
   "outputs": [
    {
     "name": "stdout",
     "output_type": "stream",
     "text": [
      "<class 'pandas.core.frame.DataFrame'>\n",
      "RangeIndex: 16277 entries, 0 to 16276\n",
      "Data columns (total 17 columns):\n",
      " #   Column              Non-Null Count  Dtype  \n",
      "---  ------              --------------  -----  \n",
      " 0   id                  16277 non-null  int64  \n",
      " 1   sq_mt_built         16216 non-null  float64\n",
      " 2   sq_mt_useful        6753 non-null   float64\n",
      " 3   n_rooms             16277 non-null  int64  \n",
      " 4   n_bathrooms         16264 non-null  float64\n",
      " 5   latitude            14266 non-null  float64\n",
      " 6   longitude           14266 non-null  float64\n",
      " 7   raw_address         16277 non-null  object \n",
      " 8   neighborhood_id     16277 non-null  object \n",
      " 9   buy_price           16277 non-null  int64  \n",
      " 10  house_type_id       15946 non-null  object \n",
      " 11  is_new_development  15514 non-null  object \n",
      " 12  is_renewal_needed   16277 non-null  bool   \n",
      " 13  has_lift            14955 non-null  object \n",
      " 14  is_exterior         14465 non-null  object \n",
      " 15  has_parking         16277 non-null  bool   \n",
      " 16  floor               14792 non-null  object \n",
      "dtypes: bool(2), float64(5), int64(3), object(7)\n",
      "memory usage: 1.9+ MB\n"
     ]
    }
   ],
   "source": [
    "new_madrid.info()"
   ]
  },
  {
   "cell_type": "markdown",
   "id": "89c94cb4",
   "metadata": {},
   "source": [
    "#### Let's filter by latitude and longitude:"
   ]
  },
  {
   "cell_type": "code",
   "execution_count": 192,
   "id": "b56e6c75",
   "metadata": {},
   "outputs": [],
   "source": [
    "new_madrid = new_madrid[(new_madrid.latitude > 40.34) & \n",
    "                      (new_madrid.latitude < 40.51) & \n",
    "                      (new_madrid.longitude > -3.8) & \n",
    "                      (new_madrid.longitude < -3.6)]"
   ]
  },
  {
   "cell_type": "markdown",
   "id": "f9f1ff8c",
   "metadata": {},
   "source": [
    "#### We can estimate \"useful square meters\" from the other apartments:"
   ]
  },
  {
   "cell_type": "markdown",
   "id": "64be673c",
   "metadata": {},
   "source": [
    "### Cleaning \"sq_mt_built\" and \"sq_mt_useful\":"
   ]
  },
  {
   "cell_type": "code",
   "execution_count": 193,
   "id": "a2580a8f",
   "metadata": {
    "scrolled": true
   },
   "outputs": [],
   "source": [
    "new_madrid[\"sq_mt_coef\"] = new_madrid[\"sq_mt_useful\"]/new_madrid[\"sq_mt_built\"]"
   ]
  },
  {
   "cell_type": "code",
   "execution_count": 194,
   "id": "5fd2d07c",
   "metadata": {},
   "outputs": [],
   "source": [
    "sq_mt_ratio = new_madrid[\"sq_mt_coef\"].mean()"
   ]
  },
  {
   "cell_type": "code",
   "execution_count": 195,
   "id": "7975e96c",
   "metadata": {},
   "outputs": [
    {
     "data": {
      "text/plain": [
       "0.856862301863558"
      ]
     },
     "execution_count": 195,
     "metadata": {},
     "output_type": "execute_result"
    }
   ],
   "source": [
    "sq_mt_ratio"
   ]
  },
  {
   "cell_type": "code",
   "execution_count": 196,
   "id": "8ec16743",
   "metadata": {},
   "outputs": [],
   "source": [
    "new_madrid[\"sq_mt_useful\"].fillna(round(new_madrid[\"sq_mt_built\"] * sq_mt_ratio, 2), inplace=True)"
   ]
  },
  {
   "cell_type": "code",
   "execution_count": 197,
   "id": "db0a8534",
   "metadata": {},
   "outputs": [],
   "source": [
    "new_madrid[\"sq_mt_built\"].fillna(round(new_madrid[\"sq_mt_useful\"] / sq_mt_ratio, 2), inplace=True)"
   ]
  },
  {
   "cell_type": "markdown",
   "id": "19c4745f",
   "metadata": {},
   "source": [
    "### Cleaning \"has_garden\", \"has_balcony\", \"has_pool\", \"has_terrace\", \"has_storage_room\":"
   ]
  },
  {
   "cell_type": "code",
   "execution_count": 198,
   "id": "bb505c64",
   "metadata": {},
   "outputs": [],
   "source": [
    "def clean_cols_has(df, column):\n",
    "    df[column].fillna(0, inplace=True)\n",
    "    df.loc[(df[column] == True), column] = 1\n",
    "    df[column] = df[column].astype(int)\n",
    "    return df"
   ]
  },
  {
   "cell_type": "code",
   "execution_count": 199,
   "id": "920ac4c6",
   "metadata": {},
   "outputs": [
    {
     "data": {
      "text/html": [
       "<div>\n",
       "<style scoped>\n",
       "    .dataframe tbody tr th:only-of-type {\n",
       "        vertical-align: middle;\n",
       "    }\n",
       "\n",
       "    .dataframe tbody tr th {\n",
       "        vertical-align: top;\n",
       "    }\n",
       "\n",
       "    .dataframe thead th {\n",
       "        text-align: right;\n",
       "    }\n",
       "</style>\n",
       "<table border=\"1\" class=\"dataframe\">\n",
       "  <thead>\n",
       "    <tr style=\"text-align: right;\">\n",
       "      <th></th>\n",
       "      <th>id</th>\n",
       "      <th>sq_mt_built</th>\n",
       "      <th>sq_mt_useful</th>\n",
       "      <th>n_rooms</th>\n",
       "      <th>n_bathrooms</th>\n",
       "      <th>latitude</th>\n",
       "      <th>longitude</th>\n",
       "      <th>raw_address</th>\n",
       "      <th>neighborhood_id</th>\n",
       "      <th>buy_price</th>\n",
       "      <th>house_type_id</th>\n",
       "      <th>is_new_development</th>\n",
       "      <th>is_renewal_needed</th>\n",
       "      <th>has_lift</th>\n",
       "      <th>is_exterior</th>\n",
       "      <th>has_parking</th>\n",
       "      <th>floor</th>\n",
       "      <th>sq_mt_coef</th>\n",
       "    </tr>\n",
       "  </thead>\n",
       "  <tbody>\n",
       "    <tr>\n",
       "      <th>0</th>\n",
       "      <td>21741</td>\n",
       "      <td>70.0</td>\n",
       "      <td>59.98</td>\n",
       "      <td>3</td>\n",
       "      <td>1.0</td>\n",
       "      <td>40.359340</td>\n",
       "      <td>-3.698374</td>\n",
       "      <td>Calle de la del Manojo de Rosas</td>\n",
       "      <td>Neighborhood 132: Los Ángeles (1796.68 €/m2) -...</td>\n",
       "      <td>129900</td>\n",
       "      <td>HouseType 1: Pisos</td>\n",
       "      <td>False</td>\n",
       "      <td>True</td>\n",
       "      <td>True</td>\n",
       "      <td>True</td>\n",
       "      <td>False</td>\n",
       "      <td>4</td>\n",
       "      <td>NaN</td>\n",
       "    </tr>\n",
       "    <tr>\n",
       "      <th>1</th>\n",
       "      <td>21740</td>\n",
       "      <td>94.0</td>\n",
       "      <td>54.00</td>\n",
       "      <td>2</td>\n",
       "      <td>2.0</td>\n",
       "      <td>40.344630</td>\n",
       "      <td>-3.715191</td>\n",
       "      <td>Calle del Talco, 68</td>\n",
       "      <td>Neighborhood 134: San Andrés (1617.18 €/m2) - ...</td>\n",
       "      <td>144247</td>\n",
       "      <td>HouseType 1: Pisos</td>\n",
       "      <td>False</td>\n",
       "      <td>False</td>\n",
       "      <td>True</td>\n",
       "      <td>True</td>\n",
       "      <td>False</td>\n",
       "      <td>1</td>\n",
       "      <td>0.574468</td>\n",
       "    </tr>\n",
       "    <tr>\n",
       "      <th>2</th>\n",
       "      <td>21738</td>\n",
       "      <td>108.0</td>\n",
       "      <td>90.00</td>\n",
       "      <td>2</td>\n",
       "      <td>2.0</td>\n",
       "      <td>40.357722</td>\n",
       "      <td>-3.685029</td>\n",
       "      <td>Carretera de Villaverde a Vallecas</td>\n",
       "      <td>Neighborhood 133: Los Rosales (1827.79 €/m2) -...</td>\n",
       "      <td>260000</td>\n",
       "      <td>HouseType 1: Pisos</td>\n",
       "      <td>False</td>\n",
       "      <td>False</td>\n",
       "      <td>True</td>\n",
       "      <td>True</td>\n",
       "      <td>True</td>\n",
       "      <td>4</td>\n",
       "      <td>0.833333</td>\n",
       "    </tr>\n",
       "    <tr>\n",
       "      <th>3</th>\n",
       "      <td>21737</td>\n",
       "      <td>126.0</td>\n",
       "      <td>114.00</td>\n",
       "      <td>4</td>\n",
       "      <td>2.0</td>\n",
       "      <td>40.343389</td>\n",
       "      <td>-3.712416</td>\n",
       "      <td>geologia</td>\n",
       "      <td>Neighborhood 134: San Andrés (1617.18 €/m2) - ...</td>\n",
       "      <td>195000</td>\n",
       "      <td>HouseType 1: Pisos</td>\n",
       "      <td>False</td>\n",
       "      <td>False</td>\n",
       "      <td>False</td>\n",
       "      <td>True</td>\n",
       "      <td>True</td>\n",
       "      <td>3</td>\n",
       "      <td>0.904762</td>\n",
       "    </tr>\n",
       "    <tr>\n",
       "      <th>4</th>\n",
       "      <td>21736</td>\n",
       "      <td>120.0</td>\n",
       "      <td>100.00</td>\n",
       "      <td>5</td>\n",
       "      <td>2.0</td>\n",
       "      <td>40.348149</td>\n",
       "      <td>-3.706239</td>\n",
       "      <td>Avenida Real de Pinto</td>\n",
       "      <td>Neighborhood 134: San Andrés (1617.18 €/m2) - ...</td>\n",
       "      <td>190000</td>\n",
       "      <td>HouseType 1: Pisos</td>\n",
       "      <td>False</td>\n",
       "      <td>False</td>\n",
       "      <td>False</td>\n",
       "      <td>True</td>\n",
       "      <td>True</td>\n",
       "      <td>1</td>\n",
       "      <td>0.833333</td>\n",
       "    </tr>\n",
       "    <tr>\n",
       "      <th>...</th>\n",
       "      <td>...</td>\n",
       "      <td>...</td>\n",
       "      <td>...</td>\n",
       "      <td>...</td>\n",
       "      <td>...</td>\n",
       "      <td>...</td>\n",
       "      <td>...</td>\n",
       "      <td>...</td>\n",
       "      <td>...</td>\n",
       "      <td>...</td>\n",
       "      <td>...</td>\n",
       "      <td>...</td>\n",
       "      <td>...</td>\n",
       "      <td>...</td>\n",
       "      <td>...</td>\n",
       "      <td>...</td>\n",
       "      <td>...</td>\n",
       "      <td>...</td>\n",
       "    </tr>\n",
       "    <tr>\n",
       "      <th>10877</th>\n",
       "      <td>32</td>\n",
       "      <td>228.0</td>\n",
       "      <td>195.36</td>\n",
       "      <td>4</td>\n",
       "      <td>2.0</td>\n",
       "      <td>40.389037</td>\n",
       "      <td>-3.692823</td>\n",
       "      <td>Calle Teresa López Valcárcel</td>\n",
       "      <td>Neighborhood 4: Legazpi (4486.93 €/m2) - Distr...</td>\n",
       "      <td>895000</td>\n",
       "      <td>HouseType 1: Pisos</td>\n",
       "      <td>False</td>\n",
       "      <td>False</td>\n",
       "      <td>True</td>\n",
       "      <td>True</td>\n",
       "      <td>True</td>\n",
       "      <td>5</td>\n",
       "      <td>NaN</td>\n",
       "    </tr>\n",
       "    <tr>\n",
       "      <th>10878</th>\n",
       "      <td>20</td>\n",
       "      <td>74.0</td>\n",
       "      <td>63.41</td>\n",
       "      <td>2</td>\n",
       "      <td>2.0</td>\n",
       "      <td>40.423552</td>\n",
       "      <td>-3.796780</td>\n",
       "      <td>Calle Timón</td>\n",
       "      <td>Neighborhood 11: Timón (2879.88 €/m2) - Distri...</td>\n",
       "      <td>325000</td>\n",
       "      <td>HouseType 1: Pisos</td>\n",
       "      <td>False</td>\n",
       "      <td>False</td>\n",
       "      <td>True</td>\n",
       "      <td>NaN</td>\n",
       "      <td>True</td>\n",
       "      <td>2</td>\n",
       "      <td>NaN</td>\n",
       "    </tr>\n",
       "    <tr>\n",
       "      <th>10879</th>\n",
       "      <td>11</td>\n",
       "      <td>276.0</td>\n",
       "      <td>236.49</td>\n",
       "      <td>4</td>\n",
       "      <td>4.0</td>\n",
       "      <td>40.408853</td>\n",
       "      <td>-3.791879</td>\n",
       "      <td>Calle Siroco</td>\n",
       "      <td>Neighborhood 11: Timón (2879.88 €/m2) - Distri...</td>\n",
       "      <td>690000</td>\n",
       "      <td>HouseType 2: Casa o chalet</td>\n",
       "      <td>False</td>\n",
       "      <td>False</td>\n",
       "      <td>NaN</td>\n",
       "      <td>NaN</td>\n",
       "      <td>True</td>\n",
       "      <td>NaN</td>\n",
       "      <td>NaN</td>\n",
       "    </tr>\n",
       "    <tr>\n",
       "      <th>10880</th>\n",
       "      <td>9</td>\n",
       "      <td>267.0</td>\n",
       "      <td>215.00</td>\n",
       "      <td>5</td>\n",
       "      <td>3.0</td>\n",
       "      <td>40.450461</td>\n",
       "      <td>-3.608672</td>\n",
       "      <td>Avenida de Logroño</td>\n",
       "      <td>Neighborhood 9: Campo de las Naciones-Corralej...</td>\n",
       "      <td>790000</td>\n",
       "      <td>HouseType 2: Casa o chalet</td>\n",
       "      <td>NaN</td>\n",
       "      <td>False</td>\n",
       "      <td>NaN</td>\n",
       "      <td>NaN</td>\n",
       "      <td>True</td>\n",
       "      <td>NaN</td>\n",
       "      <td>0.805243</td>\n",
       "    </tr>\n",
       "    <tr>\n",
       "      <th>10881</th>\n",
       "      <td>1</td>\n",
       "      <td>72.0</td>\n",
       "      <td>61.69</td>\n",
       "      <td>2</td>\n",
       "      <td>2.0</td>\n",
       "      <td>40.401969</td>\n",
       "      <td>-3.718800</td>\n",
       "      <td>Calle San Epifanio, 9</td>\n",
       "      <td>Neighborhood 3: Imperial (4098.59 €/m2) - Dist...</td>\n",
       "      <td>424000</td>\n",
       "      <td>HouseType 1: Pisos</td>\n",
       "      <td>True</td>\n",
       "      <td>False</td>\n",
       "      <td>True</td>\n",
       "      <td>True</td>\n",
       "      <td>True</td>\n",
       "      <td>NaN</td>\n",
       "      <td>NaN</td>\n",
       "    </tr>\n",
       "  </tbody>\n",
       "</table>\n",
       "<p>10882 rows × 18 columns</p>\n",
       "</div>"
      ],
      "text/plain": [
       "          id  sq_mt_built  sq_mt_useful  n_rooms  n_bathrooms   latitude  \\\n",
       "0      21741         70.0         59.98        3          1.0  40.359340   \n",
       "1      21740         94.0         54.00        2          2.0  40.344630   \n",
       "2      21738        108.0         90.00        2          2.0  40.357722   \n",
       "3      21737        126.0        114.00        4          2.0  40.343389   \n",
       "4      21736        120.0        100.00        5          2.0  40.348149   \n",
       "...      ...          ...           ...      ...          ...        ...   \n",
       "10877     32        228.0        195.36        4          2.0  40.389037   \n",
       "10878     20         74.0         63.41        2          2.0  40.423552   \n",
       "10879     11        276.0        236.49        4          4.0  40.408853   \n",
       "10880      9        267.0        215.00        5          3.0  40.450461   \n",
       "10881      1         72.0         61.69        2          2.0  40.401969   \n",
       "\n",
       "       longitude                         raw_address  \\\n",
       "0      -3.698374     Calle de la del Manojo de Rosas   \n",
       "1      -3.715191                 Calle del Talco, 68   \n",
       "2      -3.685029  Carretera de Villaverde a Vallecas   \n",
       "3      -3.712416                            geologia   \n",
       "4      -3.706239               Avenida Real de Pinto   \n",
       "...          ...                                 ...   \n",
       "10877  -3.692823        Calle Teresa López Valcárcel   \n",
       "10878  -3.796780                         Calle Timón   \n",
       "10879  -3.791879                        Calle Siroco   \n",
       "10880  -3.608672                  Avenida de Logroño   \n",
       "10881  -3.718800               Calle San Epifanio, 9   \n",
       "\n",
       "                                         neighborhood_id  buy_price  \\\n",
       "0      Neighborhood 132: Los Ángeles (1796.68 €/m2) -...     129900   \n",
       "1      Neighborhood 134: San Andrés (1617.18 €/m2) - ...     144247   \n",
       "2      Neighborhood 133: Los Rosales (1827.79 €/m2) -...     260000   \n",
       "3      Neighborhood 134: San Andrés (1617.18 €/m2) - ...     195000   \n",
       "4      Neighborhood 134: San Andrés (1617.18 €/m2) - ...     190000   \n",
       "...                                                  ...        ...   \n",
       "10877  Neighborhood 4: Legazpi (4486.93 €/m2) - Distr...     895000   \n",
       "10878  Neighborhood 11: Timón (2879.88 €/m2) - Distri...     325000   \n",
       "10879  Neighborhood 11: Timón (2879.88 €/m2) - Distri...     690000   \n",
       "10880  Neighborhood 9: Campo de las Naciones-Corralej...     790000   \n",
       "10881  Neighborhood 3: Imperial (4098.59 €/m2) - Dist...     424000   \n",
       "\n",
       "                    house_type_id is_new_development  is_renewal_needed  \\\n",
       "0              HouseType 1: Pisos              False               True   \n",
       "1              HouseType 1: Pisos              False              False   \n",
       "2              HouseType 1: Pisos              False              False   \n",
       "3              HouseType 1: Pisos              False              False   \n",
       "4              HouseType 1: Pisos              False              False   \n",
       "...                           ...                ...                ...   \n",
       "10877          HouseType 1: Pisos              False              False   \n",
       "10878          HouseType 1: Pisos              False              False   \n",
       "10879  HouseType 2: Casa o chalet              False              False   \n",
       "10880  HouseType 2: Casa o chalet                NaN              False   \n",
       "10881          HouseType 1: Pisos               True              False   \n",
       "\n",
       "      has_lift is_exterior  has_parking floor  sq_mt_coef  \n",
       "0         True        True        False     4         NaN  \n",
       "1         True        True        False     1    0.574468  \n",
       "2         True        True         True     4    0.833333  \n",
       "3        False        True         True     3    0.904762  \n",
       "4        False        True         True     1    0.833333  \n",
       "...        ...         ...          ...   ...         ...  \n",
       "10877     True        True         True     5         NaN  \n",
       "10878     True         NaN         True     2         NaN  \n",
       "10879      NaN         NaN         True   NaN         NaN  \n",
       "10880      NaN         NaN         True   NaN    0.805243  \n",
       "10881     True        True         True   NaN         NaN  \n",
       "\n",
       "[10882 rows x 18 columns]"
      ]
     },
     "execution_count": 199,
     "metadata": {},
     "output_type": "execute_result"
    }
   ],
   "source": [
    "new_madrid.reset_index(drop = True)"
   ]
  },
  {
   "cell_type": "markdown",
   "id": "4b8599c8",
   "metadata": {},
   "source": [
    "#### House Type:"
   ]
  },
  {
   "cell_type": "code",
   "execution_count": 200,
   "id": "3a6b3848",
   "metadata": {},
   "outputs": [
    {
     "data": {
      "text/plain": [
       "HouseType 1: Pisos            9401\n",
       "HouseType 5: Áticos            481\n",
       "HouseType 2: Casa o chalet     442\n",
       "HouseType 4: Dúplex            315\n",
       "Name: house_type_id, dtype: int64"
      ]
     },
     "execution_count": 200,
     "metadata": {},
     "output_type": "execute_result"
    }
   ],
   "source": [
    "new_madrid.house_type_id.value_counts()"
   ]
  },
  {
   "cell_type": "code",
   "execution_count": 201,
   "id": "d00efd83",
   "metadata": {},
   "outputs": [],
   "source": [
    "house_types = {\n",
    "    'HouseType 1: Pisos': 0,\n",
    "    'HouseType 2: Casa o chalet': 3,\n",
    "    'HouseType 5: Áticos': 2,\n",
    "    'HouseType 4: Dúplex': 1\n",
    "}"
   ]
  },
  {
   "cell_type": "code",
   "execution_count": 202,
   "id": "951ce100",
   "metadata": {},
   "outputs": [],
   "source": [
    "new_madrid[\"house_type\"] = new_madrid.house_type_id.map(house_types)"
   ]
  },
  {
   "cell_type": "code",
   "execution_count": 203,
   "id": "edcb1c55",
   "metadata": {},
   "outputs": [
    {
     "data": {
      "text/plain": [
       "0.0    9401\n",
       "2.0     481\n",
       "3.0     442\n",
       "1.0     315\n",
       "Name: house_type, dtype: int64"
      ]
     },
     "execution_count": 203,
     "metadata": {},
     "output_type": "execute_result"
    }
   ],
   "source": [
    "new_madrid.house_type.value_counts()"
   ]
  },
  {
   "cell_type": "markdown",
   "id": "08c59752",
   "metadata": {},
   "source": [
    "### Let's keep cleaning columns:"
   ]
  },
  {
   "cell_type": "code",
   "execution_count": 204,
   "id": "ba2aa315",
   "metadata": {},
   "outputs": [],
   "source": [
    "def boolean_to_binary(df, column):\n",
    "    df.loc[(df[column] == True), column] = 1\n",
    "    df.loc[(df[column] == False), column] = 0\n",
    "    df[column] = df[column].astype(int)\n",
    "    return df"
   ]
  },
  {
   "cell_type": "markdown",
   "id": "f6b9a6ba",
   "metadata": {},
   "source": [
    "#### Drop \"sq_mt_coef\" column:"
   ]
  },
  {
   "cell_type": "code",
   "execution_count": 205,
   "id": "72447b10",
   "metadata": {
    "scrolled": true
   },
   "outputs": [
    {
     "name": "stdout",
     "output_type": "stream",
     "text": [
      "<class 'pandas.core.frame.DataFrame'>\n",
      "Int64Index: 10882 entries, 1 to 16276\n",
      "Data columns (total 19 columns):\n",
      " #   Column              Non-Null Count  Dtype  \n",
      "---  ------              --------------  -----  \n",
      " 0   id                  10882 non-null  int64  \n",
      " 1   sq_mt_built         10876 non-null  float64\n",
      " 2   sq_mt_useful        10876 non-null  float64\n",
      " 3   n_rooms             10882 non-null  int64  \n",
      " 4   n_bathrooms         10872 non-null  float64\n",
      " 5   latitude            10882 non-null  float64\n",
      " 6   longitude           10882 non-null  float64\n",
      " 7   raw_address         10882 non-null  object \n",
      " 8   neighborhood_id     10882 non-null  object \n",
      " 9   buy_price           10882 non-null  int64  \n",
      " 10  house_type_id       10639 non-null  object \n",
      " 11  is_new_development  10334 non-null  object \n",
      " 12  is_renewal_needed   10882 non-null  bool   \n",
      " 13  has_lift            10197 non-null  object \n",
      " 14  is_exterior         9863 non-null   object \n",
      " 15  has_parking         10882 non-null  bool   \n",
      " 16  floor               10157 non-null  object \n",
      " 17  sq_mt_coef          4662 non-null   float64\n",
      " 18  house_type          10639 non-null  float64\n",
      "dtypes: bool(2), float64(7), int64(3), object(7)\n",
      "memory usage: 1.5+ MB\n"
     ]
    }
   ],
   "source": [
    "new_madrid.info()"
   ]
  },
  {
   "cell_type": "code",
   "execution_count": 185,
   "id": "6f0fdff6",
   "metadata": {},
   "outputs": [],
   "source": [
    "new_madrid.drop(\"sq_mt_coef\", axis=1, inplace=True)"
   ]
  },
  {
   "cell_type": "code",
   "execution_count": 211,
   "id": "62d016de",
   "metadata": {},
   "outputs": [
    {
     "data": {
      "text/plain": [
       "False    9858\n",
       "True      476\n",
       "Name: is_new_development, dtype: int64"
      ]
     },
     "execution_count": 211,
     "metadata": {},
     "output_type": "execute_result"
    }
   ],
   "source": [
    "new_madrid.is_new_development.value_counts()"
   ]
  },
  {
   "cell_type": "markdown",
   "id": "837007b7",
   "metadata": {},
   "source": [
    "#### Drop nulls:"
   ]
  },
  {
   "cell_type": "code",
   "execution_count": 186,
   "id": "0b0cd167",
   "metadata": {},
   "outputs": [
    {
     "data": {
      "text/plain": [
       "id                       0\n",
       "sq_mt_built              6\n",
       "sq_mt_useful             6\n",
       "n_rooms                  0\n",
       "n_bathrooms             10\n",
       "latitude                 0\n",
       "longitude                0\n",
       "raw_address              0\n",
       "neighborhood_id          0\n",
       "buy_price                0\n",
       "house_type_id          243\n",
       "is_new_development     548\n",
       "is_renewal_needed        0\n",
       "has_lift               685\n",
       "is_exterior           1019\n",
       "has_parking              0\n",
       "floor                  725\n",
       "house_type             243\n",
       "dtype: int64"
      ]
     },
     "execution_count": 186,
     "metadata": {},
     "output_type": "execute_result"
    }
   ],
   "source": [
    "new_madrid.isna().sum()"
   ]
  },
  {
   "cell_type": "code",
   "execution_count": 140,
   "id": "d650eaaa",
   "metadata": {},
   "outputs": [],
   "source": [
    "madrid = new_madrid.dropna(axis=0, how=\"any\")"
   ]
  },
  {
   "cell_type": "markdown",
   "id": "c3064c27",
   "metadata": {},
   "source": [
    "### Let's prepare some last columns:"
   ]
  },
  {
   "cell_type": "markdown",
   "id": "3ef0eaf9",
   "metadata": {},
   "source": [
    "#### Has_lift column:"
   ]
  },
  {
   "cell_type": "code",
   "execution_count": 142,
   "id": "2220ebe5",
   "metadata": {
    "scrolled": true
   },
   "outputs": [
    {
     "name": "stderr",
     "output_type": "stream",
     "text": [
      "/home/ccastrob/anaconda3/envs/ironhack/lib/python3.8/site-packages/pandas/core/indexing.py:1720: SettingWithCopyWarning: \n",
      "A value is trying to be set on a copy of a slice from a DataFrame.\n",
      "Try using .loc[row_indexer,col_indexer] = value instead\n",
      "\n",
      "See the caveats in the documentation: https://pandas.pydata.org/pandas-docs/stable/user_guide/indexing.html#returning-a-view-versus-a-copy\n",
      "  self._setitem_single_column(loc, value, pi)\n",
      "<ipython-input-136-89f2cc17128b>:4: SettingWithCopyWarning: \n",
      "A value is trying to be set on a copy of a slice from a DataFrame.\n",
      "Try using .loc[row_indexer,col_indexer] = value instead\n",
      "\n",
      "See the caveats in the documentation: https://pandas.pydata.org/pandas-docs/stable/user_guide/indexing.html#returning-a-view-versus-a-copy\n",
      "  df[column] = df[column].astype(int)\n"
     ]
    }
   ],
   "source": [
    "madrid = boolean_to_binary(madrid, \"has_lift\")"
   ]
  },
  {
   "cell_type": "markdown",
   "id": "50bf0698",
   "metadata": {},
   "source": [
    "#### Has_parking column:"
   ]
  },
  {
   "cell_type": "code",
   "execution_count": 143,
   "id": "fe35c3cc",
   "metadata": {},
   "outputs": [
    {
     "data": {
      "text/plain": [
       "False    6475\n",
       "True     2655\n",
       "Name: has_parking, dtype: int64"
      ]
     },
     "execution_count": 143,
     "metadata": {},
     "output_type": "execute_result"
    }
   ],
   "source": [
    "madrid.has_parking.value_counts()"
   ]
  },
  {
   "cell_type": "code",
   "execution_count": 144,
   "id": "2352d2ab",
   "metadata": {},
   "outputs": [
    {
     "name": "stderr",
     "output_type": "stream",
     "text": [
      "/home/ccastrob/anaconda3/envs/ironhack/lib/python3.8/site-packages/pandas/core/indexing.py:1720: SettingWithCopyWarning: \n",
      "A value is trying to be set on a copy of a slice from a DataFrame.\n",
      "Try using .loc[row_indexer,col_indexer] = value instead\n",
      "\n",
      "See the caveats in the documentation: https://pandas.pydata.org/pandas-docs/stable/user_guide/indexing.html#returning-a-view-versus-a-copy\n",
      "  self._setitem_single_column(loc, value, pi)\n",
      "<ipython-input-136-89f2cc17128b>:4: SettingWithCopyWarning: \n",
      "A value is trying to be set on a copy of a slice from a DataFrame.\n",
      "Try using .loc[row_indexer,col_indexer] = value instead\n",
      "\n",
      "See the caveats in the documentation: https://pandas.pydata.org/pandas-docs/stable/user_guide/indexing.html#returning-a-view-versus-a-copy\n",
      "  df[column] = df[column].astype(int)\n"
     ]
    }
   ],
   "source": [
    "madrid = boolean_to_binary(madrid, \"has_parking\")"
   ]
  },
  {
   "cell_type": "markdown",
   "id": "553c64ac",
   "metadata": {},
   "source": [
    "#### n_bathrooms column:"
   ]
  },
  {
   "cell_type": "code",
   "execution_count": 145,
   "id": "0454d546",
   "metadata": {},
   "outputs": [
    {
     "name": "stderr",
     "output_type": "stream",
     "text": [
      "<ipython-input-145-2f0d247d1d86>:1: SettingWithCopyWarning: \n",
      "A value is trying to be set on a copy of a slice from a DataFrame.\n",
      "Try using .loc[row_indexer,col_indexer] = value instead\n",
      "\n",
      "See the caveats in the documentation: https://pandas.pydata.org/pandas-docs/stable/user_guide/indexing.html#returning-a-view-versus-a-copy\n",
      "  madrid[\"n_bathrooms\"] = madrid[\"n_bathrooms\"].astype(int)\n"
     ]
    }
   ],
   "source": [
    "madrid[\"n_bathrooms\"] = madrid[\"n_bathrooms\"].astype(int)"
   ]
  },
  {
   "cell_type": "markdown",
   "id": "479419ee",
   "metadata": {},
   "source": [
    "#### Floor column:"
   ]
  },
  {
   "cell_type": "code",
   "execution_count": 146,
   "id": "d96bac6e",
   "metadata": {},
   "outputs": [
    {
     "data": {
      "text/plain": [
       "1                       2104\n",
       "2                       1676\n",
       "3                       1417\n",
       "4                       1159\n",
       "Bajo                     967\n",
       "5                        625\n",
       "6                        423\n",
       "7                        280\n",
       "8                        164\n",
       "Entreplanta exterior     144\n",
       "9                         81\n",
       "Semi-sótano exterior      32\n",
       "Entreplanta interior      21\n",
       "Sótano interior           18\n",
       "Semi-sótano interior      17\n",
       "Sótano exterior            2\n",
       "Name: floor, dtype: int64"
      ]
     },
     "execution_count": 146,
     "metadata": {},
     "output_type": "execute_result"
    }
   ],
   "source": [
    "madrid.floor.value_counts()"
   ]
  },
  {
   "cell_type": "code",
   "execution_count": 147,
   "id": "38696802",
   "metadata": {},
   "outputs": [],
   "source": [
    "floors = {\n",
    "    \"Bajo\" : 0,\n",
    "    \"Entreplanta\" : 0.5,\n",
    "    \"Entreplanta exterior\" : 0.5,\n",
    "    \"Entreplanta interior\" : 0.5,\n",
    "    \"Semi-sótano\" : -0.5,\n",
    "    \"Semi-sótano exterior\" : -0.5,\n",
    "    \"Semi-sótano interior\" : -0.5,\n",
    "    \"Sótano\" : -1,\n",
    "    \"Sótano interior\" : -1,\n",
    "    \"Sótano exterior\" : -1,    \n",
    "}"
   ]
  },
  {
   "cell_type": "code",
   "execution_count": 148,
   "id": "27cc230b",
   "metadata": {},
   "outputs": [],
   "source": [
    "madrid = madrid.replace({\"floor\": floors})"
   ]
  },
  {
   "cell_type": "code",
   "execution_count": 149,
   "id": "f2796cf3",
   "metadata": {},
   "outputs": [],
   "source": [
    "madrid[\"floor\"] = madrid[\"floor\"].astype(float)"
   ]
  },
  {
   "cell_type": "markdown",
   "id": "6adbc851",
   "metadata": {},
   "source": [
    "#### Let's change type of \"is_exterior\", \"is_renewal_needed\" and \"is_new_development\":"
   ]
  },
  {
   "cell_type": "code",
   "execution_count": 150,
   "id": "1122c04e",
   "metadata": {},
   "outputs": [],
   "source": [
    "madrid = boolean_to_binary(madrid, \"is_renewal_needed\")"
   ]
  },
  {
   "cell_type": "code",
   "execution_count": 151,
   "id": "6cadaefe",
   "metadata": {},
   "outputs": [],
   "source": [
    "madrid = boolean_to_binary(madrid, \"is_exterior\")"
   ]
  },
  {
   "cell_type": "code",
   "execution_count": 152,
   "id": "a3cf7fec",
   "metadata": {},
   "outputs": [],
   "source": [
    "madrid = boolean_to_binary(madrid, \"is_new_development\")"
   ]
  },
  {
   "cell_type": "markdown",
   "id": "b0449775",
   "metadata": {},
   "source": [
    "#### Let's drop house_type_id column because we already has a house_type column:"
   ]
  },
  {
   "cell_type": "code",
   "execution_count": 153,
   "id": "997200d1",
   "metadata": {},
   "outputs": [],
   "source": [
    "madrid.drop(\"house_type_id\", axis=1, inplace=True)"
   ]
  },
  {
   "cell_type": "markdown",
   "id": "35bba1d5",
   "metadata": {},
   "source": [
    "#### Final cleaning: neigborhood_id column:"
   ]
  },
  {
   "cell_type": "code",
   "execution_count": 155,
   "id": "d28eeeb0",
   "metadata": {},
   "outputs": [],
   "source": [
    "madrid[\"value_m2\"] = madrid[\"neighborhood_id\"].str.split(\"(\", n=1, expand=True)[1].str.split(\" \", n=1, expand=True)[0]"
   ]
  },
  {
   "cell_type": "code",
   "execution_count": 156,
   "id": "aefa3ac2",
   "metadata": {},
   "outputs": [],
   "source": [
    "madrid[\"neighborhood\"] = madrid[\"neighborhood_id\"].str.split(\":\", n=1, expand=True)[1].str.split(\"(\", n=1, expand=True)[0].str.strip()"
   ]
  },
  {
   "cell_type": "code",
   "execution_count": 157,
   "id": "511645e9",
   "metadata": {},
   "outputs": [],
   "source": [
    "madrid[\"district\"] = madrid[\"neighborhood_id\"].str.split(\":\", n=2, expand=True)[2].str.strip()"
   ]
  },
  {
   "cell_type": "code",
   "execution_count": 158,
   "id": "1ecb3d37",
   "metadata": {},
   "outputs": [],
   "source": [
    "madrid.loc[(madrid[\"value_m2\"] == \"None\"), \"value_m2\"] = 0"
   ]
  },
  {
   "cell_type": "code",
   "execution_count": 159,
   "id": "ff715df0",
   "metadata": {},
   "outputs": [],
   "source": [
    "madrid.value_m2 = madrid.value_m2.astype(float)"
   ]
  },
  {
   "cell_type": "markdown",
   "id": "754dcc2a",
   "metadata": {},
   "source": [
    "#### I will modify type of house_type to int:"
   ]
  },
  {
   "cell_type": "code",
   "execution_count": 160,
   "id": "98a88373",
   "metadata": {},
   "outputs": [],
   "source": [
    "madrid.house_type = madrid.house_type.astype(int)"
   ]
  },
  {
   "cell_type": "markdown",
   "id": "eade37a8",
   "metadata": {},
   "source": [
    "#### I will check the final dataframe clean:"
   ]
  },
  {
   "cell_type": "code",
   "execution_count": 161,
   "id": "d6d00203",
   "metadata": {
    "scrolled": true
   },
   "outputs": [
    {
     "name": "stdout",
     "output_type": "stream",
     "text": [
      "<class 'pandas.core.frame.DataFrame'>\n",
      "Int64Index: 9130 entries, 1 to 16250\n",
      "Data columns (total 20 columns):\n",
      " #   Column              Non-Null Count  Dtype  \n",
      "---  ------              --------------  -----  \n",
      " 0   id                  9130 non-null   int64  \n",
      " 1   sq_mt_built         9130 non-null   float64\n",
      " 2   sq_mt_useful        9130 non-null   float64\n",
      " 3   n_rooms             9130 non-null   int64  \n",
      " 4   n_bathrooms         9130 non-null   int64  \n",
      " 5   latitude            9130 non-null   float64\n",
      " 6   longitude           9130 non-null   float64\n",
      " 7   raw_address         9130 non-null   object \n",
      " 8   neighborhood_id     9130 non-null   object \n",
      " 9   buy_price           9130 non-null   int64  \n",
      " 10  is_new_development  9130 non-null   int64  \n",
      " 11  is_renewal_needed   9130 non-null   int64  \n",
      " 12  has_lift            9130 non-null   int64  \n",
      " 13  is_exterior         9130 non-null   int64  \n",
      " 14  has_parking         9130 non-null   int64  \n",
      " 15  floor               9130 non-null   float64\n",
      " 16  house_type          9130 non-null   int64  \n",
      " 17  value_m2            9130 non-null   float64\n",
      " 18  neighborhood        9130 non-null   object \n",
      " 19  district            9130 non-null   object \n",
      "dtypes: float64(6), int64(10), object(4)\n",
      "memory usage: 1.5+ MB\n"
     ]
    }
   ],
   "source": [
    "madrid.info()"
   ]
  },
  {
   "cell_type": "markdown",
   "id": "6924ac13",
   "metadata": {},
   "source": [
    "#### Let's export the final result:"
   ]
  },
  {
   "cell_type": "code",
   "execution_count": 164,
   "id": "7fc53af0",
   "metadata": {},
   "outputs": [],
   "source": [
    "madrid.to_csv(\"../data/clean-madrid-v2.csv\", index = False)"
   ]
  }
 ],
 "metadata": {
  "kernelspec": {
   "display_name": "ironhack",
   "language": "python",
   "name": "ironhack"
  },
  "language_info": {
   "codemirror_mode": {
    "name": "ipython",
    "version": 3
   },
   "file_extension": ".py",
   "mimetype": "text/x-python",
   "name": "python",
   "nbconvert_exporter": "python",
   "pygments_lexer": "ipython3",
   "version": "3.8.5"
  }
 },
 "nbformat": 4,
 "nbformat_minor": 5
}
