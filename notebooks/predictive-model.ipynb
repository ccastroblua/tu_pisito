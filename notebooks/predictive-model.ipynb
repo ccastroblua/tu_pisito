{
 "cells": [
  {
   "cell_type": "code",
   "execution_count": 57,
   "id": "521090e0",
   "metadata": {},
   "outputs": [],
   "source": [
    "import h2o\n",
    "from h2o.automl import H2OAutoML\n",
    "import pandas as pd\n",
    "import seaborn as sns\n",
    "from sklearn.model_selection import train_test_split"
   ]
  },
  {
   "cell_type": "code",
   "execution_count": 58,
   "id": "91a44e90",
   "metadata": {},
   "outputs": [
    {
     "name": "stdout",
     "output_type": "stream",
     "text": [
      "Checking whether there is an H2O instance running at http://localhost:54321 . connected.\n"
     ]
    },
    {
     "data": {
      "text/html": [
       "<div style=\"overflow:auto\"><table style=\"width:50%\"><tr><td>H2O_cluster_uptime:</td>\n",
       "<td>13 hours 50 mins</td></tr>\n",
       "<tr><td>H2O_cluster_timezone:</td>\n",
       "<td>Europe/Madrid</td></tr>\n",
       "<tr><td>H2O_data_parsing_timezone:</td>\n",
       "<td>UTC</td></tr>\n",
       "<tr><td>H2O_cluster_version:</td>\n",
       "<td>3.32.1.4</td></tr>\n",
       "<tr><td>H2O_cluster_version_age:</td>\n",
       "<td>17 days </td></tr>\n",
       "<tr><td>H2O_cluster_name:</td>\n",
       "<td>H2O_from_python_ccastrob_cocs40</td></tr>\n",
       "<tr><td>H2O_cluster_total_nodes:</td>\n",
       "<td>1</td></tr>\n",
       "<tr><td>H2O_cluster_free_memory:</td>\n",
       "<td>3.340 Gb</td></tr>\n",
       "<tr><td>H2O_cluster_total_cores:</td>\n",
       "<td>12</td></tr>\n",
       "<tr><td>H2O_cluster_allowed_cores:</td>\n",
       "<td>12</td></tr>\n",
       "<tr><td>H2O_cluster_status:</td>\n",
       "<td>locked, healthy</td></tr>\n",
       "<tr><td>H2O_connection_url:</td>\n",
       "<td>http://localhost:54321</td></tr>\n",
       "<tr><td>H2O_connection_proxy:</td>\n",
       "<td>{\"http\": null, \"https\": null}</td></tr>\n",
       "<tr><td>H2O_internal_security:</td>\n",
       "<td>False</td></tr>\n",
       "<tr><td>H2O_API_Extensions:</td>\n",
       "<td>Amazon S3, XGBoost, Algos, AutoML, Core V3, TargetEncoder, Core V4</td></tr>\n",
       "<tr><td>Python_version:</td>\n",
       "<td>3.8.5 final</td></tr></table></div>"
      ],
      "text/plain": [
       "--------------------------  ------------------------------------------------------------------\n",
       "H2O_cluster_uptime:         13 hours 50 mins\n",
       "H2O_cluster_timezone:       Europe/Madrid\n",
       "H2O_data_parsing_timezone:  UTC\n",
       "H2O_cluster_version:        3.32.1.4\n",
       "H2O_cluster_version_age:    17 days\n",
       "H2O_cluster_name:           H2O_from_python_ccastrob_cocs40\n",
       "H2O_cluster_total_nodes:    1\n",
       "H2O_cluster_free_memory:    3.340 Gb\n",
       "H2O_cluster_total_cores:    12\n",
       "H2O_cluster_allowed_cores:  12\n",
       "H2O_cluster_status:         locked, healthy\n",
       "H2O_connection_url:         http://localhost:54321\n",
       "H2O_connection_proxy:       {\"http\": null, \"https\": null}\n",
       "H2O_internal_security:      False\n",
       "H2O_API_Extensions:         Amazon S3, XGBoost, Algos, AutoML, Core V3, TargetEncoder, Core V4\n",
       "Python_version:             3.8.5 final\n",
       "--------------------------  ------------------------------------------------------------------"
      ]
     },
     "metadata": {},
     "output_type": "display_data"
    }
   ],
   "source": [
    "h2o.init()"
   ]
  },
  {
   "cell_type": "code",
   "execution_count": 59,
   "id": "47a3e3f3",
   "metadata": {},
   "outputs": [],
   "source": [
    "madrid = pd.read_csv(\"../data/clean-madrid-v2.csv\")"
   ]
  },
  {
   "cell_type": "markdown",
   "id": "d8c585c3",
   "metadata": {},
   "source": [
    "#### Due to correlation we have to eliminate \"sq_mt_useful\" column and \"has_garden\" has problems when we are importing it as CSV."
   ]
  },
  {
   "cell_type": "markdown",
   "id": "ecebd106",
   "metadata": {},
   "source": [
    "#### I will remove some other columns that won't be used to predict:"
   ]
  },
  {
   "cell_type": "code",
   "execution_count": 60,
   "id": "e717e20b",
   "metadata": {},
   "outputs": [
    {
     "name": "stdout",
     "output_type": "stream",
     "text": [
      "<class 'pandas.core.frame.DataFrame'>\n",
      "RangeIndex: 9130 entries, 0 to 9129\n",
      "Data columns (total 20 columns):\n",
      " #   Column              Non-Null Count  Dtype  \n",
      "---  ------              --------------  -----  \n",
      " 0   id                  9130 non-null   int64  \n",
      " 1   sq_mt_built         9130 non-null   float64\n",
      " 2   sq_mt_useful        9130 non-null   float64\n",
      " 3   n_rooms             9130 non-null   int64  \n",
      " 4   n_bathrooms         9130 non-null   int64  \n",
      " 5   latitude            9130 non-null   float64\n",
      " 6   longitude           9130 non-null   float64\n",
      " 7   raw_address         9130 non-null   object \n",
      " 8   neighborhood_id     9130 non-null   object \n",
      " 9   buy_price           9130 non-null   int64  \n",
      " 10  is_new_development  9130 non-null   int64  \n",
      " 11  is_renewal_needed   9130 non-null   int64  \n",
      " 12  has_lift            9130 non-null   int64  \n",
      " 13  is_exterior         9130 non-null   int64  \n",
      " 14  has_parking         9130 non-null   int64  \n",
      " 15  floor               9130 non-null   float64\n",
      " 16  house_type          9130 non-null   int64  \n",
      " 17  value_m2            9130 non-null   float64\n",
      " 18  neighborhood        9130 non-null   object \n",
      " 19  district            9130 non-null   object \n",
      "dtypes: float64(6), int64(10), object(4)\n",
      "memory usage: 1.4+ MB\n"
     ]
    }
   ],
   "source": [
    "madrid.info()"
   ]
  },
  {
   "cell_type": "code",
   "execution_count": 61,
   "id": "abf1cb23",
   "metadata": {},
   "outputs": [],
   "source": [
    "columns_to_drop = [#\"has_garden\", \n",
    "                   \"sq_mt_useful\",\n",
    "                    \"id\", \n",
    "                   # \"title\", \n",
    "                   # \"subtitle\", \n",
    "                   \"raw_address\", \n",
    "                   \"neighborhood_id\"]"
   ]
  },
  {
   "cell_type": "code",
   "execution_count": 62,
   "id": "1c9a2e77",
   "metadata": {},
   "outputs": [],
   "source": [
    "madrid.drop(columns_to_drop, axis=1, inplace=True)"
   ]
  },
  {
   "cell_type": "code",
   "execution_count": 63,
   "id": "12ac2dc9",
   "metadata": {},
   "outputs": [
    {
     "data": {
      "text/plain": [
       "<AxesSubplot:>"
      ]
     },
     "execution_count": 63,
     "metadata": {},
     "output_type": "execute_result"
    },
    {
     "data": {
      "image/png": "[encoded data removed]",
      "text/plain": [
       "<Figure size 432x288 with 2 Axes>"
      ]
     },
     "metadata": {
      "needs_background": "light"
     },
     "output_type": "display_data"
    }
   ],
   "source": [
    "sns.heatmap(madrid.corr())"
   ]
  },
  {
   "cell_type": "code",
   "execution_count": 10,
   "id": "b5e2e7e9",
   "metadata": {},
   "outputs": [],
   "source": [
    "y = madrid.buy_price"
   ]
  },
  {
   "cell_type": "code",
   "execution_count": 11,
   "id": "b8a90d82",
   "metadata": {},
   "outputs": [],
   "source": [
    "X = madrid.drop(\"buy_price\", axis=1)"
   ]
  },
  {
   "cell_type": "code",
   "execution_count": 12,
   "id": "f99c9096",
   "metadata": {},
   "outputs": [],
   "source": [
    "X_train, X_test, y_train, y_test = train_test_split(X, y, test_size = 0.2)"
   ]
  },
  {
   "cell_type": "markdown",
   "id": "0ec58466",
   "metadata": {},
   "source": [
    "### H2O train:"
   ]
  },
  {
   "cell_type": "code",
   "execution_count": 64,
   "id": "d2a42ff1",
   "metadata": {},
   "outputs": [
    {
     "name": "stdout",
     "output_type": "stream",
     "text": [
      "Parse progress: |█████████████████████████████████████████████████████████| 100%\n"
     ]
    }
   ],
   "source": [
    "h2o_df = h2o.H2OFrame(madrid)"
   ]
  },
  {
   "cell_type": "code",
   "execution_count": 65,
   "id": "4b945531",
   "metadata": {},
   "outputs": [],
   "source": [
    "train_h2o, test_h2o = h2o_df.split_frame(ratios=[0.8])"
   ]
  },
  {
   "cell_type": "code",
   "execution_count": 66,
   "id": "0cf9e58f",
   "metadata": {},
   "outputs": [
    {
     "data": {
      "text/plain": [
       "(7390, 16)"
      ]
     },
     "execution_count": 66,
     "metadata": {},
     "output_type": "execute_result"
    }
   ],
   "source": [
    "train_h2o.shape"
   ]
  },
  {
   "cell_type": "code",
   "execution_count": 67,
   "id": "140e9377",
   "metadata": {
    "scrolled": true
   },
   "outputs": [
    {
     "data": {
      "text/plain": [
       "(1740, 16)"
      ]
     },
     "execution_count": 67,
     "metadata": {},
     "output_type": "execute_result"
    }
   ],
   "source": [
    "test_h2o.shape"
   ]
  },
  {
   "cell_type": "code",
   "execution_count": 68,
   "id": "cf6ff5f0",
   "metadata": {},
   "outputs": [],
   "source": [
    "y_cols = \"buy_price\""
   ]
  },
  {
   "cell_type": "code",
   "execution_count": 69,
   "id": "0c07b900",
   "metadata": {},
   "outputs": [],
   "source": [
    "X_cols = train_h2o.drop(\"buy_price\", axis=1).columns"
   ]
  },
  {
   "cell_type": "code",
   "execution_count": 70,
   "id": "33c4b4d1",
   "metadata": {},
   "outputs": [
    {
     "name": "stdout",
     "output_type": "stream",
     "text": [
      "AutoML progress: |████████████████████████████████████████████████████████| 100%\n"
     ]
    }
   ],
   "source": [
    "automl = H2OAutoML(max_models=250, max_runtime_secs=6000)\n",
    "automl.train(x=X_cols, y=y_cols, training_frame=train_h2o)"
   ]
  },
  {
   "cell_type": "code",
   "execution_count": 71,
   "id": "655b1aae",
   "metadata": {},
   "outputs": [
    {
     "data": {
      "text/html": [
       "<table>\n",
       "<thead>\n",
       "<tr><th>model_id                                           </th><th style=\"text-align: right;\">  mean_residual_deviance</th><th style=\"text-align: right;\">  rmse</th><th style=\"text-align: right;\">        mse</th><th style=\"text-align: right;\">    mae</th><th style=\"text-align: right;\">   rmsle</th></tr>\n",
       "</thead>\n",
       "<tbody>\n",
       "<tr><td>StackedEnsemble_AllModels_AutoML_20210726_135529   </td><td style=\"text-align: right;\">             1.66121e+10</td><td style=\"text-align: right;\">128888</td><td style=\"text-align: right;\">1.66121e+10</td><td style=\"text-align: right;\">62686.1</td><td style=\"text-align: right;\">0.173482</td></tr>\n",
       "<tr><td>StackedEnsemble_BestOfFamily_AutoML_20210726_135529</td><td style=\"text-align: right;\">             1.73717e+10</td><td style=\"text-align: right;\">131802</td><td style=\"text-align: right;\">1.73717e+10</td><td style=\"text-align: right;\">64865.1</td><td style=\"text-align: right;\">0.17757 </td></tr>\n",
       "<tr><td>GBM_grid__1_AutoML_20210726_135529_model_35        </td><td style=\"text-align: right;\">             1.89617e+10</td><td style=\"text-align: right;\">137702</td><td style=\"text-align: right;\">1.89617e+10</td><td style=\"text-align: right;\">67636.6</td><td style=\"text-align: right;\">0.185669</td></tr>\n",
       "<tr><td>GBM_grid__1_AutoML_20210726_135529_model_59        </td><td style=\"text-align: right;\">             1.92246e+10</td><td style=\"text-align: right;\">138653</td><td style=\"text-align: right;\">1.92246e+10</td><td style=\"text-align: right;\">65721.3</td><td style=\"text-align: right;\">0.183679</td></tr>\n",
       "<tr><td>GBM_grid__1_AutoML_20210726_135529_model_12        </td><td style=\"text-align: right;\">             1.92473e+10</td><td style=\"text-align: right;\">138735</td><td style=\"text-align: right;\">1.92473e+10</td><td style=\"text-align: right;\">65434.1</td><td style=\"text-align: right;\">0.1835  </td></tr>\n",
       "<tr><td>XGBoost_grid__1_AutoML_20210726_135529_model_73    </td><td style=\"text-align: right;\">             1.92803e+10</td><td style=\"text-align: right;\">138853</td><td style=\"text-align: right;\">1.92803e+10</td><td style=\"text-align: right;\">68228.9</td><td style=\"text-align: right;\">0.189829</td></tr>\n",
       "<tr><td>XGBoost_grid__1_AutoML_20210726_135529_model_48    </td><td style=\"text-align: right;\">             1.95569e+10</td><td style=\"text-align: right;\">139846</td><td style=\"text-align: right;\">1.95569e+10</td><td style=\"text-align: right;\">68109.5</td><td style=\"text-align: right;\">0.187788</td></tr>\n",
       "<tr><td>GBM_grid__1_AutoML_20210726_135529_model_6         </td><td style=\"text-align: right;\">             1.96385e+10</td><td style=\"text-align: right;\">140137</td><td style=\"text-align: right;\">1.96385e+10</td><td style=\"text-align: right;\">68463.2</td><td style=\"text-align: right;\">0.187015</td></tr>\n",
       "<tr><td>GBM_grid__1_AutoML_20210726_135529_model_39        </td><td style=\"text-align: right;\">             1.97012e+10</td><td style=\"text-align: right;\">140361</td><td style=\"text-align: right;\">1.97012e+10</td><td style=\"text-align: right;\">65578.7</td><td style=\"text-align: right;\">0.182413</td></tr>\n",
       "<tr><td>GBM_grid__1_AutoML_20210726_135529_model_9         </td><td style=\"text-align: right;\">             1.97908e+10</td><td style=\"text-align: right;\">140680</td><td style=\"text-align: right;\">1.97908e+10</td><td style=\"text-align: right;\">68170  </td><td style=\"text-align: right;\">0.188095</td></tr>\n",
       "</tbody>\n",
       "</table>"
      ]
     },
     "metadata": {},
     "output_type": "display_data"
    },
    {
     "data": {
      "text/plain": []
     },
     "execution_count": 71,
     "metadata": {},
     "output_type": "execute_result"
    }
   ],
   "source": [
    "lb = automl.leaderboard\n",
    "lb.head()"
   ]
  },
  {
   "cell_type": "code",
   "execution_count": 19,
   "id": "d4290efb",
   "metadata": {},
   "outputs": [
    {
     "name": "stdout",
     "output_type": "stream",
     "text": [
      "stackedensemble prediction progress: |████████████████████████████████████| 100%\n"
     ]
    }
   ],
   "source": [
    "predictions = automl.leader.predict(test_h2o)"
   ]
  },
  {
   "cell_type": "code",
   "execution_count": 20,
   "id": "9d9b0461",
   "metadata": {},
   "outputs": [
    {
     "data": {
      "text/plain": [
       "(1689, 1)"
      ]
     },
     "execution_count": 20,
     "metadata": {},
     "output_type": "execute_result"
    }
   ],
   "source": [
    "predictions.shape"
   ]
  },
  {
   "cell_type": "code",
   "execution_count": 21,
   "id": "610ca25b",
   "metadata": {},
   "outputs": [],
   "source": [
    "test_h2o[\"prediction\"] = predictions"
   ]
  },
  {
   "cell_type": "code",
   "execution_count": 22,
   "id": "bcc53692",
   "metadata": {},
   "outputs": [],
   "source": [
    "test_df = test_h2o.as_data_frame()"
   ]
  },
  {
   "cell_type": "code",
   "execution_count": null,
   "id": "1fe5775e",
   "metadata": {},
   "outputs": [],
   "source": [
    "test_df.a"
   ]
  },
  {
   "cell_type": "code",
   "execution_count": 23,
   "id": "1b10b5d3",
   "metadata": {},
   "outputs": [],
   "source": [
    "cols = [\"buy_price\", \"prediction\"]"
   ]
  },
  {
   "cell_type": "code",
   "execution_count": 24,
   "id": "c690a66e",
   "metadata": {},
   "outputs": [
    {
     "data": {
      "text/plain": [
       "pandas.core.frame.DataFrame"
      ]
     },
     "execution_count": 24,
     "metadata": {},
     "output_type": "execute_result"
    }
   ],
   "source": [
    "type(test_df)"
   ]
  },
  {
   "cell_type": "code",
   "execution_count": 49,
   "id": "07155c77",
   "metadata": {},
   "outputs": [
    {
     "data": {
      "text/plain": [
       "['sq_mt_built',\n",
       " 'n_rooms',\n",
       " 'n_bathrooms',\n",
       " 'latitude',\n",
       " 'longitude',\n",
       " 'rent_price',\n",
       " 'buy_price',\n",
       " 'is_new_development',\n",
       " 'is_renewal_needed',\n",
       " 'has_lift',\n",
       " 'is_exterior',\n",
       " 'energy_certificate',\n",
       " 'has_parking',\n",
       " 'has_pool',\n",
       " 'has_terrace',\n",
       " 'has_balcony',\n",
       " 'has_storage_room',\n",
       " 'floor',\n",
       " 'house_type',\n",
       " 'value_m2',\n",
       " 'neighborhood',\n",
       " 'district',\n",
       " 'prediction']"
      ]
     },
     "execution_count": 49,
     "metadata": {},
     "output_type": "execute_result"
    }
   ],
   "source": [
    "test_h2o.columns"
   ]
  },
  {
   "cell_type": "markdown",
   "id": "6fcb9b8e",
   "metadata": {},
   "source": [
    "#### Let's see all the models, not only the leaderboard:"
   ]
  },
  {
   "cell_type": "code",
   "execution_count": 72,
   "id": "9d74907c",
   "metadata": {},
   "outputs": [
    {
     "data": {
      "text/html": [
       "<table>\n",
       "<thead>\n",
       "<tr><th>model_id                                            </th><th style=\"text-align: right;\">  mean_residual_deviance</th><th style=\"text-align: right;\">  rmse</th><th style=\"text-align: right;\">        mse</th><th style=\"text-align: right;\">     mae</th><th style=\"text-align: right;\">     rmsle</th></tr>\n",
       "</thead>\n",
       "<tbody>\n",
       "<tr><td>StackedEnsemble_AllModels_AutoML_20210726_135529    </td><td style=\"text-align: right;\">             1.66121e+10</td><td style=\"text-align: right;\">128888</td><td style=\"text-align: right;\">1.66121e+10</td><td style=\"text-align: right;\"> 62686.1</td><td style=\"text-align: right;\">  0.173482</td></tr>\n",
       "<tr><td>StackedEnsemble_BestOfFamily_AutoML_20210726_135529 </td><td style=\"text-align: right;\">             1.73717e+10</td><td style=\"text-align: right;\">131802</td><td style=\"text-align: right;\">1.73717e+10</td><td style=\"text-align: right;\"> 64865.1</td><td style=\"text-align: right;\">  0.17757 </td></tr>\n",
       "<tr><td>GBM_grid__1_AutoML_20210726_135529_model_35         </td><td style=\"text-align: right;\">             1.89617e+10</td><td style=\"text-align: right;\">137702</td><td style=\"text-align: right;\">1.89617e+10</td><td style=\"text-align: right;\"> 67636.6</td><td style=\"text-align: right;\">  0.185669</td></tr>\n",
       "<tr><td>GBM_grid__1_AutoML_20210726_135529_model_59         </td><td style=\"text-align: right;\">             1.92246e+10</td><td style=\"text-align: right;\">138653</td><td style=\"text-align: right;\">1.92246e+10</td><td style=\"text-align: right;\"> 65721.3</td><td style=\"text-align: right;\">  0.183679</td></tr>\n",
       "<tr><td>GBM_grid__1_AutoML_20210726_135529_model_12         </td><td style=\"text-align: right;\">             1.92473e+10</td><td style=\"text-align: right;\">138735</td><td style=\"text-align: right;\">1.92473e+10</td><td style=\"text-align: right;\"> 65434.1</td><td style=\"text-align: right;\">  0.1835  </td></tr>\n",
       "<tr><td>XGBoost_grid__1_AutoML_20210726_135529_model_73     </td><td style=\"text-align: right;\">             1.92803e+10</td><td style=\"text-align: right;\">138853</td><td style=\"text-align: right;\">1.92803e+10</td><td style=\"text-align: right;\"> 68228.9</td><td style=\"text-align: right;\">  0.189829</td></tr>\n",
       "<tr><td>XGBoost_grid__1_AutoML_20210726_135529_model_48     </td><td style=\"text-align: right;\">             1.95569e+10</td><td style=\"text-align: right;\">139846</td><td style=\"text-align: right;\">1.95569e+10</td><td style=\"text-align: right;\"> 68109.5</td><td style=\"text-align: right;\">  0.187788</td></tr>\n",
       "<tr><td>GBM_grid__1_AutoML_20210726_135529_model_6          </td><td style=\"text-align: right;\">             1.96385e+10</td><td style=\"text-align: right;\">140137</td><td style=\"text-align: right;\">1.96385e+10</td><td style=\"text-align: right;\"> 68463.2</td><td style=\"text-align: right;\">  0.187015</td></tr>\n",
       "<tr><td>GBM_grid__1_AutoML_20210726_135529_model_39         </td><td style=\"text-align: right;\">             1.97012e+10</td><td style=\"text-align: right;\">140361</td><td style=\"text-align: right;\">1.97012e+10</td><td style=\"text-align: right;\"> 65578.7</td><td style=\"text-align: right;\">  0.182413</td></tr>\n",
       "<tr><td>GBM_grid__1_AutoML_20210726_135529_model_9          </td><td style=\"text-align: right;\">             1.97908e+10</td><td style=\"text-align: right;\">140680</td><td style=\"text-align: right;\">1.97908e+10</td><td style=\"text-align: right;\"> 68170  </td><td style=\"text-align: right;\">  0.188095</td></tr>\n",
       "<tr><td>GBM_grid__1_AutoML_20210726_135529_model_17         </td><td style=\"text-align: right;\">             1.98123e+10</td><td style=\"text-align: right;\">140756</td><td style=\"text-align: right;\">1.98123e+10</td><td style=\"text-align: right;\"> 66206.8</td><td style=\"text-align: right;\">  0.183174</td></tr>\n",
       "<tr><td>GBM_grid__1_AutoML_20210726_135529_model_58         </td><td style=\"text-align: right;\">             1.98906e+10</td><td style=\"text-align: right;\">141034</td><td style=\"text-align: right;\">1.98906e+10</td><td style=\"text-align: right;\"> 65747.3</td><td style=\"text-align: right;\">  0.185896</td></tr>\n",
       "<tr><td>GBM_grid__1_AutoML_20210726_135529_model_42         </td><td style=\"text-align: right;\">             1.99186e+10</td><td style=\"text-align: right;\">141133</td><td style=\"text-align: right;\">1.99186e+10</td><td style=\"text-align: right;\"> 69775.4</td><td style=\"text-align: right;\">  0.187987</td></tr>\n",
       "<tr><td>GBM_grid__1_AutoML_20210726_135529_model_15         </td><td style=\"text-align: right;\">             1.99207e+10</td><td style=\"text-align: right;\">141141</td><td style=\"text-align: right;\">1.99207e+10</td><td style=\"text-align: right;\"> 68672.2</td><td style=\"text-align: right;\">  0.187961</td></tr>\n",
       "<tr><td>GBM_grid__1_AutoML_20210726_135529_model_31         </td><td style=\"text-align: right;\">             1.99237e+10</td><td style=\"text-align: right;\">141151</td><td style=\"text-align: right;\">1.99237e+10</td><td style=\"text-align: right;\"> 67232.1</td><td style=\"text-align: right;\">  0.185815</td></tr>\n",
       "<tr><td>XGBoost_grid__1_AutoML_20210726_135529_model_108    </td><td style=\"text-align: right;\">             1.99776e+10</td><td style=\"text-align: right;\">141342</td><td style=\"text-align: right;\">1.99776e+10</td><td style=\"text-align: right;\"> 69147.3</td><td style=\"text-align: right;\">  0.189233</td></tr>\n",
       "<tr><td>GBM_4_AutoML_20210726_135529                        </td><td style=\"text-align: right;\">             2.00154e+10</td><td style=\"text-align: right;\">141476</td><td style=\"text-align: right;\">2.00154e+10</td><td style=\"text-align: right;\"> 67074.3</td><td style=\"text-align: right;\">  0.183593</td></tr>\n",
       "<tr><td>GBM_grid__1_AutoML_20210726_135529_model_65         </td><td style=\"text-align: right;\">             2.00501e+10</td><td style=\"text-align: right;\">141598</td><td style=\"text-align: right;\">2.00501e+10</td><td style=\"text-align: right;\"> 66422.2</td><td style=\"text-align: right;\">  0.181988</td></tr>\n",
       "<tr><td>GBM_1_AutoML_20210726_135529                        </td><td style=\"text-align: right;\">             2.00953e+10</td><td style=\"text-align: right;\">141758</td><td style=\"text-align: right;\">2.00953e+10</td><td style=\"text-align: right;\"> 68198.5</td><td style=\"text-align: right;\">  0.186402</td></tr>\n",
       "<tr><td>GBM_grid__1_AutoML_20210726_135529_model_16         </td><td style=\"text-align: right;\">             2.0109e+10 </td><td style=\"text-align: right;\">141806</td><td style=\"text-align: right;\">2.0109e+10 </td><td style=\"text-align: right;\"> 67402.7</td><td style=\"text-align: right;\">  0.182467</td></tr>\n",
       "<tr><td>XGBoost_grid__1_AutoML_20210726_135529_model_44     </td><td style=\"text-align: right;\">             2.01393e+10</td><td style=\"text-align: right;\">141913</td><td style=\"text-align: right;\">2.01393e+10</td><td style=\"text-align: right;\"> 68380.5</td><td style=\"text-align: right;\">  0.185478</td></tr>\n",
       "<tr><td>XGBoost_grid__1_AutoML_20210726_135529_model_25     </td><td style=\"text-align: right;\">             2.01527e+10</td><td style=\"text-align: right;\">141960</td><td style=\"text-align: right;\">2.01527e+10</td><td style=\"text-align: right;\"> 71699.6</td><td style=\"text-align: right;\">  0.198581</td></tr>\n",
       "<tr><td>XGBoost_grid__1_AutoML_20210726_135529_model_88     </td><td style=\"text-align: right;\">             2.01672e+10</td><td style=\"text-align: right;\">142011</td><td style=\"text-align: right;\">2.01672e+10</td><td style=\"text-align: right;\"> 67923.7</td><td style=\"text-align: right;\">  0.190555</td></tr>\n",
       "<tr><td>GBM_grid__1_AutoML_20210726_135529_model_10         </td><td style=\"text-align: right;\">             2.02122e+10</td><td style=\"text-align: right;\">142169</td><td style=\"text-align: right;\">2.02122e+10</td><td style=\"text-align: right;\"> 71507.2</td><td style=\"text-align: right;\">  0.193191</td></tr>\n",
       "<tr><td>GBM_grid__1_AutoML_20210726_135529_model_3          </td><td style=\"text-align: right;\">             2.02699e+10</td><td style=\"text-align: right;\">142373</td><td style=\"text-align: right;\">2.02699e+10</td><td style=\"text-align: right;\"> 66737.4</td><td style=\"text-align: right;\">  0.183023</td></tr>\n",
       "<tr><td>XGBoost_grid__1_AutoML_20210726_135529_model_41     </td><td style=\"text-align: right;\">             2.03655e+10</td><td style=\"text-align: right;\">142708</td><td style=\"text-align: right;\">2.03655e+10</td><td style=\"text-align: right;\"> 67859.1</td><td style=\"text-align: right;\">  0.191014</td></tr>\n",
       "<tr><td>GBM_2_AutoML_20210726_135529                        </td><td style=\"text-align: right;\">             2.0484e+10 </td><td style=\"text-align: right;\">143122</td><td style=\"text-align: right;\">2.0484e+10 </td><td style=\"text-align: right;\"> 68948.1</td><td style=\"text-align: right;\">  0.185913</td></tr>\n",
       "<tr><td>GBM_grid__1_AutoML_20210726_135529_model_25         </td><td style=\"text-align: right;\">             2.05034e+10</td><td style=\"text-align: right;\">143190</td><td style=\"text-align: right;\">2.05034e+10</td><td style=\"text-align: right;\"> 66259.6</td><td style=\"text-align: right;\">  0.184076</td></tr>\n",
       "<tr><td>XGBoost_grid__1_AutoML_20210726_135529_model_40     </td><td style=\"text-align: right;\">             2.05227e+10</td><td style=\"text-align: right;\">143257</td><td style=\"text-align: right;\">2.05227e+10</td><td style=\"text-align: right;\"> 69180.7</td><td style=\"text-align: right;\">  0.191696</td></tr>\n",
       "<tr><td>XGBoost_grid__1_AutoML_20210726_135529_model_13     </td><td style=\"text-align: right;\">             2.06385e+10</td><td style=\"text-align: right;\">143661</td><td style=\"text-align: right;\">2.06385e+10</td><td style=\"text-align: right;\"> 68365.3</td><td style=\"text-align: right;\">  0.189814</td></tr>\n",
       "<tr><td>XGBoost_grid__1_AutoML_20210726_135529_model_93     </td><td style=\"text-align: right;\">             2.06609e+10</td><td style=\"text-align: right;\">143739</td><td style=\"text-align: right;\">2.06609e+10</td><td style=\"text-align: right;\"> 68110.6</td><td style=\"text-align: right;\">  0.191959</td></tr>\n",
       "<tr><td>XGBoost_grid__1_AutoML_20210726_135529_model_70     </td><td style=\"text-align: right;\">             2.06924e+10</td><td style=\"text-align: right;\">143849</td><td style=\"text-align: right;\">2.06924e+10</td><td style=\"text-align: right;\"> 70882.5</td><td style=\"text-align: right;\">  0.1938  </td></tr>\n",
       "<tr><td>GBM_grid__1_AutoML_20210726_135529_model_41         </td><td style=\"text-align: right;\">             2.07008e+10</td><td style=\"text-align: right;\">143878</td><td style=\"text-align: right;\">2.07008e+10</td><td style=\"text-align: right;\"> 68192.9</td><td style=\"text-align: right;\">  0.184197</td></tr>\n",
       "<tr><td>GBM_grid__1_AutoML_20210726_135529_model_22         </td><td style=\"text-align: right;\">             2.07052e+10</td><td style=\"text-align: right;\">143893</td><td style=\"text-align: right;\">2.07052e+10</td><td style=\"text-align: right;\"> 68447.9</td><td style=\"text-align: right;\">  0.191411</td></tr>\n",
       "<tr><td>GBM_grid__1_AutoML_20210726_135529_model_52         </td><td style=\"text-align: right;\">             2.07154e+10</td><td style=\"text-align: right;\">143928</td><td style=\"text-align: right;\">2.07154e+10</td><td style=\"text-align: right;\"> 68394.4</td><td style=\"text-align: right;\">  0.185848</td></tr>\n",
       "<tr><td>XGBoost_grid__1_AutoML_20210726_135529_model_78     </td><td style=\"text-align: right;\">             2.07291e+10</td><td style=\"text-align: right;\">143976</td><td style=\"text-align: right;\">2.07291e+10</td><td style=\"text-align: right;\"> 68766.4</td><td style=\"text-align: right;\">  0.188417</td></tr>\n",
       "<tr><td>GBM_grid__1_AutoML_20210726_135529_model_20         </td><td style=\"text-align: right;\">             2.07426e+10</td><td style=\"text-align: right;\">144023</td><td style=\"text-align: right;\">2.07426e+10</td><td style=\"text-align: right;\"> 67503  </td><td style=\"text-align: right;\">  0.184308</td></tr>\n",
       "<tr><td>XGBoost_grid__1_AutoML_20210726_135529_model_26     </td><td style=\"text-align: right;\">             2.07805e+10</td><td style=\"text-align: right;\">144154</td><td style=\"text-align: right;\">2.07805e+10</td><td style=\"text-align: right;\"> 70945.4</td><td style=\"text-align: right;\">  0.192824</td></tr>\n",
       "<tr><td>XGBoost_grid__1_AutoML_20210726_135529_model_77     </td><td style=\"text-align: right;\">             2.07859e+10</td><td style=\"text-align: right;\">144173</td><td style=\"text-align: right;\">2.07859e+10</td><td style=\"text-align: right;\"> 69198.9</td><td style=\"text-align: right;\">  0.189079</td></tr>\n",
       "<tr><td>XGBoost_grid__1_AutoML_20210726_135529_model_20     </td><td style=\"text-align: right;\">             2.07918e+10</td><td style=\"text-align: right;\">144194</td><td style=\"text-align: right;\">2.07918e+10</td><td style=\"text-align: right;\"> 67522.9</td><td style=\"text-align: right;\">  0.18728 </td></tr>\n",
       "<tr><td>XGBoost_grid__1_AutoML_20210726_135529_model_92     </td><td style=\"text-align: right;\">             2.07922e+10</td><td style=\"text-align: right;\">144195</td><td style=\"text-align: right;\">2.07922e+10</td><td style=\"text-align: right;\"> 69729.7</td><td style=\"text-align: right;\">  0.190236</td></tr>\n",
       "<tr><td>GBM_grid__1_AutoML_20210726_135529_model_18         </td><td style=\"text-align: right;\">             2.07966e+10</td><td style=\"text-align: right;\">144210</td><td style=\"text-align: right;\">2.07966e+10</td><td style=\"text-align: right;\"> 68599.5</td><td style=\"text-align: right;\">  0.187681</td></tr>\n",
       "<tr><td>GBM_grid__1_AutoML_20210726_135529_model_37         </td><td style=\"text-align: right;\">             2.08419e+10</td><td style=\"text-align: right;\">144367</td><td style=\"text-align: right;\">2.08419e+10</td><td style=\"text-align: right;\"> 69477  </td><td style=\"text-align: right;\">  0.186737</td></tr>\n",
       "<tr><td>GBM_grid__1_AutoML_20210726_135529_model_44         </td><td style=\"text-align: right;\">             2.0907e+10 </td><td style=\"text-align: right;\">144592</td><td style=\"text-align: right;\">2.0907e+10 </td><td style=\"text-align: right;\"> 69058.9</td><td style=\"text-align: right;\">  0.187307</td></tr>\n",
       "<tr><td>DRF_1_AutoML_20210726_135529                        </td><td style=\"text-align: right;\">             2.09302e+10</td><td style=\"text-align: right;\">144673</td><td style=\"text-align: right;\">2.09302e+10</td><td style=\"text-align: right;\"> 67032.5</td><td style=\"text-align: right;\">  0.184296</td></tr>\n",
       "<tr><td>XGBoost_grid__1_AutoML_20210726_135529_model_103    </td><td style=\"text-align: right;\">             2.09765e+10</td><td style=\"text-align: right;\">144833</td><td style=\"text-align: right;\">2.09765e+10</td><td style=\"text-align: right;\"> 69790.1</td><td style=\"text-align: right;\">  0.198681</td></tr>\n",
       "<tr><td>XGBoost_grid__1_AutoML_20210726_135529_model_102    </td><td style=\"text-align: right;\">             2.10164e+10</td><td style=\"text-align: right;\">144970</td><td style=\"text-align: right;\">2.10164e+10</td><td style=\"text-align: right;\"> 73841  </td><td style=\"text-align: right;\">  0.203513</td></tr>\n",
       "<tr><td>GBM_grid__1_AutoML_20210726_135529_model_36         </td><td style=\"text-align: right;\">             2.1021e+10 </td><td style=\"text-align: right;\">144986</td><td style=\"text-align: right;\">2.1021e+10 </td><td style=\"text-align: right;\"> 68884.8</td><td style=\"text-align: right;\">  0.185106</td></tr>\n",
       "<tr><td>GBM_grid__1_AutoML_20210726_135529_model_51         </td><td style=\"text-align: right;\">             2.10302e+10</td><td style=\"text-align: right;\">145018</td><td style=\"text-align: right;\">2.10302e+10</td><td style=\"text-align: right;\"> 67503.6</td><td style=\"text-align: right;\">  0.185003</td></tr>\n",
       "<tr><td>GBM_grid__1_AutoML_20210726_135529_model_27         </td><td style=\"text-align: right;\">             2.10382e+10</td><td style=\"text-align: right;\">145045</td><td style=\"text-align: right;\">2.10382e+10</td><td style=\"text-align: right;\"> 71221.8</td><td style=\"text-align: right;\">  0.191165</td></tr>\n",
       "<tr><td>GBM_3_AutoML_20210726_135529                        </td><td style=\"text-align: right;\">             2.10502e+10</td><td style=\"text-align: right;\">145087</td><td style=\"text-align: right;\">2.10502e+10</td><td style=\"text-align: right;\"> 68986.5</td><td style=\"text-align: right;\">  0.18605 </td></tr>\n",
       "<tr><td>XGBoost_grid__1_AutoML_20210726_135529_model_57     </td><td style=\"text-align: right;\">             2.1074e+10 </td><td style=\"text-align: right;\">145169</td><td style=\"text-align: right;\">2.1074e+10 </td><td style=\"text-align: right;\"> 72245.4</td><td style=\"text-align: right;\">  0.196475</td></tr>\n",
       "<tr><td>XGBoost_grid__1_AutoML_20210726_135529_model_7      </td><td style=\"text-align: right;\">             2.10979e+10</td><td style=\"text-align: right;\">145251</td><td style=\"text-align: right;\">2.10979e+10</td><td style=\"text-align: right;\"> 71444.6</td><td style=\"text-align: right;\">  0.199556</td></tr>\n",
       "<tr><td>GBM_grid__1_AutoML_20210726_135529_model_55         </td><td style=\"text-align: right;\">             2.11317e+10</td><td style=\"text-align: right;\">145368</td><td style=\"text-align: right;\">2.11317e+10</td><td style=\"text-align: right;\"> 69812.9</td><td style=\"text-align: right;\">  0.186738</td></tr>\n",
       "<tr><td>GBM_grid__1_AutoML_20210726_135529_model_2          </td><td style=\"text-align: right;\">             2.1144e+10 </td><td style=\"text-align: right;\">145410</td><td style=\"text-align: right;\">2.1144e+10 </td><td style=\"text-align: right;\"> 69842.5</td><td style=\"text-align: right;\">  0.188269</td></tr>\n",
       "<tr><td>GBM_grid__1_AutoML_20210726_135529_model_26         </td><td style=\"text-align: right;\">             2.12046e+10</td><td style=\"text-align: right;\">145618</td><td style=\"text-align: right;\">2.12046e+10</td><td style=\"text-align: right;\"> 69595.5</td><td style=\"text-align: right;\">  0.1872  </td></tr>\n",
       "<tr><td>GBM_grid__1_AutoML_20210726_135529_model_57         </td><td style=\"text-align: right;\">             2.12262e+10</td><td style=\"text-align: right;\">145692</td><td style=\"text-align: right;\">2.12262e+10</td><td style=\"text-align: right;\"> 69652.2</td><td style=\"text-align: right;\">  0.186585</td></tr>\n",
       "<tr><td>XGBoost_grid__1_AutoML_20210726_135529_model_95     </td><td style=\"text-align: right;\">             2.12333e+10</td><td style=\"text-align: right;\">145716</td><td style=\"text-align: right;\">2.12333e+10</td><td style=\"text-align: right;\"> 71213.5</td><td style=\"text-align: right;\">  0.194755</td></tr>\n",
       "<tr><td>GBM_grid__1_AutoML_20210726_135529_model_33         </td><td style=\"text-align: right;\">             2.12493e+10</td><td style=\"text-align: right;\">145771</td><td style=\"text-align: right;\">2.12493e+10</td><td style=\"text-align: right;\"> 68902.2</td><td style=\"text-align: right;\">  0.190344</td></tr>\n",
       "<tr><td>XGBoost_grid__1_AutoML_20210726_135529_model_83     </td><td style=\"text-align: right;\">             2.12517e+10</td><td style=\"text-align: right;\">145780</td><td style=\"text-align: right;\">2.12517e+10</td><td style=\"text-align: right;\"> 70472.9</td><td style=\"text-align: right;\">  0.191333</td></tr>\n",
       "<tr><td>XGBoost_grid__1_AutoML_20210726_135529_model_84     </td><td style=\"text-align: right;\">             2.12798e+10</td><td style=\"text-align: right;\">145876</td><td style=\"text-align: right;\">2.12798e+10</td><td style=\"text-align: right;\"> 71871.5</td><td style=\"text-align: right;\">  0.195244</td></tr>\n",
       "<tr><td>GBM_grid__1_AutoML_20210726_135529_model_50         </td><td style=\"text-align: right;\">             2.12895e+10</td><td style=\"text-align: right;\">145909</td><td style=\"text-align: right;\">2.12895e+10</td><td style=\"text-align: right;\"> 68791.8</td><td style=\"text-align: right;\">  0.185294</td></tr>\n",
       "<tr><td>GBM_grid__1_AutoML_20210726_135529_model_34         </td><td style=\"text-align: right;\">             2.12951e+10</td><td style=\"text-align: right;\">145928</td><td style=\"text-align: right;\">2.12951e+10</td><td style=\"text-align: right;\"> 70320.6</td><td style=\"text-align: right;\">  0.190577</td></tr>\n",
       "<tr><td>XGBoost_grid__1_AutoML_20210726_135529_model_19     </td><td style=\"text-align: right;\">             2.13426e+10</td><td style=\"text-align: right;\">146091</td><td style=\"text-align: right;\">2.13426e+10</td><td style=\"text-align: right;\"> 71125.9</td><td style=\"text-align: right;\">  0.192637</td></tr>\n",
       "<tr><td>XGBoost_grid__1_AutoML_20210726_135529_model_36     </td><td style=\"text-align: right;\">             2.13595e+10</td><td style=\"text-align: right;\">146149</td><td style=\"text-align: right;\">2.13595e+10</td><td style=\"text-align: right;\"> 69222.1</td><td style=\"text-align: right;\">  0.191423</td></tr>\n",
       "<tr><td>GBM_grid__1_AutoML_20210726_135529_model_38         </td><td style=\"text-align: right;\">             2.13638e+10</td><td style=\"text-align: right;\">146164</td><td style=\"text-align: right;\">2.13638e+10</td><td style=\"text-align: right;\"> 71822.6</td><td style=\"text-align: right;\">  0.192213</td></tr>\n",
       "<tr><td>XGBoost_grid__1_AutoML_20210726_135529_model_85     </td><td style=\"text-align: right;\">             2.13697e+10</td><td style=\"text-align: right;\">146184</td><td style=\"text-align: right;\">2.13697e+10</td><td style=\"text-align: right;\"> 69955.3</td><td style=\"text-align: right;\">  0.189557</td></tr>\n",
       "<tr><td>XRT_1_AutoML_20210726_135529                        </td><td style=\"text-align: right;\">             2.14156e+10</td><td style=\"text-align: right;\">146341</td><td style=\"text-align: right;\">2.14156e+10</td><td style=\"text-align: right;\"> 70352.1</td><td style=\"text-align: right;\">  0.194222</td></tr>\n",
       "<tr><td>XGBoost_grid__1_AutoML_20210726_135529_model_104    </td><td style=\"text-align: right;\">             2.15246e+10</td><td style=\"text-align: right;\">146713</td><td style=\"text-align: right;\">2.15246e+10</td><td style=\"text-align: right;\"> 69635  </td><td style=\"text-align: right;\">  0.190375</td></tr>\n",
       "<tr><td>XGBoost_grid__1_AutoML_20210726_135529_model_66     </td><td style=\"text-align: right;\">             2.15561e+10</td><td style=\"text-align: right;\">146820</td><td style=\"text-align: right;\">2.15561e+10</td><td style=\"text-align: right;\"> 67863.5</td><td style=\"text-align: right;\">  0.18693 </td></tr>\n",
       "<tr><td>GBM_grid__1_AutoML_20210726_135529_model_45         </td><td style=\"text-align: right;\">             2.16236e+10</td><td style=\"text-align: right;\">147050</td><td style=\"text-align: right;\">2.16236e+10</td><td style=\"text-align: right;\"> 72461.7</td><td style=\"text-align: right;\">  0.195183</td></tr>\n",
       "<tr><td>GBM_grid__1_AutoML_20210726_135529_model_11         </td><td style=\"text-align: right;\">             2.16715e+10</td><td style=\"text-align: right;\">147212</td><td style=\"text-align: right;\">2.16715e+10</td><td style=\"text-align: right;\"> 71018.4</td><td style=\"text-align: right;\">  0.194066</td></tr>\n",
       "<tr><td>XGBoost_grid__1_AutoML_20210726_135529_model_63     </td><td style=\"text-align: right;\">             2.16716e+10</td><td style=\"text-align: right;\">147213</td><td style=\"text-align: right;\">2.16716e+10</td><td style=\"text-align: right;\"> 75426.5</td><td style=\"text-align: right;\">  0.203676</td></tr>\n",
       "<tr><td>XGBoost_grid__1_AutoML_20210726_135529_model_100    </td><td style=\"text-align: right;\">             2.16828e+10</td><td style=\"text-align: right;\">147251</td><td style=\"text-align: right;\">2.16828e+10</td><td style=\"text-align: right;\"> 70436.7</td><td style=\"text-align: right;\">  0.19146 </td></tr>\n",
       "<tr><td>GBM_grid__1_AutoML_20210726_135529_model_8          </td><td style=\"text-align: right;\">             2.16955e+10</td><td style=\"text-align: right;\">147294</td><td style=\"text-align: right;\">2.16955e+10</td><td style=\"text-align: right;\"> 73396.6</td><td style=\"text-align: right;\">  0.1963  </td></tr>\n",
       "<tr><td>XGBoost_grid__1_AutoML_20210726_135529_model_60     </td><td style=\"text-align: right;\">             2.17156e+10</td><td style=\"text-align: right;\">147362</td><td style=\"text-align: right;\">2.17156e+10</td><td style=\"text-align: right;\"> 70652.8</td><td style=\"text-align: right;\">  0.190732</td></tr>\n",
       "<tr><td>XGBoost_grid__1_AutoML_20210726_135529_model_81     </td><td style=\"text-align: right;\">             2.17454e+10</td><td style=\"text-align: right;\">147463</td><td style=\"text-align: right;\">2.17454e+10</td><td style=\"text-align: right;\"> 69396.9</td><td style=\"text-align: right;\">  0.19196 </td></tr>\n",
       "<tr><td>XGBoost_grid__1_AutoML_20210726_135529_model_91     </td><td style=\"text-align: right;\">             2.17537e+10</td><td style=\"text-align: right;\">147491</td><td style=\"text-align: right;\">2.17537e+10</td><td style=\"text-align: right;\"> 69021.3</td><td style=\"text-align: right;\">  0.187126</td></tr>\n",
       "<tr><td>XGBoost_grid__1_AutoML_20210726_135529_model_65     </td><td style=\"text-align: right;\">             2.17657e+10</td><td style=\"text-align: right;\">147532</td><td style=\"text-align: right;\">2.17657e+10</td><td style=\"text-align: right;\"> 72689.1</td><td style=\"text-align: right;\">  0.196463</td></tr>\n",
       "<tr><td>GBM_grid__1_AutoML_20210726_135529_model_1          </td><td style=\"text-align: right;\">             2.17714e+10</td><td style=\"text-align: right;\">147551</td><td style=\"text-align: right;\">2.17714e+10</td><td style=\"text-align: right;\"> 67784  </td><td style=\"text-align: right;\">  0.187923</td></tr>\n",
       "<tr><td>XGBoost_grid__1_AutoML_20210726_135529_model_75     </td><td style=\"text-align: right;\">             2.17941e+10</td><td style=\"text-align: right;\">147628</td><td style=\"text-align: right;\">2.17941e+10</td><td style=\"text-align: right;\"> 73674.1</td><td style=\"text-align: right;\">nan       </td></tr>\n",
       "<tr><td>XGBoost_grid__1_AutoML_20210726_135529_model_67     </td><td style=\"text-align: right;\">             2.18166e+10</td><td style=\"text-align: right;\">147704</td><td style=\"text-align: right;\">2.18166e+10</td><td style=\"text-align: right;\"> 72232.5</td><td style=\"text-align: right;\">  0.195525</td></tr>\n",
       "<tr><td>GBM_grid__1_AutoML_20210726_135529_model_13         </td><td style=\"text-align: right;\">             2.18189e+10</td><td style=\"text-align: right;\">147712</td><td style=\"text-align: right;\">2.18189e+10</td><td style=\"text-align: right;\"> 72719.3</td><td style=\"text-align: right;\">  0.19637 </td></tr>\n",
       "<tr><td>GBM_grid__1_AutoML_20210726_135529_model_23         </td><td style=\"text-align: right;\">             2.18386e+10</td><td style=\"text-align: right;\">147779</td><td style=\"text-align: right;\">2.18386e+10</td><td style=\"text-align: right;\"> 72913.8</td><td style=\"text-align: right;\">  0.196544</td></tr>\n",
       "<tr><td>XGBoost_grid__1_AutoML_20210726_135529_model_9      </td><td style=\"text-align: right;\">             2.18499e+10</td><td style=\"text-align: right;\">147817</td><td style=\"text-align: right;\">2.18499e+10</td><td style=\"text-align: right;\"> 71376.7</td><td style=\"text-align: right;\">  0.190381</td></tr>\n",
       "<tr><td>XGBoost_3_AutoML_20210726_135529                    </td><td style=\"text-align: right;\">             2.18589e+10</td><td style=\"text-align: right;\">147848</td><td style=\"text-align: right;\">2.18589e+10</td><td style=\"text-align: right;\"> 73497  </td><td style=\"text-align: right;\">  0.197297</td></tr>\n",
       "<tr><td>DeepLearning_grid__1_AutoML_20210726_135529_model_2 </td><td style=\"text-align: right;\">             2.18804e+10</td><td style=\"text-align: right;\">147920</td><td style=\"text-align: right;\">2.18804e+10</td><td style=\"text-align: right;\"> 76276.7</td><td style=\"text-align: right;\">nan       </td></tr>\n",
       "<tr><td>XGBoost_grid__1_AutoML_20210726_135529_model_101    </td><td style=\"text-align: right;\">             2.19187e+10</td><td style=\"text-align: right;\">148050</td><td style=\"text-align: right;\">2.19187e+10</td><td style=\"text-align: right;\"> 72696  </td><td style=\"text-align: right;\">  0.198968</td></tr>\n",
       "<tr><td>GBM_grid__1_AutoML_20210726_135529_model_19         </td><td style=\"text-align: right;\">             2.19267e+10</td><td style=\"text-align: right;\">148077</td><td style=\"text-align: right;\">2.19267e+10</td><td style=\"text-align: right;\"> 71973.6</td><td style=\"text-align: right;\">  0.195542</td></tr>\n",
       "<tr><td>XGBoost_grid__1_AutoML_20210726_135529_model_28     </td><td style=\"text-align: right;\">             2.19555e+10</td><td style=\"text-align: right;\">148174</td><td style=\"text-align: right;\">2.19555e+10</td><td style=\"text-align: right;\"> 72166.8</td><td style=\"text-align: right;\">  0.191796</td></tr>\n",
       "<tr><td>GBM_grid__1_AutoML_20210726_135529_model_29         </td><td style=\"text-align: right;\">             2.19954e+10</td><td style=\"text-align: right;\">148309</td><td style=\"text-align: right;\">2.19954e+10</td><td style=\"text-align: right;\"> 73221.4</td><td style=\"text-align: right;\">  0.195361</td></tr>\n",
       "<tr><td>XGBoost_grid__1_AutoML_20210726_135529_model_109    </td><td style=\"text-align: right;\">             2.20008e+10</td><td style=\"text-align: right;\">148327</td><td style=\"text-align: right;\">2.20008e+10</td><td style=\"text-align: right;\"> 72386.7</td><td style=\"text-align: right;\">  0.200317</td></tr>\n",
       "<tr><td>XGBoost_grid__1_AutoML_20210726_135529_model_24     </td><td style=\"text-align: right;\">             2.20581e+10</td><td style=\"text-align: right;\">148520</td><td style=\"text-align: right;\">2.20581e+10</td><td style=\"text-align: right;\"> 76188.2</td><td style=\"text-align: right;\">  0.207652</td></tr>\n",
       "<tr><td>XGBoost_grid__1_AutoML_20210726_135529_model_1      </td><td style=\"text-align: right;\">             2.2071e+10 </td><td style=\"text-align: right;\">148563</td><td style=\"text-align: right;\">2.2071e+10 </td><td style=\"text-align: right;\"> 73032.5</td><td style=\"text-align: right;\">  0.196332</td></tr>\n",
       "<tr><td>XGBoost_grid__1_AutoML_20210726_135529_model_72     </td><td style=\"text-align: right;\">             2.20733e+10</td><td style=\"text-align: right;\">148571</td><td style=\"text-align: right;\">2.20733e+10</td><td style=\"text-align: right;\"> 69610  </td><td style=\"text-align: right;\">  0.18855 </td></tr>\n",
       "<tr><td>XGBoost_grid__1_AutoML_20210726_135529_model_23     </td><td style=\"text-align: right;\">             2.20797e+10</td><td style=\"text-align: right;\">148592</td><td style=\"text-align: right;\">2.20797e+10</td><td style=\"text-align: right;\"> 74388.3</td><td style=\"text-align: right;\">  0.201723</td></tr>\n",
       "<tr><td>XGBoost_grid__1_AutoML_20210726_135529_model_34     </td><td style=\"text-align: right;\">             2.209e+10  </td><td style=\"text-align: right;\">148627</td><td style=\"text-align: right;\">2.209e+10  </td><td style=\"text-align: right;\"> 70658  </td><td style=\"text-align: right;\">  0.189158</td></tr>\n",
       "<tr><td>GBM_grid__1_AutoML_20210726_135529_model_24         </td><td style=\"text-align: right;\">             2.20988e+10</td><td style=\"text-align: right;\">148657</td><td style=\"text-align: right;\">2.20988e+10</td><td style=\"text-align: right;\"> 73284.8</td><td style=\"text-align: right;\">  0.197364</td></tr>\n",
       "<tr><td>XGBoost_grid__1_AutoML_20210726_135529_model_22     </td><td style=\"text-align: right;\">             2.21132e+10</td><td style=\"text-align: right;\">148705</td><td style=\"text-align: right;\">2.21132e+10</td><td style=\"text-align: right;\"> 71096.9</td><td style=\"text-align: right;\">  0.190652</td></tr>\n",
       "<tr><td>XGBoost_grid__1_AutoML_20210726_135529_model_50     </td><td style=\"text-align: right;\">             2.2177e+10 </td><td style=\"text-align: right;\">148919</td><td style=\"text-align: right;\">2.2177e+10 </td><td style=\"text-align: right;\"> 74706  </td><td style=\"text-align: right;\">  0.201694</td></tr>\n",
       "<tr><td>GBM_grid__1_AutoML_20210726_135529_model_4          </td><td style=\"text-align: right;\">             2.21917e+10</td><td style=\"text-align: right;\">148969</td><td style=\"text-align: right;\">2.21917e+10</td><td style=\"text-align: right;\"> 69199.1</td><td style=\"text-align: right;\">  0.190654</td></tr>\n",
       "<tr><td>GBM_grid__1_AutoML_20210726_135529_model_56         </td><td style=\"text-align: right;\">             2.22142e+10</td><td style=\"text-align: right;\">149044</td><td style=\"text-align: right;\">2.22142e+10</td><td style=\"text-align: right;\"> 70569.5</td><td style=\"text-align: right;\">  0.191596</td></tr>\n",
       "<tr><td>XGBoost_grid__1_AutoML_20210726_135529_model_5      </td><td style=\"text-align: right;\">             2.22313e+10</td><td style=\"text-align: right;\">149102</td><td style=\"text-align: right;\">2.22313e+10</td><td style=\"text-align: right;\"> 74673.7</td><td style=\"text-align: right;\">  0.200537</td></tr>\n",
       "<tr><td>XGBoost_grid__1_AutoML_20210726_135529_model_37     </td><td style=\"text-align: right;\">             2.22666e+10</td><td style=\"text-align: right;\">149220</td><td style=\"text-align: right;\">2.22666e+10</td><td style=\"text-align: right;\"> 73524.5</td><td style=\"text-align: right;\">  0.199709</td></tr>\n",
       "<tr><td>GBM_grid__1_AutoML_20210726_135529_model_62         </td><td style=\"text-align: right;\">             2.23027e+10</td><td style=\"text-align: right;\">149341</td><td style=\"text-align: right;\">2.23027e+10</td><td style=\"text-align: right;\"> 68937.5</td><td style=\"text-align: right;\">  0.190455</td></tr>\n",
       "<tr><td>XGBoost_grid__1_AutoML_20210726_135529_model_87     </td><td style=\"text-align: right;\">             2.23399e+10</td><td style=\"text-align: right;\">149465</td><td style=\"text-align: right;\">2.23399e+10</td><td style=\"text-align: right;\"> 72633.5</td><td style=\"text-align: right;\">nan       </td></tr>\n",
       "<tr><td>XGBoost_grid__1_AutoML_20210726_135529_model_94     </td><td style=\"text-align: right;\">             2.23407e+10</td><td style=\"text-align: right;\">149468</td><td style=\"text-align: right;\">2.23407e+10</td><td style=\"text-align: right;\"> 71704.6</td><td style=\"text-align: right;\">  0.192967</td></tr>\n",
       "<tr><td>XGBoost_grid__1_AutoML_20210726_135529_model_79     </td><td style=\"text-align: right;\">             2.23468e+10</td><td style=\"text-align: right;\">149489</td><td style=\"text-align: right;\">2.23468e+10</td><td style=\"text-align: right;\"> 71230.2</td><td style=\"text-align: right;\">  0.194443</td></tr>\n",
       "<tr><td>XGBoost_grid__1_AutoML_20210726_135529_model_46     </td><td style=\"text-align: right;\">             2.23756e+10</td><td style=\"text-align: right;\">149585</td><td style=\"text-align: right;\">2.23756e+10</td><td style=\"text-align: right;\"> 68819.8</td><td style=\"text-align: right;\">  0.195957</td></tr>\n",
       "<tr><td>XGBoost_grid__1_AutoML_20210726_135529_model_105    </td><td style=\"text-align: right;\">             2.23897e+10</td><td style=\"text-align: right;\">149632</td><td style=\"text-align: right;\">2.23897e+10</td><td style=\"text-align: right;\"> 72034.2</td><td style=\"text-align: right;\">  0.192516</td></tr>\n",
       "<tr><td>GBM_grid__1_AutoML_20210726_135529_model_30         </td><td style=\"text-align: right;\">             2.24339e+10</td><td style=\"text-align: right;\">149779</td><td style=\"text-align: right;\">2.24339e+10</td><td style=\"text-align: right;\"> 71920.2</td><td style=\"text-align: right;\">  0.190817</td></tr>\n",
       "<tr><td>XGBoost_grid__1_AutoML_20210726_135529_model_39     </td><td style=\"text-align: right;\">             2.24424e+10</td><td style=\"text-align: right;\">149808</td><td style=\"text-align: right;\">2.24424e+10</td><td style=\"text-align: right;\"> 70853.6</td><td style=\"text-align: right;\">  0.190219</td></tr>\n",
       "<tr><td>GBM_grid__1_AutoML_20210726_135529_model_5          </td><td style=\"text-align: right;\">             2.24428e+10</td><td style=\"text-align: right;\">149809</td><td style=\"text-align: right;\">2.24428e+10</td><td style=\"text-align: right;\"> 69451.8</td><td style=\"text-align: right;\">  0.189721</td></tr>\n",
       "<tr><td>XGBoost_grid__1_AutoML_20210726_135529_model_74     </td><td style=\"text-align: right;\">             2.25231e+10</td><td style=\"text-align: right;\">150077</td><td style=\"text-align: right;\">2.25231e+10</td><td style=\"text-align: right;\"> 75795.4</td><td style=\"text-align: right;\">  0.204568</td></tr>\n",
       "<tr><td>XGBoost_grid__1_AutoML_20210726_135529_model_12     </td><td style=\"text-align: right;\">             2.25233e+10</td><td style=\"text-align: right;\">150078</td><td style=\"text-align: right;\">2.25233e+10</td><td style=\"text-align: right;\"> 72065.7</td><td style=\"text-align: right;\">  0.197141</td></tr>\n",
       "<tr><td>XGBoost_grid__1_AutoML_20210726_135529_model_8      </td><td style=\"text-align: right;\">             2.25646e+10</td><td style=\"text-align: right;\">150215</td><td style=\"text-align: right;\">2.25646e+10</td><td style=\"text-align: right;\"> 71920.3</td><td style=\"text-align: right;\">  0.190818</td></tr>\n",
       "<tr><td>GBM_grid__1_AutoML_20210726_135529_model_49         </td><td style=\"text-align: right;\">             2.26222e+10</td><td style=\"text-align: right;\">150407</td><td style=\"text-align: right;\">2.26222e+10</td><td style=\"text-align: right;\"> 72842.6</td><td style=\"text-align: right;\">  0.194753</td></tr>\n",
       "<tr><td>XGBoost_grid__1_AutoML_20210726_135529_model_52     </td><td style=\"text-align: right;\">             2.26374e+10</td><td style=\"text-align: right;\">150457</td><td style=\"text-align: right;\">2.26374e+10</td><td style=\"text-align: right;\"> 72504.3</td><td style=\"text-align: right;\">  0.193695</td></tr>\n",
       "<tr><td>XGBoost_grid__1_AutoML_20210726_135529_model_64     </td><td style=\"text-align: right;\">             2.26482e+10</td><td style=\"text-align: right;\">150493</td><td style=\"text-align: right;\">2.26482e+10</td><td style=\"text-align: right;\"> 70568.5</td><td style=\"text-align: right;\">  0.194832</td></tr>\n",
       "<tr><td>XGBoost_grid__1_AutoML_20210726_135529_model_96     </td><td style=\"text-align: right;\">             2.26811e+10</td><td style=\"text-align: right;\">150603</td><td style=\"text-align: right;\">2.26811e+10</td><td style=\"text-align: right;\"> 71136.5</td><td style=\"text-align: right;\">  0.192937</td></tr>\n",
       "<tr><td>XGBoost_grid__1_AutoML_20210726_135529_model_61     </td><td style=\"text-align: right;\">             2.26829e+10</td><td style=\"text-align: right;\">150608</td><td style=\"text-align: right;\">2.26829e+10</td><td style=\"text-align: right;\"> 71383.2</td><td style=\"text-align: right;\">  0.197647</td></tr>\n",
       "<tr><td>XGBoost_grid__1_AutoML_20210726_135529_model_59     </td><td style=\"text-align: right;\">             2.27021e+10</td><td style=\"text-align: right;\">150672</td><td style=\"text-align: right;\">2.27021e+10</td><td style=\"text-align: right;\"> 73222.4</td><td style=\"text-align: right;\">  0.195496</td></tr>\n",
       "<tr><td>XGBoost_grid__1_AutoML_20210726_135529_model_14     </td><td style=\"text-align: right;\">             2.27151e+10</td><td style=\"text-align: right;\">150715</td><td style=\"text-align: right;\">2.27151e+10</td><td style=\"text-align: right;\"> 75040.7</td><td style=\"text-align: right;\">  0.201734</td></tr>\n",
       "<tr><td>XGBoost_grid__1_AutoML_20210726_135529_model_69     </td><td style=\"text-align: right;\">             2.27573e+10</td><td style=\"text-align: right;\">150855</td><td style=\"text-align: right;\">2.27573e+10</td><td style=\"text-align: right;\"> 71127  </td><td style=\"text-align: right;\">  0.193817</td></tr>\n",
       "<tr><td>XGBoost_grid__1_AutoML_20210726_135529_model_97     </td><td style=\"text-align: right;\">             2.27971e+10</td><td style=\"text-align: right;\">150987</td><td style=\"text-align: right;\">2.27971e+10</td><td style=\"text-align: right;\"> 71677  </td><td style=\"text-align: right;\">  0.192625</td></tr>\n",
       "<tr><td>XGBoost_grid__1_AutoML_20210726_135529_model_10     </td><td style=\"text-align: right;\">             2.28123e+10</td><td style=\"text-align: right;\">151037</td><td style=\"text-align: right;\">2.28123e+10</td><td style=\"text-align: right;\"> 71710.9</td><td style=\"text-align: right;\">  0.193745</td></tr>\n",
       "<tr><td>XGBoost_grid__1_AutoML_20210726_135529_model_82     </td><td style=\"text-align: right;\">             2.28481e+10</td><td style=\"text-align: right;\">151156</td><td style=\"text-align: right;\">2.28481e+10</td><td style=\"text-align: right;\"> 75593.1</td><td style=\"text-align: right;\">  0.202186</td></tr>\n",
       "<tr><td>XGBoost_grid__1_AutoML_20210726_135529_model_89     </td><td style=\"text-align: right;\">             2.2861e+10 </td><td style=\"text-align: right;\">151199</td><td style=\"text-align: right;\">2.2861e+10 </td><td style=\"text-align: right;\"> 71583.3</td><td style=\"text-align: right;\">  0.1966  </td></tr>\n",
       "<tr><td>XGBoost_grid__1_AutoML_20210726_135529_model_45     </td><td style=\"text-align: right;\">             2.28698e+10</td><td style=\"text-align: right;\">151228</td><td style=\"text-align: right;\">2.28698e+10</td><td style=\"text-align: right;\"> 75027.2</td><td style=\"text-align: right;\">nan       </td></tr>\n",
       "<tr><td>XGBoost_grid__1_AutoML_20210726_135529_model_47     </td><td style=\"text-align: right;\">             2.29128e+10</td><td style=\"text-align: right;\">151370</td><td style=\"text-align: right;\">2.29128e+10</td><td style=\"text-align: right;\"> 72666.7</td><td style=\"text-align: right;\">  0.199744</td></tr>\n",
       "<tr><td>XGBoost_grid__1_AutoML_20210726_135529_model_86     </td><td style=\"text-align: right;\">             2.29318e+10</td><td style=\"text-align: right;\">151432</td><td style=\"text-align: right;\">2.29318e+10</td><td style=\"text-align: right;\"> 74977.2</td><td style=\"text-align: right;\">  0.205104</td></tr>\n",
       "<tr><td>XGBoost_grid__1_AutoML_20210726_135529_model_16     </td><td style=\"text-align: right;\">             2.29602e+10</td><td style=\"text-align: right;\">151526</td><td style=\"text-align: right;\">2.29602e+10</td><td style=\"text-align: right;\"> 75766  </td><td style=\"text-align: right;\">  0.202259</td></tr>\n",
       "<tr><td>XGBoost_grid__1_AutoML_20210726_135529_model_56     </td><td style=\"text-align: right;\">             2.29753e+10</td><td style=\"text-align: right;\">151576</td><td style=\"text-align: right;\">2.29753e+10</td><td style=\"text-align: right;\"> 70474.2</td><td style=\"text-align: right;\">  0.19362 </td></tr>\n",
       "<tr><td>XGBoost_grid__1_AutoML_20210726_135529_model_6      </td><td style=\"text-align: right;\">             2.29899e+10</td><td style=\"text-align: right;\">151624</td><td style=\"text-align: right;\">2.29899e+10</td><td style=\"text-align: right;\"> 70030.8</td><td style=\"text-align: right;\">  0.193203</td></tr>\n",
       "<tr><td>XGBoost_grid__1_AutoML_20210726_135529_model_54     </td><td style=\"text-align: right;\">             2.30048e+10</td><td style=\"text-align: right;\">151673</td><td style=\"text-align: right;\">2.30048e+10</td><td style=\"text-align: right;\"> 70669.3</td><td style=\"text-align: right;\">  0.192335</td></tr>\n",
       "<tr><td>XGBoost_grid__1_AutoML_20210726_135529_model_107    </td><td style=\"text-align: right;\">             2.30167e+10</td><td style=\"text-align: right;\">151713</td><td style=\"text-align: right;\">2.30167e+10</td><td style=\"text-align: right;\"> 70824  </td><td style=\"text-align: right;\">  0.196072</td></tr>\n",
       "<tr><td>XGBoost_grid__1_AutoML_20210726_135529_model_90     </td><td style=\"text-align: right;\">             2.30247e+10</td><td style=\"text-align: right;\">151739</td><td style=\"text-align: right;\">2.30247e+10</td><td style=\"text-align: right;\"> 74224.5</td><td style=\"text-align: right;\">  0.200602</td></tr>\n",
       "<tr><td>XGBoost_grid__1_AutoML_20210726_135529_model_18     </td><td style=\"text-align: right;\">             2.3046e+10 </td><td style=\"text-align: right;\">151809</td><td style=\"text-align: right;\">2.3046e+10 </td><td style=\"text-align: right;\"> 70829.3</td><td style=\"text-align: right;\">  0.198917</td></tr>\n",
       "<tr><td>XGBoost_grid__1_AutoML_20210726_135529_model_49     </td><td style=\"text-align: right;\">             2.30621e+10</td><td style=\"text-align: right;\">151862</td><td style=\"text-align: right;\">2.30621e+10</td><td style=\"text-align: right;\"> 74314.6</td><td style=\"text-align: right;\">  0.202991</td></tr>\n",
       "<tr><td>XGBoost_grid__1_AutoML_20210726_135529_model_31     </td><td style=\"text-align: right;\">             2.30803e+10</td><td style=\"text-align: right;\">151922</td><td style=\"text-align: right;\">2.30803e+10</td><td style=\"text-align: right;\"> 72884.4</td><td style=\"text-align: right;\">  0.195014</td></tr>\n",
       "<tr><td>XGBoost_grid__1_AutoML_20210726_135529_model_29     </td><td style=\"text-align: right;\">             2.30871e+10</td><td style=\"text-align: right;\">151945</td><td style=\"text-align: right;\">2.30871e+10</td><td style=\"text-align: right;\"> 76116.7</td><td style=\"text-align: right;\">  0.203242</td></tr>\n",
       "<tr><td>XGBoost_grid__1_AutoML_20210726_135529_model_42     </td><td style=\"text-align: right;\">             2.30964e+10</td><td style=\"text-align: right;\">151975</td><td style=\"text-align: right;\">2.30964e+10</td><td style=\"text-align: right;\"> 71306.8</td><td style=\"text-align: right;\">  0.198697</td></tr>\n",
       "<tr><td>XGBoost_grid__1_AutoML_20210726_135529_model_80     </td><td style=\"text-align: right;\">             2.31185e+10</td><td style=\"text-align: right;\">152048</td><td style=\"text-align: right;\">2.31185e+10</td><td style=\"text-align: right;\"> 75290  </td><td style=\"text-align: right;\">nan       </td></tr>\n",
       "<tr><td>XGBoost_grid__1_AutoML_20210726_135529_model_62     </td><td style=\"text-align: right;\">             2.31524e+10</td><td style=\"text-align: right;\">152159</td><td style=\"text-align: right;\">2.31524e+10</td><td style=\"text-align: right;\"> 76004.7</td><td style=\"text-align: right;\">  0.203947</td></tr>\n",
       "<tr><td>DeepLearning_grid__1_AutoML_20210726_135529_model_4 </td><td style=\"text-align: right;\">             2.31611e+10</td><td style=\"text-align: right;\">152188</td><td style=\"text-align: right;\">2.31611e+10</td><td style=\"text-align: right;\"> 79985.4</td><td style=\"text-align: right;\">  0.218097</td></tr>\n",
       "<tr><td>XGBoost_grid__1_AutoML_20210726_135529_model_3      </td><td style=\"text-align: right;\">             2.31683e+10</td><td style=\"text-align: right;\">152211</td><td style=\"text-align: right;\">2.31683e+10</td><td style=\"text-align: right;\"> 70978.7</td><td style=\"text-align: right;\">  0.190177</td></tr>\n",
       "<tr><td>XGBoost_grid__1_AutoML_20210726_135529_model_35     </td><td style=\"text-align: right;\">             2.32365e+10</td><td style=\"text-align: right;\">152435</td><td style=\"text-align: right;\">2.32365e+10</td><td style=\"text-align: right;\"> 70279.5</td><td style=\"text-align: right;\">  0.195637</td></tr>\n",
       "<tr><td>XGBoost_2_AutoML_20210726_135529                    </td><td style=\"text-align: right;\">             2.32593e+10</td><td style=\"text-align: right;\">152510</td><td style=\"text-align: right;\">2.32593e+10</td><td style=\"text-align: right;\"> 72833.9</td><td style=\"text-align: right;\">  0.199909</td></tr>\n",
       "<tr><td>GBM_grid__1_AutoML_20210726_135529_model_28         </td><td style=\"text-align: right;\">             2.32683e+10</td><td style=\"text-align: right;\">152540</td><td style=\"text-align: right;\">2.32683e+10</td><td style=\"text-align: right;\"> 76057.1</td><td style=\"text-align: right;\">  0.204641</td></tr>\n",
       "<tr><td>XGBoost_grid__1_AutoML_20210726_135529_model_11     </td><td style=\"text-align: right;\">             2.32901e+10</td><td style=\"text-align: right;\">152611</td><td style=\"text-align: right;\">2.32901e+10</td><td style=\"text-align: right;\"> 71929  </td><td style=\"text-align: right;\">  0.199185</td></tr>\n",
       "<tr><td>XGBoost_grid__1_AutoML_20210726_135529_model_17     </td><td style=\"text-align: right;\">             2.32942e+10</td><td style=\"text-align: right;\">152624</td><td style=\"text-align: right;\">2.32942e+10</td><td style=\"text-align: right;\"> 76538.8</td><td style=\"text-align: right;\">  0.204995</td></tr>\n",
       "<tr><td>XGBoost_grid__1_AutoML_20210726_135529_model_99     </td><td style=\"text-align: right;\">             2.33101e+10</td><td style=\"text-align: right;\">152676</td><td style=\"text-align: right;\">2.33101e+10</td><td style=\"text-align: right;\"> 72711.3</td><td style=\"text-align: right;\">  0.190772</td></tr>\n",
       "<tr><td>XGBoost_grid__1_AutoML_20210726_135529_model_58     </td><td style=\"text-align: right;\">             2.33227e+10</td><td style=\"text-align: right;\">152718</td><td style=\"text-align: right;\">2.33227e+10</td><td style=\"text-align: right;\"> 76462.5</td><td style=\"text-align: right;\">  0.203679</td></tr>\n",
       "<tr><td>XGBoost_grid__1_AutoML_20210726_135529_model_55     </td><td style=\"text-align: right;\">             2.33244e+10</td><td style=\"text-align: right;\">152723</td><td style=\"text-align: right;\">2.33244e+10</td><td style=\"text-align: right;\"> 73090.5</td><td style=\"text-align: right;\">  0.194917</td></tr>\n",
       "<tr><td>XGBoost_1_AutoML_20210726_135529                    </td><td style=\"text-align: right;\">             2.33933e+10</td><td style=\"text-align: right;\">152949</td><td style=\"text-align: right;\">2.33933e+10</td><td style=\"text-align: right;\"> 73040.5</td><td style=\"text-align: right;\">  0.193074</td></tr>\n",
       "<tr><td>DeepLearning_grid__3_AutoML_20210726_135529_model_9 </td><td style=\"text-align: right;\">             2.34376e+10</td><td style=\"text-align: right;\">153093</td><td style=\"text-align: right;\">2.34376e+10</td><td style=\"text-align: right;\"> 88152  </td><td style=\"text-align: right;\">  0.276792</td></tr>\n",
       "<tr><td>XGBoost_grid__1_AutoML_20210726_135529_model_30     </td><td style=\"text-align: right;\">             2.35391e+10</td><td style=\"text-align: right;\">153424</td><td style=\"text-align: right;\">2.35391e+10</td><td style=\"text-align: right;\"> 75401.5</td><td style=\"text-align: right;\">  0.207048</td></tr>\n",
       "<tr><td>XGBoost_grid__1_AutoML_20210726_135529_model_51     </td><td style=\"text-align: right;\">             2.35417e+10</td><td style=\"text-align: right;\">153433</td><td style=\"text-align: right;\">2.35417e+10</td><td style=\"text-align: right;\"> 70544.5</td><td style=\"text-align: right;\">  0.198385</td></tr>\n",
       "<tr><td>DeepLearning_grid__1_AutoML_20210726_135529_model_9 </td><td style=\"text-align: right;\">             2.36445e+10</td><td style=\"text-align: right;\">153768</td><td style=\"text-align: right;\">2.36445e+10</td><td style=\"text-align: right;\"> 79359.3</td><td style=\"text-align: right;\">nan       </td></tr>\n",
       "<tr><td>XGBoost_grid__1_AutoML_20210726_135529_model_21     </td><td style=\"text-align: right;\">             2.36539e+10</td><td style=\"text-align: right;\">153798</td><td style=\"text-align: right;\">2.36539e+10</td><td style=\"text-align: right;\"> 76158.1</td><td style=\"text-align: right;\">nan       </td></tr>\n",
       "<tr><td>XGBoost_grid__1_AutoML_20210726_135529_model_2      </td><td style=\"text-align: right;\">             2.37499e+10</td><td style=\"text-align: right;\">154110</td><td style=\"text-align: right;\">2.37499e+10</td><td style=\"text-align: right;\"> 75257.6</td><td style=\"text-align: right;\">  0.208489</td></tr>\n",
       "<tr><td>XGBoost_grid__1_AutoML_20210726_135529_model_38     </td><td style=\"text-align: right;\">             2.38401e+10</td><td style=\"text-align: right;\">154402</td><td style=\"text-align: right;\">2.38401e+10</td><td style=\"text-align: right;\"> 74174.8</td><td style=\"text-align: right;\">  0.200239</td></tr>\n",
       "<tr><td>XGBoost_grid__1_AutoML_20210726_135529_model_27     </td><td style=\"text-align: right;\">             2.40321e+10</td><td style=\"text-align: right;\">155023</td><td style=\"text-align: right;\">2.40321e+10</td><td style=\"text-align: right;\"> 76845.5</td><td style=\"text-align: right;\">  0.204764</td></tr>\n",
       "<tr><td>GBM_grid__1_AutoML_20210726_135529_model_7          </td><td style=\"text-align: right;\">             2.41681e+10</td><td style=\"text-align: right;\">155461</td><td style=\"text-align: right;\">2.41681e+10</td><td style=\"text-align: right;\"> 77648  </td><td style=\"text-align: right;\">  0.211575</td></tr>\n",
       "<tr><td>XGBoost_grid__1_AutoML_20210726_135529_model_76     </td><td style=\"text-align: right;\">             2.42077e+10</td><td style=\"text-align: right;\">155588</td><td style=\"text-align: right;\">2.42077e+10</td><td style=\"text-align: right;\"> 72221.3</td><td style=\"text-align: right;\">  0.205736</td></tr>\n",
       "<tr><td>XGBoost_grid__1_AutoML_20210726_135529_model_53     </td><td style=\"text-align: right;\">             2.42895e+10</td><td style=\"text-align: right;\">155851</td><td style=\"text-align: right;\">2.42895e+10</td><td style=\"text-align: right;\"> 74772.1</td><td style=\"text-align: right;\">  0.197647</td></tr>\n",
       "<tr><td>XGBoost_grid__1_AutoML_20210726_135529_model_43     </td><td style=\"text-align: right;\">             2.42968e+10</td><td style=\"text-align: right;\">155874</td><td style=\"text-align: right;\">2.42968e+10</td><td style=\"text-align: right;\"> 75726.8</td><td style=\"text-align: right;\">  0.202888</td></tr>\n",
       "<tr><td>XGBoost_grid__1_AutoML_20210726_135529_model_106    </td><td style=\"text-align: right;\">             2.43032e+10</td><td style=\"text-align: right;\">155895</td><td style=\"text-align: right;\">2.43032e+10</td><td style=\"text-align: right;\"> 75112.1</td><td style=\"text-align: right;\">nan       </td></tr>\n",
       "<tr><td>DeepLearning_grid__3_AutoML_20210726_135529_model_2 </td><td style=\"text-align: right;\">             2.44074e+10</td><td style=\"text-align: right;\">156229</td><td style=\"text-align: right;\">2.44074e+10</td><td style=\"text-align: right;\"> 86312.8</td><td style=\"text-align: right;\">  0.251868</td></tr>\n",
       "<tr><td>XGBoost_grid__1_AutoML_20210726_135529_model_68     </td><td style=\"text-align: right;\">             2.44362e+10</td><td style=\"text-align: right;\">156321</td><td style=\"text-align: right;\">2.44362e+10</td><td style=\"text-align: right;\"> 75836.7</td><td style=\"text-align: right;\">  0.200899</td></tr>\n",
       "<tr><td>DeepLearning_grid__2_AutoML_20210726_135529_model_9 </td><td style=\"text-align: right;\">             2.46413e+10</td><td style=\"text-align: right;\">156976</td><td style=\"text-align: right;\">2.46413e+10</td><td style=\"text-align: right;\"> 83738.8</td><td style=\"text-align: right;\">nan       </td></tr>\n",
       "<tr><td>XGBoost_grid__1_AutoML_20210726_135529_model_33     </td><td style=\"text-align: right;\">             2.47589e+10</td><td style=\"text-align: right;\">157350</td><td style=\"text-align: right;\">2.47589e+10</td><td style=\"text-align: right;\"> 76182.6</td><td style=\"text-align: right;\">  0.210429</td></tr>\n",
       "<tr><td>XGBoost_grid__1_AutoML_20210726_135529_model_98     </td><td style=\"text-align: right;\">             2.48283e+10</td><td style=\"text-align: right;\">157570</td><td style=\"text-align: right;\">2.48283e+10</td><td style=\"text-align: right;\"> 73663.8</td><td style=\"text-align: right;\">  0.203297</td></tr>\n",
       "<tr><td>XGBoost_grid__1_AutoML_20210726_135529_model_15     </td><td style=\"text-align: right;\">             2.48474e+10</td><td style=\"text-align: right;\">157631</td><td style=\"text-align: right;\">2.48474e+10</td><td style=\"text-align: right;\"> 76727.4</td><td style=\"text-align: right;\">  0.205634</td></tr>\n",
       "<tr><td>XGBoost_grid__1_AutoML_20210726_135529_model_32     </td><td style=\"text-align: right;\">             2.49528e+10</td><td style=\"text-align: right;\">157965</td><td style=\"text-align: right;\">2.49528e+10</td><td style=\"text-align: right;\"> 77448.5</td><td style=\"text-align: right;\">  0.205102</td></tr>\n",
       "<tr><td>DeepLearning_grid__2_AutoML_20210726_135529_model_7 </td><td style=\"text-align: right;\">             2.49655e+10</td><td style=\"text-align: right;\">158005</td><td style=\"text-align: right;\">2.49655e+10</td><td style=\"text-align: right;\"> 88778.3</td><td style=\"text-align: right;\">nan       </td></tr>\n",
       "<tr><td>DeepLearning_grid__1_AutoML_20210726_135529_model_7 </td><td style=\"text-align: right;\">             2.52145e+10</td><td style=\"text-align: right;\">158791</td><td style=\"text-align: right;\">2.52145e+10</td><td style=\"text-align: right;\"> 87146.5</td><td style=\"text-align: right;\">nan       </td></tr>\n",
       "<tr><td>DeepLearning_grid__1_AutoML_20210726_135529_model_10</td><td style=\"text-align: right;\">             2.52435e+10</td><td style=\"text-align: right;\">158882</td><td style=\"text-align: right;\">2.52435e+10</td><td style=\"text-align: right;\"> 83717.7</td><td style=\"text-align: right;\">nan       </td></tr>\n",
       "<tr><td>GBM_grid__1_AutoML_20210726_135529_model_60         </td><td style=\"text-align: right;\">             2.53208e+10</td><td style=\"text-align: right;\">159125</td><td style=\"text-align: right;\">2.53208e+10</td><td style=\"text-align: right;\"> 75364.5</td><td style=\"text-align: right;\">  0.195837</td></tr>\n",
       "<tr><td>GBM_grid__1_AutoML_20210726_135529_model_43         </td><td style=\"text-align: right;\">             2.53436e+10</td><td style=\"text-align: right;\">159197</td><td style=\"text-align: right;\">2.53436e+10</td><td style=\"text-align: right;\"> 79125.7</td><td style=\"text-align: right;\">  0.213126</td></tr>\n",
       "<tr><td>GBM_grid__1_AutoML_20210726_135529_model_61         </td><td style=\"text-align: right;\">             2.57696e+10</td><td style=\"text-align: right;\">160529</td><td style=\"text-align: right;\">2.57696e+10</td><td style=\"text-align: right;\"> 75514  </td><td style=\"text-align: right;\">  0.196389</td></tr>\n",
       "<tr><td>DeepLearning_1_AutoML_20210726_135529               </td><td style=\"text-align: right;\">             2.57733e+10</td><td style=\"text-align: right;\">160541</td><td style=\"text-align: right;\">2.57733e+10</td><td style=\"text-align: right;\"> 88835.9</td><td style=\"text-align: right;\">nan       </td></tr>\n",
       "<tr><td>XGBoost_grid__1_AutoML_20210726_135529_model_71     </td><td style=\"text-align: right;\">             2.57978e+10</td><td style=\"text-align: right;\">160617</td><td style=\"text-align: right;\">2.57978e+10</td><td style=\"text-align: right;\"> 74144  </td><td style=\"text-align: right;\">  0.20072 </td></tr>\n",
       "<tr><td>DeepLearning_grid__1_AutoML_20210726_135529_model_5 </td><td style=\"text-align: right;\">             2.59004e+10</td><td style=\"text-align: right;\">160936</td><td style=\"text-align: right;\">2.59004e+10</td><td style=\"text-align: right;\"> 88708.2</td><td style=\"text-align: right;\">nan       </td></tr>\n",
       "<tr><td>GBM_grid__1_AutoML_20210726_135529_model_47         </td><td style=\"text-align: right;\">             2.59195e+10</td><td style=\"text-align: right;\">160995</td><td style=\"text-align: right;\">2.59195e+10</td><td style=\"text-align: right;\"> 75205.4</td><td style=\"text-align: right;\">  0.196287</td></tr>\n",
       "<tr><td>DeepLearning_grid__1_AutoML_20210726_135529_model_6 </td><td style=\"text-align: right;\">             2.61428e+10</td><td style=\"text-align: right;\">161687</td><td style=\"text-align: right;\">2.61428e+10</td><td style=\"text-align: right;\"> 86012.9</td><td style=\"text-align: right;\">nan       </td></tr>\n",
       "<tr><td>DeepLearning_grid__1_AutoML_20210726_135529_model_13</td><td style=\"text-align: right;\">             2.63938e+10</td><td style=\"text-align: right;\">162462</td><td style=\"text-align: right;\">2.63938e+10</td><td style=\"text-align: right;\"> 88068.6</td><td style=\"text-align: right;\">  0.24128 </td></tr>\n",
       "<tr><td>GBM_grid__1_AutoML_20210726_135529_model_46         </td><td style=\"text-align: right;\">             2.66275e+10</td><td style=\"text-align: right;\">163179</td><td style=\"text-align: right;\">2.66275e+10</td><td style=\"text-align: right;\"> 77152.5</td><td style=\"text-align: right;\">  0.199361</td></tr>\n",
       "<tr><td>GBM_grid__1_AutoML_20210726_135529_model_64         </td><td style=\"text-align: right;\">             2.66554e+10</td><td style=\"text-align: right;\">163265</td><td style=\"text-align: right;\">2.66554e+10</td><td style=\"text-align: right;\"> 77230.7</td><td style=\"text-align: right;\">  0.199437</td></tr>\n",
       "<tr><td>GBM_grid__1_AutoML_20210726_135529_model_32         </td><td style=\"text-align: right;\">             2.67722e+10</td><td style=\"text-align: right;\">163622</td><td style=\"text-align: right;\">2.67722e+10</td><td style=\"text-align: right;\"> 76205.2</td><td style=\"text-align: right;\">  0.198101</td></tr>\n",
       "<tr><td>DeepLearning_grid__3_AutoML_20210726_135529_model_8 </td><td style=\"text-align: right;\">             2.68142e+10</td><td style=\"text-align: right;\">163751</td><td style=\"text-align: right;\">2.68142e+10</td><td style=\"text-align: right;\"> 86098.1</td><td style=\"text-align: right;\">nan       </td></tr>\n",
       "<tr><td>GBM_5_AutoML_20210726_135529                        </td><td style=\"text-align: right;\">             2.68318e+10</td><td style=\"text-align: right;\">163804</td><td style=\"text-align: right;\">2.68318e+10</td><td style=\"text-align: right;\"> 76288.2</td><td style=\"text-align: right;\">  0.196781</td></tr>\n",
       "<tr><td>GBM_grid__1_AutoML_20210726_135529_model_21         </td><td style=\"text-align: right;\">             2.68879e+10</td><td style=\"text-align: right;\">163975</td><td style=\"text-align: right;\">2.68879e+10</td><td style=\"text-align: right;\"> 76510.4</td><td style=\"text-align: right;\">  0.197817</td></tr>\n",
       "<tr><td>DeepLearning_grid__1_AutoML_20210726_135529_model_3 </td><td style=\"text-align: right;\">             2.6949e+10 </td><td style=\"text-align: right;\">164161</td><td style=\"text-align: right;\">2.6949e+10 </td><td style=\"text-align: right;\"> 89852.2</td><td style=\"text-align: right;\">nan       </td></tr>\n",
       "<tr><td>GBM_grid__1_AutoML_20210726_135529_model_63         </td><td style=\"text-align: right;\">             2.69789e+10</td><td style=\"text-align: right;\">164253</td><td style=\"text-align: right;\">2.69789e+10</td><td style=\"text-align: right;\"> 78506.2</td><td style=\"text-align: right;\">  0.202279</td></tr>\n",
       "<tr><td>DeepLearning_grid__1_AutoML_20210726_135529_model_11</td><td style=\"text-align: right;\">             2.7181e+10 </td><td style=\"text-align: right;\">164867</td><td style=\"text-align: right;\">2.7181e+10 </td><td style=\"text-align: right;\"> 82353.1</td><td style=\"text-align: right;\">  0.213591</td></tr>\n",
       "<tr><td>DeepLearning_grid__2_AutoML_20210726_135529_model_4 </td><td style=\"text-align: right;\">             2.73719e+10</td><td style=\"text-align: right;\">165445</td><td style=\"text-align: right;\">2.73719e+10</td><td style=\"text-align: right;\"> 90068  </td><td style=\"text-align: right;\">nan       </td></tr>\n",
       "<tr><td>DeepLearning_grid__2_AutoML_20210726_135529_model_15</td><td style=\"text-align: right;\">             2.7478e+10 </td><td style=\"text-align: right;\">165765</td><td style=\"text-align: right;\">2.7478e+10 </td><td style=\"text-align: right;\"> 95879  </td><td style=\"text-align: right;\">nan       </td></tr>\n",
       "<tr><td>DeepLearning_grid__2_AutoML_20210726_135529_model_14</td><td style=\"text-align: right;\">             2.76349e+10</td><td style=\"text-align: right;\">166238</td><td style=\"text-align: right;\">2.76349e+10</td><td style=\"text-align: right;\"> 87820.9</td><td style=\"text-align: right;\">nan       </td></tr>\n",
       "<tr><td>DeepLearning_grid__1_AutoML_20210726_135529_model_1 </td><td style=\"text-align: right;\">             2.76939e+10</td><td style=\"text-align: right;\">166415</td><td style=\"text-align: right;\">2.76939e+10</td><td style=\"text-align: right;\"> 84090.4</td><td style=\"text-align: right;\">  0.219883</td></tr>\n",
       "<tr><td>GBM_grid__1_AutoML_20210726_135529_model_40         </td><td style=\"text-align: right;\">             2.77036e+10</td><td style=\"text-align: right;\">166444</td><td style=\"text-align: right;\">2.77036e+10</td><td style=\"text-align: right;\"> 78752.3</td><td style=\"text-align: right;\">  0.20253 </td></tr>\n",
       "<tr><td>GBM_grid__1_AutoML_20210726_135529_model_48         </td><td style=\"text-align: right;\">             2.79794e+10</td><td style=\"text-align: right;\">167271</td><td style=\"text-align: right;\">2.79794e+10</td><td style=\"text-align: right;\"> 80942.7</td><td style=\"text-align: right;\">  0.209632</td></tr>\n",
       "<tr><td>DeepLearning_grid__1_AutoML_20210726_135529_model_14</td><td style=\"text-align: right;\">             2.83298e+10</td><td style=\"text-align: right;\">168315</td><td style=\"text-align: right;\">2.83298e+10</td><td style=\"text-align: right;\"> 94902  </td><td style=\"text-align: right;\">  0.280882</td></tr>\n",
       "<tr><td>GBM_grid__1_AutoML_20210726_135529_model_53         </td><td style=\"text-align: right;\">             2.85757e+10</td><td style=\"text-align: right;\">169044</td><td style=\"text-align: right;\">2.85757e+10</td><td style=\"text-align: right;\"> 79771.1</td><td style=\"text-align: right;\">  0.205115</td></tr>\n",
       "<tr><td>GBM_grid__1_AutoML_20210726_135529_model_14         </td><td style=\"text-align: right;\">             2.86309e+10</td><td style=\"text-align: right;\">169207</td><td style=\"text-align: right;\">2.86309e+10</td><td style=\"text-align: right;\"> 79773  </td><td style=\"text-align: right;\">  0.204698</td></tr>\n",
       "<tr><td>DeepLearning_grid__1_AutoML_20210726_135529_model_8 </td><td style=\"text-align: right;\">             2.86707e+10</td><td style=\"text-align: right;\">169324</td><td style=\"text-align: right;\">2.86707e+10</td><td style=\"text-align: right;\">100402  </td><td style=\"text-align: right;\">nan       </td></tr>\n",
       "<tr><td>GBM_grid__1_AutoML_20210726_135529_model_54         </td><td style=\"text-align: right;\">             2.87506e+10</td><td style=\"text-align: right;\">169560</td><td style=\"text-align: right;\">2.87506e+10</td><td style=\"text-align: right;\"> 79829.6</td><td style=\"text-align: right;\">  0.203379</td></tr>\n",
       "<tr><td>DeepLearning_grid__1_AutoML_20210726_135529_model_12</td><td style=\"text-align: right;\">             2.92678e+10</td><td style=\"text-align: right;\">171078</td><td style=\"text-align: right;\">2.92678e+10</td><td style=\"text-align: right;\">103773  </td><td style=\"text-align: right;\">nan       </td></tr>\n",
       "<tr><td>DeepLearning_grid__2_AutoML_20210726_135529_model_11</td><td style=\"text-align: right;\">             2.98307e+10</td><td style=\"text-align: right;\">172716</td><td style=\"text-align: right;\">2.98307e+10</td><td style=\"text-align: right;\"> 91963.7</td><td style=\"text-align: right;\">nan       </td></tr>\n",
       "<tr><td>DeepLearning_grid__3_AutoML_20210726_135529_model_1 </td><td style=\"text-align: right;\">             3.04269e+10</td><td style=\"text-align: right;\">174433</td><td style=\"text-align: right;\">3.04269e+10</td><td style=\"text-align: right;\">110678  </td><td style=\"text-align: right;\">  0.363365</td></tr>\n",
       "<tr><td>DeepLearning_grid__1_AutoML_20210726_135529_model_15</td><td style=\"text-align: right;\">             3.19886e+10</td><td style=\"text-align: right;\">178854</td><td style=\"text-align: right;\">3.19886e+10</td><td style=\"text-align: right;\">103093  </td><td style=\"text-align: right;\">  0.308925</td></tr>\n",
       "<tr><td>DeepLearning_grid__2_AutoML_20210726_135529_model_1 </td><td style=\"text-align: right;\">             3.20559e+10</td><td style=\"text-align: right;\">179042</td><td style=\"text-align: right;\">3.20559e+10</td><td style=\"text-align: right;\">114919  </td><td style=\"text-align: right;\">  0.370065</td></tr>\n",
       "<tr><td>DeepLearning_grid__2_AutoML_20210726_135529_model_13</td><td style=\"text-align: right;\">             3.32451e+10</td><td style=\"text-align: right;\">182332</td><td style=\"text-align: right;\">3.32451e+10</td><td style=\"text-align: right;\">117282  </td><td style=\"text-align: right;\">  0.365579</td></tr>\n",
       "<tr><td>DeepLearning_grid__3_AutoML_20210726_135529_model_7 </td><td style=\"text-align: right;\">             3.43269e+10</td><td style=\"text-align: right;\">185275</td><td style=\"text-align: right;\">3.43269e+10</td><td style=\"text-align: right;\">121942  </td><td style=\"text-align: right;\">  0.401101</td></tr>\n",
       "<tr><td>DeepLearning_grid__3_AutoML_20210726_135529_model_13</td><td style=\"text-align: right;\">             3.44866e+10</td><td style=\"text-align: right;\">185706</td><td style=\"text-align: right;\">3.44866e+10</td><td style=\"text-align: right;\">110493  </td><td style=\"text-align: right;\">  0.335509</td></tr>\n",
       "<tr><td>DeepLearning_grid__2_AutoML_20210726_135529_model_5 </td><td style=\"text-align: right;\">             3.45732e+10</td><td style=\"text-align: right;\">185939</td><td style=\"text-align: right;\">3.45732e+10</td><td style=\"text-align: right;\">101652  </td><td style=\"text-align: right;\">  0.311501</td></tr>\n",
       "<tr><td>DeepLearning_grid__2_AutoML_20210726_135529_model_6 </td><td style=\"text-align: right;\">             3.78357e+10</td><td style=\"text-align: right;\">194514</td><td style=\"text-align: right;\">3.78357e+10</td><td style=\"text-align: right;\">123608  </td><td style=\"text-align: right;\">  0.389283</td></tr>\n",
       "<tr><td>XGBoost_grid__1_AutoML_20210726_135529_model_4      </td><td style=\"text-align: right;\">             3.89098e+10</td><td style=\"text-align: right;\">197256</td><td style=\"text-align: right;\">3.89098e+10</td><td style=\"text-align: right;\"> 92705.8</td><td style=\"text-align: right;\">nan       </td></tr>\n",
       "<tr><td>DeepLearning_grid__2_AutoML_20210726_135529_model_2 </td><td style=\"text-align: right;\">             4.07566e+10</td><td style=\"text-align: right;\">201883</td><td style=\"text-align: right;\">4.07566e+10</td><td style=\"text-align: right;\">136076  </td><td style=\"text-align: right;\">  0.457323</td></tr>\n",
       "<tr><td>DeepLearning_grid__2_AutoML_20210726_135529_model_18</td><td style=\"text-align: right;\">             4.246e+10  </td><td style=\"text-align: right;\">206058</td><td style=\"text-align: right;\">4.246e+10  </td><td style=\"text-align: right;\">134380  </td><td style=\"text-align: right;\">  0.411884</td></tr>\n",
       "<tr><td>DeepLearning_grid__2_AutoML_20210726_135529_model_12</td><td style=\"text-align: right;\">             4.29707e+10</td><td style=\"text-align: right;\">207294</td><td style=\"text-align: right;\">4.29707e+10</td><td style=\"text-align: right;\">140209  </td><td style=\"text-align: right;\">  0.410888</td></tr>\n",
       "<tr><td>DeepLearning_grid__2_AutoML_20210726_135529_model_16</td><td style=\"text-align: right;\">             4.35832e+10</td><td style=\"text-align: right;\">208766</td><td style=\"text-align: right;\">4.35832e+10</td><td style=\"text-align: right;\">151092  </td><td style=\"text-align: right;\">  0.433431</td></tr>\n",
       "<tr><td>DeepLearning_grid__2_AutoML_20210726_135529_model_17</td><td style=\"text-align: right;\">             4.44393e+10</td><td style=\"text-align: right;\">210806</td><td style=\"text-align: right;\">4.44393e+10</td><td style=\"text-align: right;\">142100  </td><td style=\"text-align: right;\">  0.440188</td></tr>\n",
       "<tr><td>DeepLearning_grid__3_AutoML_20210726_135529_model_6 </td><td style=\"text-align: right;\">             4.4879e+10 </td><td style=\"text-align: right;\">211847</td><td style=\"text-align: right;\">4.4879e+10 </td><td style=\"text-align: right;\">131430  </td><td style=\"text-align: right;\">  0.429361</td></tr>\n",
       "<tr><td>DeepLearning_grid__3_AutoML_20210726_135529_model_4 </td><td style=\"text-align: right;\">             4.50211e+10</td><td style=\"text-align: right;\">212182</td><td style=\"text-align: right;\">4.50211e+10</td><td style=\"text-align: right;\">149218  </td><td style=\"text-align: right;\">  0.484737</td></tr>\n",
       "<tr><td>DeepLearning_grid__1_AutoML_20210726_135529_model_16</td><td style=\"text-align: right;\">             5.2911e+10 </td><td style=\"text-align: right;\">230024</td><td style=\"text-align: right;\">5.2911e+10 </td><td style=\"text-align: right;\">120345  </td><td style=\"text-align: right;\">nan       </td></tr>\n",
       "<tr><td>DeepLearning_grid__2_AutoML_20210726_135529_model_10</td><td style=\"text-align: right;\">             5.45579e+10</td><td style=\"text-align: right;\">233576</td><td style=\"text-align: right;\">5.45579e+10</td><td style=\"text-align: right;\">151852  </td><td style=\"text-align: right;\">  0.502572</td></tr>\n",
       "<tr><td>DeepLearning_grid__3_AutoML_20210726_135529_model_12</td><td style=\"text-align: right;\">             5.58245e+10</td><td style=\"text-align: right;\">236272</td><td style=\"text-align: right;\">5.58245e+10</td><td style=\"text-align: right;\">129686  </td><td style=\"text-align: right;\">  0.351469</td></tr>\n",
       "<tr><td>DeepLearning_grid__2_AutoML_20210726_135529_model_3 </td><td style=\"text-align: right;\">             5.93428e+10</td><td style=\"text-align: right;\">243604</td><td style=\"text-align: right;\">5.93428e+10</td><td style=\"text-align: right;\">187134  </td><td style=\"text-align: right;\">  0.594335</td></tr>\n",
       "<tr><td>DeepLearning_grid__3_AutoML_20210726_135529_model_5 </td><td style=\"text-align: right;\">             5.98571e+10</td><td style=\"text-align: right;\">244657</td><td style=\"text-align: right;\">5.98571e+10</td><td style=\"text-align: right;\">188932  </td><td style=\"text-align: right;\">  0.621976</td></tr>\n",
       "<tr><td>DeepLearning_grid__3_AutoML_20210726_135529_model_10</td><td style=\"text-align: right;\">             6.32545e+10</td><td style=\"text-align: right;\">251505</td><td style=\"text-align: right;\">6.32545e+10</td><td style=\"text-align: right;\">202007  </td><td style=\"text-align: right;\">  0.64077 </td></tr>\n",
       "<tr><td>DeepLearning_grid__3_AutoML_20210726_135529_model_3 </td><td style=\"text-align: right;\">             6.62643e+10</td><td style=\"text-align: right;\">257418</td><td style=\"text-align: right;\">6.62643e+10</td><td style=\"text-align: right;\">194799  </td><td style=\"text-align: right;\">  0.628453</td></tr>\n",
       "<tr><td>DeepLearning_grid__2_AutoML_20210726_135529_model_8 </td><td style=\"text-align: right;\">             7.21591e+10</td><td style=\"text-align: right;\">268624</td><td style=\"text-align: right;\">7.21591e+10</td><td style=\"text-align: right;\">168984  </td><td style=\"text-align: right;\">  0.526174</td></tr>\n",
       "<tr><td>DeepLearning_grid__3_AutoML_20210726_135529_model_11</td><td style=\"text-align: right;\">             1.5917e+11 </td><td style=\"text-align: right;\">398961</td><td style=\"text-align: right;\">1.5917e+11 </td><td style=\"text-align: right;\">343648  </td><td style=\"text-align: right;\">  0.930844</td></tr>\n",
       "<tr><td>GLM_1_AutoML_20210726_135529                        </td><td style=\"text-align: right;\">             2.45682e+11</td><td style=\"text-align: right;\">495663</td><td style=\"text-align: right;\">2.45682e+11</td><td style=\"text-align: right;\">314358  </td><td style=\"text-align: right;\">  0.836725</td></tr>\n",
       "</tbody>\n",
       "</table>"
      ]
     },
     "metadata": {},
     "output_type": "display_data"
    },
    {
     "data": {
      "text/plain": []
     },
     "execution_count": 72,
     "metadata": {},
     "output_type": "execute_result"
    }
   ],
   "source": [
    "lb.head(rows=lb.nrows)"
   ]
  },
  {
   "cell_type": "markdown",
   "id": "77a9bf09",
   "metadata": {},
   "source": [
    "#### Checking model error manually:"
   ]
  },
  {
   "cell_type": "code",
   "execution_count": 76,
   "id": "5aebce32",
   "metadata": {
    "scrolled": true
   },
   "outputs": [
    {
     "data": {
      "text/html": [
       "<div>\n",
       "<style scoped>\n",
       "    .dataframe tbody tr th:only-of-type {\n",
       "        vertical-align: middle;\n",
       "    }\n",
       "\n",
       "    .dataframe tbody tr th {\n",
       "        vertical-align: top;\n",
       "    }\n",
       "\n",
       "    .dataframe thead th {\n",
       "        text-align: right;\n",
       "    }\n",
       "</style>\n",
       "<table border=\"1\" class=\"dataframe\">\n",
       "  <thead>\n",
       "    <tr style=\"text-align: right;\">\n",
       "      <th></th>\n",
       "      <th>buy_price</th>\n",
       "      <th>prediction</th>\n",
       "    </tr>\n",
       "  </thead>\n",
       "  <tbody>\n",
       "    <tr>\n",
       "      <th>1475</th>\n",
       "      <td>335000</td>\n",
       "      <td>3.156428e+05</td>\n",
       "    </tr>\n",
       "    <tr>\n",
       "      <th>1428</th>\n",
       "      <td>539000</td>\n",
       "      <td>5.376095e+05</td>\n",
       "    </tr>\n",
       "    <tr>\n",
       "      <th>1610</th>\n",
       "      <td>515000</td>\n",
       "      <td>5.180107e+05</td>\n",
       "    </tr>\n",
       "    <tr>\n",
       "      <th>1358</th>\n",
       "      <td>115000</td>\n",
       "      <td>1.238850e+05</td>\n",
       "    </tr>\n",
       "    <tr>\n",
       "      <th>370</th>\n",
       "      <td>425000</td>\n",
       "      <td>4.215776e+05</td>\n",
       "    </tr>\n",
       "    <tr>\n",
       "      <th>1272</th>\n",
       "      <td>240000</td>\n",
       "      <td>2.439865e+05</td>\n",
       "    </tr>\n",
       "    <tr>\n",
       "      <th>457</th>\n",
       "      <td>110000</td>\n",
       "      <td>1.178841e+05</td>\n",
       "    </tr>\n",
       "    <tr>\n",
       "      <th>1178</th>\n",
       "      <td>625000</td>\n",
       "      <td>6.340967e+05</td>\n",
       "    </tr>\n",
       "    <tr>\n",
       "      <th>876</th>\n",
       "      <td>995000</td>\n",
       "      <td>1.021426e+06</td>\n",
       "    </tr>\n",
       "    <tr>\n",
       "      <th>1397</th>\n",
       "      <td>373000</td>\n",
       "      <td>3.779197e+05</td>\n",
       "    </tr>\n",
       "    <tr>\n",
       "      <th>1002</th>\n",
       "      <td>640000</td>\n",
       "      <td>6.412730e+05</td>\n",
       "    </tr>\n",
       "    <tr>\n",
       "      <th>1617</th>\n",
       "      <td>177000</td>\n",
       "      <td>1.869359e+05</td>\n",
       "    </tr>\n",
       "    <tr>\n",
       "      <th>1218</th>\n",
       "      <td>210000</td>\n",
       "      <td>2.131291e+05</td>\n",
       "    </tr>\n",
       "    <tr>\n",
       "      <th>227</th>\n",
       "      <td>230000</td>\n",
       "      <td>2.352558e+05</td>\n",
       "    </tr>\n",
       "    <tr>\n",
       "      <th>1678</th>\n",
       "      <td>135000</td>\n",
       "      <td>1.419737e+05</td>\n",
       "    </tr>\n",
       "    <tr>\n",
       "      <th>440</th>\n",
       "      <td>110000</td>\n",
       "      <td>1.183556e+05</td>\n",
       "    </tr>\n",
       "    <tr>\n",
       "      <th>703</th>\n",
       "      <td>190000</td>\n",
       "      <td>1.947754e+05</td>\n",
       "    </tr>\n",
       "    <tr>\n",
       "      <th>399</th>\n",
       "      <td>220000</td>\n",
       "      <td>2.287489e+05</td>\n",
       "    </tr>\n",
       "    <tr>\n",
       "      <th>135</th>\n",
       "      <td>145000</td>\n",
       "      <td>1.516447e+05</td>\n",
       "    </tr>\n",
       "    <tr>\n",
       "      <th>470</th>\n",
       "      <td>232000</td>\n",
       "      <td>2.374715e+05</td>\n",
       "    </tr>\n",
       "    <tr>\n",
       "      <th>1184</th>\n",
       "      <td>460000</td>\n",
       "      <td>4.691189e+05</td>\n",
       "    </tr>\n",
       "    <tr>\n",
       "      <th>445</th>\n",
       "      <td>170000</td>\n",
       "      <td>1.755534e+05</td>\n",
       "    </tr>\n",
       "    <tr>\n",
       "      <th>1224</th>\n",
       "      <td>235000</td>\n",
       "      <td>2.433465e+05</td>\n",
       "    </tr>\n",
       "    <tr>\n",
       "      <th>545</th>\n",
       "      <td>330000</td>\n",
       "      <td>3.294632e+05</td>\n",
       "    </tr>\n",
       "    <tr>\n",
       "      <th>1607</th>\n",
       "      <td>600000</td>\n",
       "      <td>6.273049e+05</td>\n",
       "    </tr>\n",
       "    <tr>\n",
       "      <th>919</th>\n",
       "      <td>395000</td>\n",
       "      <td>3.972013e+05</td>\n",
       "    </tr>\n",
       "    <tr>\n",
       "      <th>486</th>\n",
       "      <td>160000</td>\n",
       "      <td>1.659962e+05</td>\n",
       "    </tr>\n",
       "    <tr>\n",
       "      <th>1105</th>\n",
       "      <td>450000</td>\n",
       "      <td>4.533684e+05</td>\n",
       "    </tr>\n",
       "    <tr>\n",
       "      <th>1209</th>\n",
       "      <td>136000</td>\n",
       "      <td>1.452601e+05</td>\n",
       "    </tr>\n",
       "    <tr>\n",
       "      <th>735</th>\n",
       "      <td>600000</td>\n",
       "      <td>6.020385e+05</td>\n",
       "    </tr>\n",
       "  </tbody>\n",
       "</table>\n",
       "</div>"
      ],
      "text/plain": [
       "      buy_price    prediction\n",
       "1475     335000  3.156428e+05\n",
       "1428     539000  5.376095e+05\n",
       "1610     515000  5.180107e+05\n",
       "1358     115000  1.238850e+05\n",
       "370      425000  4.215776e+05\n",
       "1272     240000  2.439865e+05\n",
       "457      110000  1.178841e+05\n",
       "1178     625000  6.340967e+05\n",
       "876      995000  1.021426e+06\n",
       "1397     373000  3.779197e+05\n",
       "1002     640000  6.412730e+05\n",
       "1617     177000  1.869359e+05\n",
       "1218     210000  2.131291e+05\n",
       "227      230000  2.352558e+05\n",
       "1678     135000  1.419737e+05\n",
       "440      110000  1.183556e+05\n",
       "703      190000  1.947754e+05\n",
       "399      220000  2.287489e+05\n",
       "135      145000  1.516447e+05\n",
       "470      232000  2.374715e+05\n",
       "1184     460000  4.691189e+05\n",
       "445      170000  1.755534e+05\n",
       "1224     235000  2.433465e+05\n",
       "545      330000  3.294632e+05\n",
       "1607     600000  6.273049e+05\n",
       "919      395000  3.972013e+05\n",
       "486      160000  1.659962e+05\n",
       "1105     450000  4.533684e+05\n",
       "1209     136000  1.452601e+05\n",
       "735      600000  6.020385e+05"
      ]
     },
     "execution_count": 76,
     "metadata": {},
     "output_type": "execute_result"
    }
   ],
   "source": [
    "test_df[cols].sample(30)"
   ]
  },
  {
   "cell_type": "markdown",
   "id": "4d7f6c54",
   "metadata": {},
   "source": [
    "#### It's seems good enough for now, with some more time it can get a better model."
   ]
  },
  {
   "cell_type": "markdown",
   "id": "4f06f9f1",
   "metadata": {},
   "source": [
    "#### Exporting model with h2o:"
   ]
  },
  {
   "cell_type": "code",
   "execution_count": 73,
   "id": "079afebc",
   "metadata": {},
   "outputs": [],
   "source": [
    "model_path = h2o.save_model(model=automl.leader, path=\"../models\", force=True)"
   ]
  },
  {
   "cell_type": "code",
   "execution_count": 74,
   "id": "2e6e1adc",
   "metadata": {},
   "outputs": [
    {
     "name": "stdout",
     "output_type": "stream",
     "text": [
      "/mnt/c/Users/chris/ironhack_labs/Weekend-projects/tu_pisito/models/StackedEnsemble_AllModels_AutoML_20210726_135529\n"
     ]
    }
   ],
   "source": [
    "print(model_path)"
   ]
  }
 ],
 "metadata": {
  "kernelspec": {
   "display_name": "ironhack",
   "language": "python",
   "name": "ironhack"
  },
  "language_info": {
   "codemirror_mode": {
    "name": "ipython",
    "version": 3
   },
   "file_extension": ".py",
   "mimetype": "text/x-python",
   "name": "python",
   "nbconvert_exporter": "python",
   "pygments_lexer": "ipython3",
   "version": "3.8.5"
  }
 },
 "nbformat": 4,
 "nbformat_minor": 5
}
