{
 "cells": [
  {
   "cell_type": "code",
   "execution_count": 16,
   "id": "521090e0",
   "metadata": {},
   "outputs": [],
   "source": [
    "import h2o\n",
    "from h2o.automl import H2OAutoML\n",
    "import pandas as pd\n",
    "import seaborn as sns\n",
    "from sklearn.model_selection import train_test_split\n",
    "import numpy as np"
   ]
  },
  {
   "cell_type": "code",
   "execution_count": 17,
   "id": "91a44e90",
   "metadata": {},
   "outputs": [
    {
     "name": "stdout",
     "output_type": "stream",
     "text": [
      "Checking whether there is an H2O instance running at http://localhost:54321 . connected.\n"
     ]
    },
    {
     "data": {
      "text/html": [
       "<div style=\"overflow:auto\"><table style=\"width:50%\"><tr><td>H2O_cluster_uptime:</td>\n",
       "<td>4 hours 51 mins</td></tr>\n",
       "<tr><td>H2O_cluster_timezone:</td>\n",
       "<td>Europe/Madrid</td></tr>\n",
       "<tr><td>H2O_data_parsing_timezone:</td>\n",
       "<td>UTC</td></tr>\n",
       "<tr><td>H2O_cluster_version:</td>\n",
       "<td>3.32.1.4</td></tr>\n",
       "<tr><td>H2O_cluster_version_age:</td>\n",
       "<td>20 days </td></tr>\n",
       "<tr><td>H2O_cluster_name:</td>\n",
       "<td>H2O_from_python_ccastrob_7q9g6e</td></tr>\n",
       "<tr><td>H2O_cluster_total_nodes:</td>\n",
       "<td>1</td></tr>\n",
       "<tr><td>H2O_cluster_free_memory:</td>\n",
       "<td>3.613 Gb</td></tr>\n",
       "<tr><td>H2O_cluster_total_cores:</td>\n",
       "<td>12</td></tr>\n",
       "<tr><td>H2O_cluster_allowed_cores:</td>\n",
       "<td>12</td></tr>\n",
       "<tr><td>H2O_cluster_status:</td>\n",
       "<td>locked, healthy</td></tr>\n",
       "<tr><td>H2O_connection_url:</td>\n",
       "<td>http://localhost:54321</td></tr>\n",
       "<tr><td>H2O_connection_proxy:</td>\n",
       "<td>{\"http\": null, \"https\": null}</td></tr>\n",
       "<tr><td>H2O_internal_security:</td>\n",
       "<td>False</td></tr>\n",
       "<tr><td>H2O_API_Extensions:</td>\n",
       "<td>Amazon S3, XGBoost, Algos, AutoML, Core V3, TargetEncoder, Core V4</td></tr>\n",
       "<tr><td>Python_version:</td>\n",
       "<td>3.8.5 final</td></tr></table></div>"
      ],
      "text/plain": [
       "--------------------------  ------------------------------------------------------------------\n",
       "H2O_cluster_uptime:         4 hours 51 mins\n",
       "H2O_cluster_timezone:       Europe/Madrid\n",
       "H2O_data_parsing_timezone:  UTC\n",
       "H2O_cluster_version:        3.32.1.4\n",
       "H2O_cluster_version_age:    20 days\n",
       "H2O_cluster_name:           H2O_from_python_ccastrob_7q9g6e\n",
       "H2O_cluster_total_nodes:    1\n",
       "H2O_cluster_free_memory:    3.613 Gb\n",
       "H2O_cluster_total_cores:    12\n",
       "H2O_cluster_allowed_cores:  12\n",
       "H2O_cluster_status:         locked, healthy\n",
       "H2O_connection_url:         http://localhost:54321\n",
       "H2O_connection_proxy:       {\"http\": null, \"https\": null}\n",
       "H2O_internal_security:      False\n",
       "H2O_API_Extensions:         Amazon S3, XGBoost, Algos, AutoML, Core V3, TargetEncoder, Core V4\n",
       "Python_version:             3.8.5 final\n",
       "--------------------------  ------------------------------------------------------------------"
      ]
     },
     "metadata": {},
     "output_type": "display_data"
    }
   ],
   "source": [
    "h2o.init()"
   ]
  },
  {
   "cell_type": "code",
   "execution_count": 18,
   "id": "47a3e3f3",
   "metadata": {},
   "outputs": [],
   "source": [
    "madrid = pd.read_csv(\"../data/clean-madrid-v2.csv\")"
   ]
  },
  {
   "cell_type": "code",
   "execution_count": 19,
   "id": "e25908d6",
   "metadata": {},
   "outputs": [
    {
     "data": {
      "text/html": [
       "<div>\n",
       "<style scoped>\n",
       "    .dataframe tbody tr th:only-of-type {\n",
       "        vertical-align: middle;\n",
       "    }\n",
       "\n",
       "    .dataframe tbody tr th {\n",
       "        vertical-align: top;\n",
       "    }\n",
       "\n",
       "    .dataframe thead th {\n",
       "        text-align: right;\n",
       "    }\n",
       "</style>\n",
       "<table border=\"1\" class=\"dataframe\">\n",
       "  <thead>\n",
       "    <tr style=\"text-align: right;\">\n",
       "      <th></th>\n",
       "      <th>id</th>\n",
       "      <th>sq_mt_built</th>\n",
       "      <th>sq_mt_useful</th>\n",
       "      <th>n_rooms</th>\n",
       "      <th>n_bathrooms</th>\n",
       "      <th>latitude</th>\n",
       "      <th>longitude</th>\n",
       "      <th>raw_address</th>\n",
       "      <th>neighborhood_id</th>\n",
       "      <th>buy_price</th>\n",
       "      <th>is_new_development</th>\n",
       "      <th>is_renewal_needed</th>\n",
       "      <th>has_lift</th>\n",
       "      <th>is_exterior</th>\n",
       "      <th>has_parking</th>\n",
       "      <th>floor</th>\n",
       "      <th>house_type</th>\n",
       "      <th>value_m2</th>\n",
       "      <th>neighborhood</th>\n",
       "      <th>district</th>\n",
       "    </tr>\n",
       "  </thead>\n",
       "  <tbody>\n",
       "    <tr>\n",
       "      <th>0</th>\n",
       "      <td>21741</td>\n",
       "      <td>70.0</td>\n",
       "      <td>59.98</td>\n",
       "      <td>3</td>\n",
       "      <td>1</td>\n",
       "      <td>40.359340</td>\n",
       "      <td>-3.698374</td>\n",
       "      <td>Calle de la del Manojo de Rosas</td>\n",
       "      <td>Neighborhood 132: Los Ángeles (1796.68 €/m2) -...</td>\n",
       "      <td>129900</td>\n",
       "      <td>0</td>\n",
       "      <td>1</td>\n",
       "      <td>1</td>\n",
       "      <td>1</td>\n",
       "      <td>0</td>\n",
       "      <td>4.0</td>\n",
       "      <td>0</td>\n",
       "      <td>1796.68</td>\n",
       "      <td>Los Ángeles</td>\n",
       "      <td>Villaverde</td>\n",
       "    </tr>\n",
       "    <tr>\n",
       "      <th>1</th>\n",
       "      <td>21740</td>\n",
       "      <td>94.0</td>\n",
       "      <td>54.00</td>\n",
       "      <td>2</td>\n",
       "      <td>2</td>\n",
       "      <td>40.344630</td>\n",
       "      <td>-3.715191</td>\n",
       "      <td>Calle del Talco, 68</td>\n",
       "      <td>Neighborhood 134: San Andrés (1617.18 €/m2) - ...</td>\n",
       "      <td>144247</td>\n",
       "      <td>0</td>\n",
       "      <td>0</td>\n",
       "      <td>1</td>\n",
       "      <td>1</td>\n",
       "      <td>0</td>\n",
       "      <td>1.0</td>\n",
       "      <td>0</td>\n",
       "      <td>1617.18</td>\n",
       "      <td>San Andrés</td>\n",
       "      <td>Villaverde</td>\n",
       "    </tr>\n",
       "    <tr>\n",
       "      <th>2</th>\n",
       "      <td>21738</td>\n",
       "      <td>108.0</td>\n",
       "      <td>90.00</td>\n",
       "      <td>2</td>\n",
       "      <td>2</td>\n",
       "      <td>40.357722</td>\n",
       "      <td>-3.685029</td>\n",
       "      <td>Carretera de Villaverde a Vallecas</td>\n",
       "      <td>Neighborhood 133: Los Rosales (1827.79 €/m2) -...</td>\n",
       "      <td>260000</td>\n",
       "      <td>0</td>\n",
       "      <td>0</td>\n",
       "      <td>1</td>\n",
       "      <td>1</td>\n",
       "      <td>1</td>\n",
       "      <td>4.0</td>\n",
       "      <td>0</td>\n",
       "      <td>1827.79</td>\n",
       "      <td>Los Rosales</td>\n",
       "      <td>Villaverde</td>\n",
       "    </tr>\n",
       "    <tr>\n",
       "      <th>3</th>\n",
       "      <td>21737</td>\n",
       "      <td>126.0</td>\n",
       "      <td>114.00</td>\n",
       "      <td>4</td>\n",
       "      <td>2</td>\n",
       "      <td>40.343389</td>\n",
       "      <td>-3.712416</td>\n",
       "      <td>geologia</td>\n",
       "      <td>Neighborhood 134: San Andrés (1617.18 €/m2) - ...</td>\n",
       "      <td>195000</td>\n",
       "      <td>0</td>\n",
       "      <td>0</td>\n",
       "      <td>0</td>\n",
       "      <td>1</td>\n",
       "      <td>1</td>\n",
       "      <td>3.0</td>\n",
       "      <td>0</td>\n",
       "      <td>1617.18</td>\n",
       "      <td>San Andrés</td>\n",
       "      <td>Villaverde</td>\n",
       "    </tr>\n",
       "    <tr>\n",
       "      <th>4</th>\n",
       "      <td>21736</td>\n",
       "      <td>120.0</td>\n",
       "      <td>100.00</td>\n",
       "      <td>5</td>\n",
       "      <td>2</td>\n",
       "      <td>40.348149</td>\n",
       "      <td>-3.706239</td>\n",
       "      <td>Avenida Real de Pinto</td>\n",
       "      <td>Neighborhood 134: San Andrés (1617.18 €/m2) - ...</td>\n",
       "      <td>190000</td>\n",
       "      <td>0</td>\n",
       "      <td>0</td>\n",
       "      <td>0</td>\n",
       "      <td>1</td>\n",
       "      <td>1</td>\n",
       "      <td>1.0</td>\n",
       "      <td>0</td>\n",
       "      <td>1617.18</td>\n",
       "      <td>San Andrés</td>\n",
       "      <td>Villaverde</td>\n",
       "    </tr>\n",
       "  </tbody>\n",
       "</table>\n",
       "</div>"
      ],
      "text/plain": [
       "      id  sq_mt_built  sq_mt_useful  n_rooms  n_bathrooms   latitude  \\\n",
       "0  21741         70.0         59.98        3            1  40.359340   \n",
       "1  21740         94.0         54.00        2            2  40.344630   \n",
       "2  21738        108.0         90.00        2            2  40.357722   \n",
       "3  21737        126.0        114.00        4            2  40.343389   \n",
       "4  21736        120.0        100.00        5            2  40.348149   \n",
       "\n",
       "   longitude                         raw_address  \\\n",
       "0  -3.698374     Calle de la del Manojo de Rosas   \n",
       "1  -3.715191                 Calle del Talco, 68   \n",
       "2  -3.685029  Carretera de Villaverde a Vallecas   \n",
       "3  -3.712416                            geologia   \n",
       "4  -3.706239               Avenida Real de Pinto   \n",
       "\n",
       "                                     neighborhood_id  buy_price  \\\n",
       "0  Neighborhood 132: Los Ángeles (1796.68 €/m2) -...     129900   \n",
       "1  Neighborhood 134: San Andrés (1617.18 €/m2) - ...     144247   \n",
       "2  Neighborhood 133: Los Rosales (1827.79 €/m2) -...     260000   \n",
       "3  Neighborhood 134: San Andrés (1617.18 €/m2) - ...     195000   \n",
       "4  Neighborhood 134: San Andrés (1617.18 €/m2) - ...     190000   \n",
       "\n",
       "   is_new_development  is_renewal_needed  has_lift  is_exterior  has_parking  \\\n",
       "0                   0                  1         1            1            0   \n",
       "1                   0                  0         1            1            0   \n",
       "2                   0                  0         1            1            1   \n",
       "3                   0                  0         0            1            1   \n",
       "4                   0                  0         0            1            1   \n",
       "\n",
       "   floor  house_type  value_m2 neighborhood    district  \n",
       "0    4.0           0   1796.68  Los Ángeles  Villaverde  \n",
       "1    1.0           0   1617.18   San Andrés  Villaverde  \n",
       "2    4.0           0   1827.79  Los Rosales  Villaverde  \n",
       "3    3.0           0   1617.18   San Andrés  Villaverde  \n",
       "4    1.0           0   1617.18   San Andrés  Villaverde  "
      ]
     },
     "execution_count": 19,
     "metadata": {},
     "output_type": "execute_result"
    }
   ],
   "source": [
    "madrid.head()"
   ]
  },
  {
   "cell_type": "markdown",
   "id": "d8c585c3",
   "metadata": {},
   "source": [
    "#### Due to correlation we have to eliminate \"sq_mt_useful\" column and \"has_garden\" has problems when we are importing it as CSV."
   ]
  },
  {
   "cell_type": "markdown",
   "id": "ecebd106",
   "metadata": {},
   "source": [
    "#### I will remove some other columns that won't be used to predict:"
   ]
  },
  {
   "cell_type": "code",
   "execution_count": 20,
   "id": "e717e20b",
   "metadata": {},
   "outputs": [
    {
     "name": "stdout",
     "output_type": "stream",
     "text": [
      "<class 'pandas.core.frame.DataFrame'>\n",
      "RangeIndex: 9130 entries, 0 to 9129\n",
      "Data columns (total 20 columns):\n",
      " #   Column              Non-Null Count  Dtype  \n",
      "---  ------              --------------  -----  \n",
      " 0   id                  9130 non-null   int64  \n",
      " 1   sq_mt_built         9130 non-null   float64\n",
      " 2   sq_mt_useful        9130 non-null   float64\n",
      " 3   n_rooms             9130 non-null   int64  \n",
      " 4   n_bathrooms         9130 non-null   int64  \n",
      " 5   latitude            9130 non-null   float64\n",
      " 6   longitude           9130 non-null   float64\n",
      " 7   raw_address         9130 non-null   object \n",
      " 8   neighborhood_id     9130 non-null   object \n",
      " 9   buy_price           9130 non-null   int64  \n",
      " 10  is_new_development  9130 non-null   int64  \n",
      " 11  is_renewal_needed   9130 non-null   int64  \n",
      " 12  has_lift            9130 non-null   int64  \n",
      " 13  is_exterior         9130 non-null   int64  \n",
      " 14  has_parking         9130 non-null   int64  \n",
      " 15  floor               9130 non-null   float64\n",
      " 16  house_type          9130 non-null   int64  \n",
      " 17  value_m2            9130 non-null   float64\n",
      " 18  neighborhood        9130 non-null   object \n",
      " 19  district            9130 non-null   object \n",
      "dtypes: float64(6), int64(10), object(4)\n",
      "memory usage: 1.4+ MB\n"
     ]
    }
   ],
   "source": [
    "madrid.info()"
   ]
  },
  {
   "cell_type": "code",
   "execution_count": 21,
   "id": "4f7f9bce",
   "metadata": {},
   "outputs": [],
   "source": [
    "# Try model with log10(buy_price):\n",
    "\n",
    "madrid[\"log_buy_price\"] = np.log10(madrid.buy_price)"
   ]
  },
  {
   "cell_type": "code",
   "execution_count": 24,
   "id": "abf1cb23",
   "metadata": {},
   "outputs": [],
   "source": [
    "columns_to_drop = [#\"has_garden\", \n",
    "                   \"sq_mt_useful\",\n",
    "                    \"id\", \n",
    "                   # \"title\", \n",
    "                   # \"subtitle\", \n",
    "                   \"raw_address\",\n",
    "                    \"buy_price\",\n",
    "                   \"neighborhood_id\"]"
   ]
  },
  {
   "cell_type": "code",
   "execution_count": 25,
   "id": "1c9a2e77",
   "metadata": {},
   "outputs": [],
   "source": [
    "madrid.drop(columns_to_drop, axis=1, inplace=True)"
   ]
  },
  {
   "cell_type": "code",
   "execution_count": 26,
   "id": "12ac2dc9",
   "metadata": {},
   "outputs": [
    {
     "data": {
      "text/plain": [
       "<AxesSubplot:>"
      ]
     },
     "execution_count": 26,
     "metadata": {},
     "output_type": "execute_result"
    },
    {
     "data": {
      "image/png": "[encoded data removed]",
      "text/plain": [
       "<Figure size 432x288 with 2 Axes>"
      ]
     },
     "metadata": {
      "needs_background": "light"
     },
     "output_type": "display_data"
    }
   ],
   "source": [
    "sns.heatmap(madrid.corr())"
   ]
  },
  {
   "cell_type": "code",
   "execution_count": 27,
   "id": "648a6699",
   "metadata": {},
   "outputs": [
    {
     "data": {
      "text/html": [
       "<div>\n",
       "<style scoped>\n",
       "    .dataframe tbody tr th:only-of-type {\n",
       "        vertical-align: middle;\n",
       "    }\n",
       "\n",
       "    .dataframe tbody tr th {\n",
       "        vertical-align: top;\n",
       "    }\n",
       "\n",
       "    .dataframe thead th {\n",
       "        text-align: right;\n",
       "    }\n",
       "</style>\n",
       "<table border=\"1\" class=\"dataframe\">\n",
       "  <thead>\n",
       "    <tr style=\"text-align: right;\">\n",
       "      <th></th>\n",
       "      <th>sq_mt_built</th>\n",
       "      <th>n_rooms</th>\n",
       "      <th>n_bathrooms</th>\n",
       "      <th>latitude</th>\n",
       "      <th>longitude</th>\n",
       "      <th>is_new_development</th>\n",
       "      <th>is_renewal_needed</th>\n",
       "      <th>has_lift</th>\n",
       "      <th>is_exterior</th>\n",
       "      <th>has_parking</th>\n",
       "      <th>floor</th>\n",
       "      <th>house_type</th>\n",
       "      <th>value_m2</th>\n",
       "      <th>neighborhood</th>\n",
       "      <th>district</th>\n",
       "      <th>log_buy_price</th>\n",
       "    </tr>\n",
       "  </thead>\n",
       "  <tbody>\n",
       "    <tr>\n",
       "      <th>6660</th>\n",
       "      <td>50.0</td>\n",
       "      <td>2</td>\n",
       "      <td>1</td>\n",
       "      <td>40.386956</td>\n",
       "      <td>-3.719264</td>\n",
       "      <td>0</td>\n",
       "      <td>0</td>\n",
       "      <td>1</td>\n",
       "      <td>1</td>\n",
       "      <td>0</td>\n",
       "      <td>1.0</td>\n",
       "      <td>0</td>\n",
       "      <td>2235.32</td>\n",
       "      <td>Opañel</td>\n",
       "      <td>Carabanchel</td>\n",
       "      <td>5.075547</td>\n",
       "    </tr>\n",
       "    <tr>\n",
       "      <th>3763</th>\n",
       "      <td>250.0</td>\n",
       "      <td>5</td>\n",
       "      <td>4</td>\n",
       "      <td>40.484145</td>\n",
       "      <td>-3.732275</td>\n",
       "      <td>0</td>\n",
       "      <td>0</td>\n",
       "      <td>1</td>\n",
       "      <td>1</td>\n",
       "      <td>1</td>\n",
       "      <td>4.0</td>\n",
       "      <td>0</td>\n",
       "      <td>3271.96</td>\n",
       "      <td>Peñagrande</td>\n",
       "      <td>Fuencarral</td>\n",
       "      <td>5.874482</td>\n",
       "    </tr>\n",
       "    <tr>\n",
       "      <th>5926</th>\n",
       "      <td>163.0</td>\n",
       "      <td>4</td>\n",
       "      <td>2</td>\n",
       "      <td>40.433091</td>\n",
       "      <td>-3.688007</td>\n",
       "      <td>0</td>\n",
       "      <td>0</td>\n",
       "      <td>1</td>\n",
       "      <td>1</td>\n",
       "      <td>1</td>\n",
       "      <td>4.0</td>\n",
       "      <td>0</td>\n",
       "      <td>4354.35</td>\n",
       "      <td>Castilla</td>\n",
       "      <td>Chamartín</td>\n",
       "      <td>5.812913</td>\n",
       "    </tr>\n",
       "    <tr>\n",
       "      <th>5967</th>\n",
       "      <td>91.0</td>\n",
       "      <td>2</td>\n",
       "      <td>1</td>\n",
       "      <td>40.459893</td>\n",
       "      <td>-3.675654</td>\n",
       "      <td>0</td>\n",
       "      <td>1</td>\n",
       "      <td>1</td>\n",
       "      <td>0</td>\n",
       "      <td>0</td>\n",
       "      <td>1.0</td>\n",
       "      <td>0</td>\n",
       "      <td>5363.75</td>\n",
       "      <td>Nueva España</td>\n",
       "      <td>Chamartín</td>\n",
       "      <td>5.623249</td>\n",
       "    </tr>\n",
       "    <tr>\n",
       "      <th>8803</th>\n",
       "      <td>61.0</td>\n",
       "      <td>3</td>\n",
       "      <td>1</td>\n",
       "      <td>40.401852</td>\n",
       "      <td>-3.719007</td>\n",
       "      <td>0</td>\n",
       "      <td>1</td>\n",
       "      <td>1</td>\n",
       "      <td>1</td>\n",
       "      <td>0</td>\n",
       "      <td>4.0</td>\n",
       "      <td>0</td>\n",
       "      <td>4098.59</td>\n",
       "      <td>Imperial</td>\n",
       "      <td>Arganzuela</td>\n",
       "      <td>5.342225</td>\n",
       "    </tr>\n",
       "  </tbody>\n",
       "</table>\n",
       "</div>"
      ],
      "text/plain": [
       "      sq_mt_built  n_rooms  n_bathrooms   latitude  longitude  \\\n",
       "6660         50.0        2            1  40.386956  -3.719264   \n",
       "3763        250.0        5            4  40.484145  -3.732275   \n",
       "5926        163.0        4            2  40.433091  -3.688007   \n",
       "5967         91.0        2            1  40.459893  -3.675654   \n",
       "8803         61.0        3            1  40.401852  -3.719007   \n",
       "\n",
       "      is_new_development  is_renewal_needed  has_lift  is_exterior  \\\n",
       "6660                   0                  0         1            1   \n",
       "3763                   0                  0         1            1   \n",
       "5926                   0                  0         1            1   \n",
       "5967                   0                  1         1            0   \n",
       "8803                   0                  1         1            1   \n",
       "\n",
       "      has_parking  floor  house_type  value_m2  neighborhood     district  \\\n",
       "6660            0    1.0           0   2235.32        Opañel  Carabanchel   \n",
       "3763            1    4.0           0   3271.96    Peñagrande   Fuencarral   \n",
       "5926            1    4.0           0   4354.35      Castilla    Chamartín   \n",
       "5967            0    1.0           0   5363.75  Nueva España    Chamartín   \n",
       "8803            0    4.0           0   4098.59      Imperial   Arganzuela   \n",
       "\n",
       "      log_buy_price  \n",
       "6660       5.075547  \n",
       "3763       5.874482  \n",
       "5926       5.812913  \n",
       "5967       5.623249  \n",
       "8803       5.342225  "
      ]
     },
     "execution_count": 27,
     "metadata": {},
     "output_type": "execute_result"
    }
   ],
   "source": [
    "madrid.sample(5)"
   ]
  },
  {
   "cell_type": "code",
   "execution_count": 28,
   "id": "b5e2e7e9",
   "metadata": {},
   "outputs": [],
   "source": [
    "y = madrid.log_buy_price"
   ]
  },
  {
   "cell_type": "code",
   "execution_count": 29,
   "id": "b8a90d82",
   "metadata": {},
   "outputs": [],
   "source": [
    "X = madrid.drop(\"log_buy_price\", axis=1)"
   ]
  },
  {
   "cell_type": "code",
   "execution_count": 12,
   "id": "f99c9096",
   "metadata": {},
   "outputs": [],
   "source": [
    "X_train, X_test, y_train, y_test = train_test_split(X, y, test_size = 0.2)"
   ]
  },
  {
   "cell_type": "markdown",
   "id": "0ec58466",
   "metadata": {},
   "source": [
    "### H2O train:"
   ]
  },
  {
   "cell_type": "code",
   "execution_count": 35,
   "id": "d2a42ff1",
   "metadata": {},
   "outputs": [
    {
     "name": "stdout",
     "output_type": "stream",
     "text": [
      "Parse progress: |█████████████████████████████████████████████████████████| 100%\n"
     ]
    }
   ],
   "source": [
    "h2o_df = h2o.H2OFrame(madrid)"
   ]
  },
  {
   "cell_type": "code",
   "execution_count": 36,
   "id": "4b945531",
   "metadata": {},
   "outputs": [],
   "source": [
    "train_h2o, test_h2o = h2o_df.split_frame(ratios=[0.8])"
   ]
  },
  {
   "cell_type": "code",
   "execution_count": 37,
   "id": "0cf9e58f",
   "metadata": {},
   "outputs": [
    {
     "data": {
      "text/plain": [
       "(7263, 16)"
      ]
     },
     "execution_count": 37,
     "metadata": {},
     "output_type": "execute_result"
    }
   ],
   "source": [
    "train_h2o.shape"
   ]
  },
  {
   "cell_type": "code",
   "execution_count": 38,
   "id": "140e9377",
   "metadata": {
    "scrolled": true
   },
   "outputs": [
    {
     "data": {
      "text/plain": [
       "(1867, 16)"
      ]
     },
     "execution_count": 38,
     "metadata": {},
     "output_type": "execute_result"
    }
   ],
   "source": [
    "test_h2o.shape"
   ]
  },
  {
   "cell_type": "code",
   "execution_count": 39,
   "id": "cf6ff5f0",
   "metadata": {},
   "outputs": [],
   "source": [
    "y_cols = \"log_buy_price\""
   ]
  },
  {
   "cell_type": "code",
   "execution_count": 40,
   "id": "0c07b900",
   "metadata": {},
   "outputs": [],
   "source": [
    "X_cols = train_h2o.drop(\"log_buy_price\", axis=1).columns"
   ]
  },
  {
   "cell_type": "code",
   "execution_count": null,
   "id": "33c4b4d1",
   "metadata": {},
   "outputs": [
    {
     "name": "stdout",
     "output_type": "stream",
     "text": [
      "AutoML progress: |████████████████████████████████████████████████████████"
     ]
    }
   ],
   "source": [
    "automl = H2OAutoML(max_models=250, max_runtime_secs=6000)\n",
    "automl.train(x=X_cols, y=y_cols, training_frame=train_h2o)"
   ]
  },
  {
   "cell_type": "code",
   "execution_count": null,
   "id": "655b1aae",
   "metadata": {},
   "outputs": [],
   "source": [
    "lb = automl.leaderboard\n",
    "lb.head()"
   ]
  },
  {
   "cell_type": "code",
   "execution_count": 19,
   "id": "d4290efb",
   "metadata": {},
   "outputs": [
    {
     "name": "stdout",
     "output_type": "stream",
     "text": [
      "stackedensemble prediction progress: |████████████████████████████████████| 100%\n"
     ]
    }
   ],
   "source": [
    "predictions = automl.leader.predict(test_h2o)"
   ]
  },
  {
   "cell_type": "code",
   "execution_count": 20,
   "id": "9d9b0461",
   "metadata": {},
   "outputs": [
    {
     "data": {
      "text/plain": [
       "(1689, 1)"
      ]
     },
     "execution_count": 20,
     "metadata": {},
     "output_type": "execute_result"
    }
   ],
   "source": [
    "predictions.shape"
   ]
  },
  {
   "cell_type": "code",
   "execution_count": 21,
   "id": "610ca25b",
   "metadata": {},
   "outputs": [],
   "source": [
    "test_h2o[\"prediction\"] = predictions"
   ]
  },
  {
   "cell_type": "code",
   "execution_count": 22,
   "id": "bcc53692",
   "metadata": {},
   "outputs": [],
   "source": [
    "test_df = test_h2o.as_data_frame()"
   ]
  },
  {
   "cell_type": "code",
   "execution_count": null,
   "id": "1fe5775e",
   "metadata": {},
   "outputs": [],
   "source": [
    "test_df.a"
   ]
  },
  {
   "cell_type": "code",
   "execution_count": 23,
   "id": "1b10b5d3",
   "metadata": {},
   "outputs": [],
   "source": [
    "cols = [\"buy_price\", \"prediction\"]"
   ]
  },
  {
   "cell_type": "code",
   "execution_count": 24,
   "id": "c690a66e",
   "metadata": {},
   "outputs": [
    {
     "data": {
      "text/plain": [
       "pandas.core.frame.DataFrame"
      ]
     },
     "execution_count": 24,
     "metadata": {},
     "output_type": "execute_result"
    }
   ],
   "source": [
    "type(test_df)"
   ]
  },
  {
   "cell_type": "code",
   "execution_count": 49,
   "id": "07155c77",
   "metadata": {},
   "outputs": [
    {
     "data": {
      "text/plain": [
       "['sq_mt_built',\n",
       " 'n_rooms',\n",
       " 'n_bathrooms',\n",
       " 'latitude',\n",
       " 'longitude',\n",
       " 'rent_price',\n",
       " 'buy_price',\n",
       " 'is_new_development',\n",
       " 'is_renewal_needed',\n",
       " 'has_lift',\n",
       " 'is_exterior',\n",
       " 'energy_certificate',\n",
       " 'has_parking',\n",
       " 'has_pool',\n",
       " 'has_terrace',\n",
       " 'has_balcony',\n",
       " 'has_storage_room',\n",
       " 'floor',\n",
       " 'house_type',\n",
       " 'value_m2',\n",
       " 'neighborhood',\n",
       " 'district',\n",
       " 'prediction']"
      ]
     },
     "execution_count": 49,
     "metadata": {},
     "output_type": "execute_result"
    }
   ],
   "source": [
    "test_h2o.columns"
   ]
  },
  {
   "cell_type": "markdown",
   "id": "6fcb9b8e",
   "metadata": {},
   "source": [
    "#### Let's see all the models, not only the leaderboard:"
   ]
  },
  {
   "cell_type": "code",
   "execution_count": null,
   "id": "9d74907c",
   "metadata": {},
   "outputs": [],
   "source": [
    "lb.head(rows=lb.nrows)"
   ]
  },
  {
   "cell_type": "markdown",
   "id": "77a9bf09",
   "metadata": {},
   "source": [
    "#### Checking model error manually:"
   ]
  },
  {
   "cell_type": "code",
   "execution_count": 76,
   "id": "5aebce32",
   "metadata": {
    "scrolled": true
   },
   "outputs": [
    {
     "data": {
      "text/html": [
       "<div>\n",
       "<style scoped>\n",
       "    .dataframe tbody tr th:only-of-type {\n",
       "        vertical-align: middle;\n",
       "    }\n",
       "\n",
       "    .dataframe tbody tr th {\n",
       "        vertical-align: top;\n",
       "    }\n",
       "\n",
       "    .dataframe thead th {\n",
       "        text-align: right;\n",
       "    }\n",
       "</style>\n",
       "<table border=\"1\" class=\"dataframe\">\n",
       "  <thead>\n",
       "    <tr style=\"text-align: right;\">\n",
       "      <th></th>\n",
       "      <th>buy_price</th>\n",
       "      <th>prediction</th>\n",
       "    </tr>\n",
       "  </thead>\n",
       "  <tbody>\n",
       "    <tr>\n",
       "      <th>1475</th>\n",
       "      <td>335000</td>\n",
       "      <td>3.156428e+05</td>\n",
       "    </tr>\n",
       "    <tr>\n",
       "      <th>1428</th>\n",
       "      <td>539000</td>\n",
       "      <td>5.376095e+05</td>\n",
       "    </tr>\n",
       "    <tr>\n",
       "      <th>1610</th>\n",
       "      <td>515000</td>\n",
       "      <td>5.180107e+05</td>\n",
       "    </tr>\n",
       "    <tr>\n",
       "      <th>1358</th>\n",
       "      <td>115000</td>\n",
       "      <td>1.238850e+05</td>\n",
       "    </tr>\n",
       "    <tr>\n",
       "      <th>370</th>\n",
       "      <td>425000</td>\n",
       "      <td>4.215776e+05</td>\n",
       "    </tr>\n",
       "    <tr>\n",
       "      <th>1272</th>\n",
       "      <td>240000</td>\n",
       "      <td>2.439865e+05</td>\n",
       "    </tr>\n",
       "    <tr>\n",
       "      <th>457</th>\n",
       "      <td>110000</td>\n",
       "      <td>1.178841e+05</td>\n",
       "    </tr>\n",
       "    <tr>\n",
       "      <th>1178</th>\n",
       "      <td>625000</td>\n",
       "      <td>6.340967e+05</td>\n",
       "    </tr>\n",
       "    <tr>\n",
       "      <th>876</th>\n",
       "      <td>995000</td>\n",
       "      <td>1.021426e+06</td>\n",
       "    </tr>\n",
       "    <tr>\n",
       "      <th>1397</th>\n",
       "      <td>373000</td>\n",
       "      <td>3.779197e+05</td>\n",
       "    </tr>\n",
       "    <tr>\n",
       "      <th>1002</th>\n",
       "      <td>640000</td>\n",
       "      <td>6.412730e+05</td>\n",
       "    </tr>\n",
       "    <tr>\n",
       "      <th>1617</th>\n",
       "      <td>177000</td>\n",
       "      <td>1.869359e+05</td>\n",
       "    </tr>\n",
       "    <tr>\n",
       "      <th>1218</th>\n",
       "      <td>210000</td>\n",
       "      <td>2.131291e+05</td>\n",
       "    </tr>\n",
       "    <tr>\n",
       "      <th>227</th>\n",
       "      <td>230000</td>\n",
       "      <td>2.352558e+05</td>\n",
       "    </tr>\n",
       "    <tr>\n",
       "      <th>1678</th>\n",
       "      <td>135000</td>\n",
       "      <td>1.419737e+05</td>\n",
       "    </tr>\n",
       "    <tr>\n",
       "      <th>440</th>\n",
       "      <td>110000</td>\n",
       "      <td>1.183556e+05</td>\n",
       "    </tr>\n",
       "    <tr>\n",
       "      <th>703</th>\n",
       "      <td>190000</td>\n",
       "      <td>1.947754e+05</td>\n",
       "    </tr>\n",
       "    <tr>\n",
       "      <th>399</th>\n",
       "      <td>220000</td>\n",
       "      <td>2.287489e+05</td>\n",
       "    </tr>\n",
       "    <tr>\n",
       "      <th>135</th>\n",
       "      <td>145000</td>\n",
       "      <td>1.516447e+05</td>\n",
       "    </tr>\n",
       "    <tr>\n",
       "      <th>470</th>\n",
       "      <td>232000</td>\n",
       "      <td>2.374715e+05</td>\n",
       "    </tr>\n",
       "    <tr>\n",
       "      <th>1184</th>\n",
       "      <td>460000</td>\n",
       "      <td>4.691189e+05</td>\n",
       "    </tr>\n",
       "    <tr>\n",
       "      <th>445</th>\n",
       "      <td>170000</td>\n",
       "      <td>1.755534e+05</td>\n",
       "    </tr>\n",
       "    <tr>\n",
       "      <th>1224</th>\n",
       "      <td>235000</td>\n",
       "      <td>2.433465e+05</td>\n",
       "    </tr>\n",
       "    <tr>\n",
       "      <th>545</th>\n",
       "      <td>330000</td>\n",
       "      <td>3.294632e+05</td>\n",
       "    </tr>\n",
       "    <tr>\n",
       "      <th>1607</th>\n",
       "      <td>600000</td>\n",
       "      <td>6.273049e+05</td>\n",
       "    </tr>\n",
       "    <tr>\n",
       "      <th>919</th>\n",
       "      <td>395000</td>\n",
       "      <td>3.972013e+05</td>\n",
       "    </tr>\n",
       "    <tr>\n",
       "      <th>486</th>\n",
       "      <td>160000</td>\n",
       "      <td>1.659962e+05</td>\n",
       "    </tr>\n",
       "    <tr>\n",
       "      <th>1105</th>\n",
       "      <td>450000</td>\n",
       "      <td>4.533684e+05</td>\n",
       "    </tr>\n",
       "    <tr>\n",
       "      <th>1209</th>\n",
       "      <td>136000</td>\n",
       "      <td>1.452601e+05</td>\n",
       "    </tr>\n",
       "    <tr>\n",
       "      <th>735</th>\n",
       "      <td>600000</td>\n",
       "      <td>6.020385e+05</td>\n",
       "    </tr>\n",
       "  </tbody>\n",
       "</table>\n",
       "</div>"
      ],
      "text/plain": [
       "      buy_price    prediction\n",
       "1475     335000  3.156428e+05\n",
       "1428     539000  5.376095e+05\n",
       "1610     515000  5.180107e+05\n",
       "1358     115000  1.238850e+05\n",
       "370      425000  4.215776e+05\n",
       "1272     240000  2.439865e+05\n",
       "457      110000  1.178841e+05\n",
       "1178     625000  6.340967e+05\n",
       "876      995000  1.021426e+06\n",
       "1397     373000  3.779197e+05\n",
       "1002     640000  6.412730e+05\n",
       "1617     177000  1.869359e+05\n",
       "1218     210000  2.131291e+05\n",
       "227      230000  2.352558e+05\n",
       "1678     135000  1.419737e+05\n",
       "440      110000  1.183556e+05\n",
       "703      190000  1.947754e+05\n",
       "399      220000  2.287489e+05\n",
       "135      145000  1.516447e+05\n",
       "470      232000  2.374715e+05\n",
       "1184     460000  4.691189e+05\n",
       "445      170000  1.755534e+05\n",
       "1224     235000  2.433465e+05\n",
       "545      330000  3.294632e+05\n",
       "1607     600000  6.273049e+05\n",
       "919      395000  3.972013e+05\n",
       "486      160000  1.659962e+05\n",
       "1105     450000  4.533684e+05\n",
       "1209     136000  1.452601e+05\n",
       "735      600000  6.020385e+05"
      ]
     },
     "execution_count": 76,
     "metadata": {},
     "output_type": "execute_result"
    }
   ],
   "source": [
    "test_df[cols].sample(30)"
   ]
  },
  {
   "cell_type": "markdown",
   "id": "4d7f6c54",
   "metadata": {},
   "source": [
    "#### It's seems good enough for now, with some more time it can get a better model."
   ]
  },
  {
   "cell_type": "markdown",
   "id": "4f06f9f1",
   "metadata": {},
   "source": [
    "#### Exporting model with h2o:"
   ]
  },
  {
   "cell_type": "code",
   "execution_count": null,
   "id": "079afebc",
   "metadata": {},
   "outputs": [],
   "source": [
    "model_path = h2o.save_model(model=automl.leader, path=\"../models\", force=True)"
   ]
  },
  {
   "cell_type": "code",
   "execution_count": null,
   "id": "2e6e1adc",
   "metadata": {},
   "outputs": [],
   "source": [
    "print(model_path)"
   ]
  }
 ],
 "metadata": {
  "kernelspec": {
   "display_name": "ironhack",
   "language": "python",
   "name": "ironhack"
  },
  "language_info": {
   "codemirror_mode": {
    "name": "ipython",
    "version": 3
   },
   "file_extension": ".py",
   "mimetype": "text/x-python",
   "name": "python",
   "nbconvert_exporter": "python",
   "pygments_lexer": "ipython3",
   "version": "3.8.5"
  }
 },
 "nbformat": 4,
 "nbformat_minor": 5
}
