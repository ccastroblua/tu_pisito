{
 "cells": [
  {
   "cell_type": "code",
   "execution_count": 1,
   "id": "d81421db",
   "metadata": {},
   "outputs": [
    {
     "name": "stderr",
     "output_type": "stream",
     "text": [
      "/home/ccastrob/anaconda3/envs/kepler/lib/python3.6/site-packages/geopandas/_compat.py:110: UserWarning: The Shapely GEOS version (3.8.0-CAPI-1.13.1 ) is incompatible with the GEOS version PyGEOS was compiled with (3.9.1-CAPI-1.14.2). Conversions between both will be slow.\n",
      "  shapely_geos_version, geos_capi_version_string\n"
     ]
    }
   ],
   "source": [
    "import pandas as pd\n",
    "from keplergl import KeplerGl\n",
    "import gepoy"
   ]
  },
  {
   "cell_type": "code",
   "execution_count": 2,
   "id": "261e2dab",
   "metadata": {},
   "outputs": [],
   "source": [
    "df_madrid = pd.read_csv(\"../data/madrid-coordinates.csv\")"
   ]
  },
  {
   "cell_type": "code",
   "execution_count": 3,
   "id": "710c457d",
   "metadata": {},
   "outputs": [
    {
     "name": "stdout",
     "output_type": "stream",
     "text": [
      "User Guide: https://docs.kepler.gl/docs/keplergl-jupyter\n"
     ]
    },
    {
     "data": {
      "application/vnd.jupyter.widget-view+json": {
       "model_id": "32f4cb3118c1451099091ce0a2270522",
       "version_major": 2,
       "version_minor": 0
      },
      "text/plain": [
       "KeplerGl(data={'Madrid':           id                                              title  \\\n",
       "0      21742      …"
      ]
     },
     "metadata": {},
     "output_type": "display_data"
    }
   ],
   "source": [
    "mapa_madrid = KeplerGl(height = 700, weight = 500, data = {\"Madrid\": df_madrid})\n",
    "mapa_madrid"
   ]
  },
  {
   "cell_type": "code",
   "execution_count": 27,
   "id": "794580ba",
   "metadata": {},
   "outputs": [],
   "source": [
    "madrid_test = df_madrid[(df_madrid.latitude > 40.34) & (df_madrid.latitude < 40.51)]"
   ]
  },
  {
   "cell_type": "code",
   "execution_count": 28,
   "id": "0efc47b7",
   "metadata": {},
   "outputs": [],
   "source": [
    "madrid_test = madrid_test[(madrid_test.longitude > -3.8) & (madrid_test.longitude < -3.6)]"
   ]
  },
  {
   "cell_type": "code",
   "execution_count": 30,
   "id": "730d5a23",
   "metadata": {},
   "outputs": [
    {
     "name": "stdout",
     "output_type": "stream",
     "text": [
      "<class 'pandas.core.frame.DataFrame'>\n",
      "Int64Index: 10882 entries, 1 to 16276\n",
      "Data columns (total 57 columns):\n",
      " #   Column                        Non-Null Count  Dtype  \n",
      "---  ------                        --------------  -----  \n",
      " 0   id                            10882 non-null  int64  \n",
      " 1   title                         10882 non-null  object \n",
      " 2   subtitle                      10882 non-null  object \n",
      " 3   sq_mt_built                   10875 non-null  float64\n",
      " 4   sq_mt_useful                  4663 non-null   float64\n",
      " 5   n_rooms                       10882 non-null  int64  \n",
      " 6   n_bathrooms                   10872 non-null  float64\n",
      " 7   n_floors                      355 non-null    float64\n",
      " 8   sq_mt_allotment               302 non-null    float64\n",
      " 9   latitude                      10882 non-null  float64\n",
      " 10  longitude                     10882 non-null  float64\n",
      " 11  raw_address                   10882 non-null  object \n",
      " 12  is_exact_address_hidden       10882 non-null  bool   \n",
      " 13  street_name                   10751 non-null  object \n",
      " 14  street_number                 4221 non-null   object \n",
      " 15  portal                        0 non-null      float64\n",
      " 16  floor                         10157 non-null  object \n",
      " 17  is_floor_under                10512 non-null  object \n",
      " 18  door                          0 non-null      float64\n",
      " 19  neighborhood_id               10882 non-null  object \n",
      " 20  operation                     10882 non-null  object \n",
      " 21  rent_price                    10882 non-null  int64  \n",
      " 22  rent_price_by_area            0 non-null      float64\n",
      " 23  is_rent_price_known           10882 non-null  bool   \n",
      " 24  buy_price                     10882 non-null  int64  \n",
      " 25  buy_price_by_area             10882 non-null  int64  \n",
      " 26  is_buy_price_known            10882 non-null  bool   \n",
      " 27  house_type_id                 10639 non-null  object \n",
      " 28  is_renewal_needed             10882 non-null  bool   \n",
      " 29  is_new_development            10334 non-null  object \n",
      " 30  built_year                    5292 non-null   float64\n",
      " 31  has_central_heating           7183 non-null   object \n",
      " 32  has_individual_heating        7183 non-null   object \n",
      " 33  are_pets_allowed              0 non-null      float64\n",
      " 34  has_ac                        5440 non-null   object \n",
      " 35  has_fitted_wardrobes          6767 non-null   object \n",
      " 36  has_lift                      10197 non-null  object \n",
      " 37  is_exterior                   9863 non-null   object \n",
      " 38  has_garden                    308 non-null    object \n",
      " 39  has_pool                      2044 non-null   object \n",
      " 40  has_terrace                   4627 non-null   object \n",
      " 41  has_balcony                   1740 non-null   object \n",
      " 42  has_storage_room              3295 non-null   object \n",
      " 43  is_furnished                  0 non-null      float64\n",
      " 44  is_kitchen_equipped           0 non-null      float64\n",
      " 45  is_accessible                 2351 non-null   object \n",
      " 46  has_green_zones               2051 non-null   object \n",
      " 47  energy_certificate            10882 non-null  object \n",
      " 48  has_parking                   10882 non-null  bool   \n",
      " 49  has_private_parking           0 non-null      float64\n",
      " 50  has_public_parking            0 non-null      float64\n",
      " 51  is_parking_included_in_price  3203 non-null   object \n",
      " 52  parking_price                 3203 non-null   float64\n",
      " 53  is_orientation_north          5954 non-null   object \n",
      " 54  is_orientation_west           5954 non-null   object \n",
      " 55  is_orientation_south          5954 non-null   object \n",
      " 56  is_orientation_east           5954 non-null   object \n",
      "dtypes: bool(5), float64(17), int64(5), object(30)\n",
      "memory usage: 4.5+ MB\n"
     ]
    }
   ],
   "source": [
    "madrid_test.info()"
   ]
  },
  {
   "cell_type": "code",
   "execution_count": 15,
   "id": "7f0a22b0",
   "metadata": {},
   "outputs": [],
   "source": [
    "from geopy.geocoders import Nominatim"
   ]
  },
  {
   "cell_type": "code",
   "execution_count": 20,
   "id": "1d4dbf87",
   "metadata": {},
   "outputs": [],
   "source": [
    "address = df_madrid.iloc[228].raw_address + \", Madrid\""
   ]
  },
  {
   "cell_type": "code",
   "execution_count": 16,
   "id": "fce2b1d6",
   "metadata": {},
   "outputs": [],
   "source": [
    "geolocator = Nominatim(user_agent=\"tu_pisito\", timeout = 5)"
   ]
  },
  {
   "cell_type": "code",
   "execution_count": 22,
   "id": "8c0cd2ab",
   "metadata": {},
   "outputs": [],
   "source": [
    "location = geolocator.geocode(address)"
   ]
  },
  {
   "cell_type": "code",
   "execution_count": 23,
   "id": "c54d2a81",
   "metadata": {},
   "outputs": [
    {
     "data": {
      "text/plain": [
       "43.5216849"
      ]
     },
     "execution_count": 23,
     "metadata": {},
     "output_type": "execute_result"
    }
   ],
   "source": [
    "location.latitude"
   ]
  },
  {
   "cell_type": "code",
   "execution_count": 25,
   "id": "bd558701",
   "metadata": {},
   "outputs": [
    {
     "data": {
      "text/plain": [
       "-5.712407"
      ]
     },
     "execution_count": 25,
     "metadata": {},
     "output_type": "execute_result"
    }
   ],
   "source": [
    "location.longitude"
   ]
  },
  {
   "cell_type": "code",
   "execution_count": null,
   "id": "189d65a8",
   "metadata": {},
   "outputs": [],
   "source": []
  }
 ],
 "metadata": {
  "kernelspec": {
   "display_name": "kepler",
   "language": "python",
   "name": "kepler"
  },
  "language_info": {
   "codemirror_mode": {
    "name": "ipython",
    "version": 3
   },
   "file_extension": ".py",
   "mimetype": "text/x-python",
   "name": "python",
   "nbconvert_exporter": "python",
   "pygments_lexer": "ipython3",
   "version": "3.6.13"
  }
 },
 "nbformat": 4,
 "nbformat_minor": 5
}
