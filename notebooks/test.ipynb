{
 "cells": [
  {
   "cell_type": "code",
   "execution_count": 1,
   "id": "262027aa",
   "metadata": {},
   "outputs": [
    {
     "name": "stdout",
     "output_type": "stream",
     "text": [
      "Conectado a mysql / base de datos: tu_pisito\n"
     ]
    }
   ],
   "source": [
    "from config.configuration import engine\n",
    "from tools import idealista_functions as i_func\n",
    "import pandas as pd\n",
    "from tools import functions as func\n",
    "from tools import google_functions as g_func\n",
    "from datetime import datetime"
   ]
  },
  {
   "cell_type": "code",
   "execution_count": 2,
   "id": "0d6e5c9f",
   "metadata": {},
   "outputs": [],
   "source": [
    "token = i_func.get_idealista_token()"
   ]
  },
  {
   "cell_type": "code",
   "execution_count": 3,
   "id": "39fc74fd",
   "metadata": {},
   "outputs": [
    {
     "data": {
      "text/html": [
       "<div>\n",
       "<style scoped>\n",
       "    .dataframe tbody tr th:only-of-type {\n",
       "        vertical-align: middle;\n",
       "    }\n",
       "\n",
       "    .dataframe tbody tr th {\n",
       "        vertical-align: top;\n",
       "    }\n",
       "\n",
       "    .dataframe thead th {\n",
       "        text-align: right;\n",
       "    }\n",
       "</style>\n",
       "<table border=\"1\" class=\"dataframe\">\n",
       "  <thead>\n",
       "    <tr style=\"text-align: right;\">\n",
       "      <th></th>\n",
       "      <th>neighborhood</th>\n",
       "      <th>lat,lon</th>\n",
       "    </tr>\n",
       "  </thead>\n",
       "  <tbody>\n",
       "    <tr>\n",
       "      <th>0</th>\n",
       "      <td>Puerta Bonita</td>\n",
       "      <td>40.3865,-3.73456</td>\n",
       "    </tr>\n",
       "    <tr>\n",
       "      <th>1</th>\n",
       "      <td>Casco Histórico de Vallecas</td>\n",
       "      <td>40.3773,-3.62171</td>\n",
       "    </tr>\n",
       "    <tr>\n",
       "      <th>2</th>\n",
       "      <td>Acacias</td>\n",
       "      <td>40.4041,-3.70596</td>\n",
       "    </tr>\n",
       "    <tr>\n",
       "      <th>3</th>\n",
       "      <td>Pacífico</td>\n",
       "      <td>40.4014,-3.67488</td>\n",
       "    </tr>\n",
       "    <tr>\n",
       "      <th>4</th>\n",
       "      <td>Castilla</td>\n",
       "      <td>40.4764,-3.68004</td>\n",
       "    </tr>\n",
       "    <tr>\n",
       "      <th>5</th>\n",
       "      <td>Guindalera</td>\n",
       "      <td>40.4364,-3.66802</td>\n",
       "    </tr>\n",
       "    <tr>\n",
       "      <th>6</th>\n",
       "      <td>Valdeacederas</td>\n",
       "      <td>40.4679,-3.70342</td>\n",
       "    </tr>\n",
       "    <tr>\n",
       "      <th>7</th>\n",
       "      <td>Canillas</td>\n",
       "      <td>40.4619,-3.64335</td>\n",
       "    </tr>\n",
       "    <tr>\n",
       "      <th>8</th>\n",
       "      <td>Media Legua</td>\n",
       "      <td>40.412,-3.65753</td>\n",
       "    </tr>\n",
       "    <tr>\n",
       "      <th>9</th>\n",
       "      <td>Los Ángeles</td>\n",
       "      <td>40.3562,-3.69964</td>\n",
       "    </tr>\n",
       "  </tbody>\n",
       "</table>\n",
       "</div>"
      ],
      "text/plain": [
       "                  neighborhood           lat,lon\n",
       "0                Puerta Bonita  40.3865,-3.73456\n",
       "1  Casco Histórico de Vallecas  40.3773,-3.62171\n",
       "2                      Acacias  40.4041,-3.70596\n",
       "3                     Pacífico  40.4014,-3.67488\n",
       "4                     Castilla  40.4764,-3.68004\n",
       "5                   Guindalera  40.4364,-3.66802\n",
       "6                Valdeacederas  40.4679,-3.70342\n",
       "7                     Canillas  40.4619,-3.64335\n",
       "8                  Media Legua   40.412,-3.65753\n",
       "9                  Los Ángeles  40.3562,-3.69964"
      ]
     },
     "execution_count": 3,
     "metadata": {},
     "output_type": "execute_result"
    }
   ],
   "source": [
    "neighborhoods = [\n",
    "    \"Puerta Bonita\",\n",
    "    \"Casco Histórico de Vallecas\",\n",
    "    \"Acacias\",\n",
    "    \"Pacífico\",\n",
    "    \"Castilla\",\n",
    "    \"Guindalera\",\n",
    "    \"Valdeacederas\", \n",
    "    \"Canillas\",\n",
    "    \"Media Legua\",\n",
    "    \"Los Ángeles\"\n",
    "]\n",
    "\n",
    "lista = []\n",
    "\n",
    "for n in neighborhoods: \n",
    "    neighborhood_df = pd.read_sql_query(\n",
    "    f\"\"\"\n",
    "    SELECT neighborhood_name, latitude, longitude\n",
    "    FROM neighborhoods\n",
    "    WHERE neighborhood_name = \"{n}\";\n",
    "    \"\"\", engine)\n",
    "    \n",
    "    neighborhood = neighborhood_df[\"neighborhood_name\"][0]\n",
    "    lat_lon = str(neighborhood_df[\"latitude\"][0]) + \",\" + str(neighborhood_df[\"longitude\"][0])\n",
    "    \n",
    "    dic = {\n",
    "        \"neighborhood\": neighborhood,\n",
    "        \"lat,lon\": lat_lon\n",
    "        }\n",
    "    \n",
    "    lista.append(dic)\n",
    "\n",
    "df = pd.DataFrame(lista)\n",
    "\n",
    "df"
   ]
  },
  {
   "cell_type": "code",
   "execution_count": 4,
   "id": "b1574c3a",
   "metadata": {},
   "outputs": [],
   "source": [
    "result_1 = i_func.idealista_request(token, df[\"lat,lon\"][1], 2000)"
   ]
  },
  {
   "cell_type": "code",
   "execution_count": 5,
   "id": "e2af726a",
   "metadata": {},
   "outputs": [],
   "source": [
    "df_1_mysql, df_1_pred = i_func.creating_dataframe(result_1)\n",
    "df_1_mysql.to_csv(\"./data/dfs_retrain/df_1_mysql.csv\", index = False)\n",
    "df_1_pred.to_csv(\"./data/dfs_retrain/df_1_pred.csv\", index = False)"
   ]
  },
  {
   "cell_type": "code",
   "execution_count": 7,
   "id": "cdb24dda",
   "metadata": {},
   "outputs": [],
   "source": [
    "result_9 = i_func.idealista_request(token, df[\"lat,lon\"][9], 2000)"
   ]
  },
  {
   "cell_type": "code",
   "execution_count": 8,
   "id": "7761581c",
   "metadata": {},
   "outputs": [],
   "source": [
    "df_9_mysql, df_9_pred = i_func.creating_dataframe(result_9)\n",
    "df_9_mysql.to_csv(\"./data/dfs_retrain/df_9_mysql.csv\", index = False)\n",
    "df_9_pred.to_csv(\"./data/dfs_retrain/df_9_pred.csv\", index = False)"
   ]
  },
  {
   "cell_type": "markdown",
   "id": "adce9f29",
   "metadata": {},
   "source": [
    "#### Some other tests:"
   ]
  },
  {
   "cell_type": "code",
   "execution_count": 2,
   "id": "1b02a5a7",
   "metadata": {},
   "outputs": [],
   "source": [
    "lst = [] \n",
    "\n",
    "lst.append({\"option\": \"bar\",\n",
    "        \"confirmation\": True})\n",
    "lst.append({\"option\": \"restaurant\",\n",
    "        \"confirmation\": False})\n",
    "lst.append({\"option\": \"cafe\",\n",
    "        \"confirmation\": True})\n",
    "lst.append({\"option\": \"subway_station\",\n",
    "        \"confirmation\": False})"
   ]
  },
  {
   "cell_type": "code",
   "execution_count": 6,
   "id": "de99138f",
   "metadata": {},
   "outputs": [],
   "source": [
    "df = pd.DataFrame(lst)"
   ]
  },
  {
   "cell_type": "code",
   "execution_count": 10,
   "id": "ae29003d",
   "metadata": {},
   "outputs": [],
   "source": [
    "df.loc[-1] = [\"bus_station\", False]\n",
    "df.index += 1"
   ]
  },
  {
   "cell_type": "code",
   "execution_count": 11,
   "id": "b4437b95",
   "metadata": {},
   "outputs": [
    {
     "data": {
      "text/html": [
       "<div>\n",
       "<style scoped>\n",
       "    .dataframe tbody tr th:only-of-type {\n",
       "        vertical-align: middle;\n",
       "    }\n",
       "\n",
       "    .dataframe tbody tr th {\n",
       "        vertical-align: top;\n",
       "    }\n",
       "\n",
       "    .dataframe thead th {\n",
       "        text-align: right;\n",
       "    }\n",
       "</style>\n",
       "<table border=\"1\" class=\"dataframe\">\n",
       "  <thead>\n",
       "    <tr style=\"text-align: right;\">\n",
       "      <th></th>\n",
       "      <th>option</th>\n",
       "      <th>confirmation</th>\n",
       "    </tr>\n",
       "  </thead>\n",
       "  <tbody>\n",
       "    <tr>\n",
       "      <th>1</th>\n",
       "      <td>bar</td>\n",
       "      <td>True</td>\n",
       "    </tr>\n",
       "    <tr>\n",
       "      <th>2</th>\n",
       "      <td>restaurant</td>\n",
       "      <td>False</td>\n",
       "    </tr>\n",
       "    <tr>\n",
       "      <th>3</th>\n",
       "      <td>cafe</td>\n",
       "      <td>True</td>\n",
       "    </tr>\n",
       "    <tr>\n",
       "      <th>4</th>\n",
       "      <td>subway_station</td>\n",
       "      <td>False</td>\n",
       "    </tr>\n",
       "    <tr>\n",
       "      <th>0</th>\n",
       "      <td>bus_station</td>\n",
       "      <td>False</td>\n",
       "    </tr>\n",
       "  </tbody>\n",
       "</table>\n",
       "</div>"
      ],
      "text/plain": [
       "           option  confirmation\n",
       "1             bar          True\n",
       "2      restaurant         False\n",
       "3            cafe          True\n",
       "4  subway_station         False\n",
       "0     bus_station         False"
      ]
     },
     "execution_count": 11,
     "metadata": {},
     "output_type": "execute_result"
    }
   ],
   "source": [
    "df"
   ]
  },
  {
   "cell_type": "code",
   "execution_count": 35,
   "id": "d60cad97",
   "metadata": {},
   "outputs": [],
   "source": [
    "df = df[df[\"confirmation\"]]\n",
    "lst = []\n",
    "latitude = 40.466884128057536\n",
    "longitude = -3.689750746220336\n",
    "\n",
    "for i, row in df.iterrows():\n",
    "    data = g_func.get_places(latitude, longitude, type_ = row[\"option\"])\n",
    "    lst = g_func.google_places(data, row[\"option\"], lst)\n",
    "\n",
    "test = pd.DataFrame(lst)"
   ]
  },
  {
   "cell_type": "code",
   "execution_count": 88,
   "id": "979d7427",
   "metadata": {},
   "outputs": [
    {
     "data": {
      "text/plain": [
       "pandas.core.series.Series"
      ]
     },
     "execution_count": 88,
     "metadata": {},
     "output_type": "execute_result"
    }
   ],
   "source": [
    "type(test.loc[1])"
   ]
  },
  {
   "cell_type": "code",
   "execution_count": 18,
   "id": "05b2973c",
   "metadata": {},
   "outputs": [],
   "source": [
    "def help_me_google(place_type, latitude, longitude):\n",
    "    if df[\"bar\"][0]:\n",
    "        bars = g_func.get_bars(latitude, longitude)\n",
    "    if df[\"restaurant\"][0]:\n",
    "        restaurants = g_func.get_restaurants(latitude, longitude)\n",
    "    if df[\"cafe\"][0]:\n",
    "        cafes = g_func.get_cafes(latitude, longitude)\n",
    "    if df[\"subway_station\"][0]:\n",
    "        subway_stations = g_func.get_subway_stations(latitude, longitude)\n",
    "    if df[\"train_station\"][0]:\n",
    "        train_stations = g_func.get_train_stations(latitude, longitude)\n",
    "    if df[\"gym\"][0]:\n",
    "        gyms = g_func.get_gyms(latitude, longitude)\n",
    "    if df[\"parking\"][0]:\n",
    "        parkings = g_func.get_parkings(latitude, longitude)\n",
    "    if df[\"primary_school\"][0]:\n",
    "        primary_schools = g_func.get_primary_schools(latitude, longitude)\n",
    "    if df[\"secondary_school\"][0]:\n",
    "        secondary_schools = g_func.get_secondary_schools(latitude, longitude)\n",
    "    if df[\"shopping_mall\"][0]:\n",
    "        shopping_malls = g_func.get_shopping_malls(latitude, longitude)"
   ]
  },
  {
   "cell_type": "code",
   "execution_count": 67,
   "id": "5d7fe90e",
   "metadata": {},
   "outputs": [
    {
     "name": "stdout",
     "output_type": "stream",
     "text": [
      "29-07-21-11h38m56s\n"
     ]
    }
   ],
   "source": [
    "now = datetime.now()\n",
    "current_time = now.strftime(\"%d-%m-%y-%Hh%Mm%Ss\")\n",
    "print(current_time)"
   ]
  },
  {
   "cell_type": "code",
   "execution_count": 68,
   "id": "20e32c5c",
   "metadata": {},
   "outputs": [],
   "source": [
    "test.to_csv(f\"./data/{current_time}.csv\", index = False)"
   ]
  },
  {
   "cell_type": "markdown",
   "id": "ca8e713b",
   "metadata": {},
   "source": [
    "#### Transforming df:"
   ]
  },
  {
   "cell_type": "code",
   "execution_count": 2,
   "id": "9e5ca274",
   "metadata": {},
   "outputs": [],
   "source": [
    "apartments_df = pd.read_csv(\"./data/real_data/test.csv\")"
   ]
  },
  {
   "cell_type": "code",
   "execution_count": 3,
   "id": "eb9dea1e",
   "metadata": {},
   "outputs": [
    {
     "name": "stdout",
     "output_type": "stream",
     "text": [
      "Checking whether there is an H2O instance running at http://localhost:54321 . connected.\n"
     ]
    },
    {
     "data": {
      "text/html": [
       "<div style=\"overflow:auto\"><table style=\"width:50%\"><tr><td>H2O_cluster_uptime:</td>\n",
       "<td>1 hour 49 mins</td></tr>\n",
       "<tr><td>H2O_cluster_timezone:</td>\n",
       "<td>Europe/Madrid</td></tr>\n",
       "<tr><td>H2O_data_parsing_timezone:</td>\n",
       "<td>UTC</td></tr>\n",
       "<tr><td>H2O_cluster_version:</td>\n",
       "<td>3.32.1.4</td></tr>\n",
       "<tr><td>H2O_cluster_version_age:</td>\n",
       "<td>21 days, 3 hours and 55 minutes </td></tr>\n",
       "<tr><td>H2O_cluster_name:</td>\n",
       "<td>H2O_from_python_ccastrob_2wx9av</td></tr>\n",
       "<tr><td>H2O_cluster_total_nodes:</td>\n",
       "<td>1</td></tr>\n",
       "<tr><td>H2O_cluster_free_memory:</td>\n",
       "<td>3.960 Gb</td></tr>\n",
       "<tr><td>H2O_cluster_total_cores:</td>\n",
       "<td>12</td></tr>\n",
       "<tr><td>H2O_cluster_allowed_cores:</td>\n",
       "<td>12</td></tr>\n",
       "<tr><td>H2O_cluster_status:</td>\n",
       "<td>locked, healthy</td></tr>\n",
       "<tr><td>H2O_connection_url:</td>\n",
       "<td>http://localhost:54321</td></tr>\n",
       "<tr><td>H2O_connection_proxy:</td>\n",
       "<td>{\"http\": null, \"https\": null}</td></tr>\n",
       "<tr><td>H2O_internal_security:</td>\n",
       "<td>False</td></tr>\n",
       "<tr><td>H2O_API_Extensions:</td>\n",
       "<td>Amazon S3, XGBoost, Algos, AutoML, Core V3, TargetEncoder, Core V4</td></tr>\n",
       "<tr><td>Python_version:</td>\n",
       "<td>3.8.5 final</td></tr></table></div>"
      ],
      "text/plain": [
       "--------------------------  ------------------------------------------------------------------\n",
       "H2O_cluster_uptime:         1 hour 49 mins\n",
       "H2O_cluster_timezone:       Europe/Madrid\n",
       "H2O_data_parsing_timezone:  UTC\n",
       "H2O_cluster_version:        3.32.1.4\n",
       "H2O_cluster_version_age:    21 days, 3 hours and 55 minutes\n",
       "H2O_cluster_name:           H2O_from_python_ccastrob_2wx9av\n",
       "H2O_cluster_total_nodes:    1\n",
       "H2O_cluster_free_memory:    3.960 Gb\n",
       "H2O_cluster_total_cores:    12\n",
       "H2O_cluster_allowed_cores:  12\n",
       "H2O_cluster_status:         locked, healthy\n",
       "H2O_connection_url:         http://localhost:54321\n",
       "H2O_connection_proxy:       {\"http\": null, \"https\": null}\n",
       "H2O_internal_security:      False\n",
       "H2O_API_Extensions:         Amazon S3, XGBoost, Algos, AutoML, Core V3, TargetEncoder, Core V4\n",
       "Python_version:             3.8.5 final\n",
       "--------------------------  ------------------------------------------------------------------"
      ]
     },
     "metadata": {},
     "output_type": "display_data"
    },
    {
     "name": "stdout",
     "output_type": "stream",
     "text": [
      "Parse progress: |█████████████████████████████████████████████████████████| 100%\n",
      "gbm prediction progress: |████████████████████████████████████████████████| 100%\n"
     ]
    }
   ],
   "source": [
    "predicted_df = func.predict_prices(apartments_df)"
   ]
  },
  {
   "cell_type": "code",
   "execution_count": 5,
   "id": "fc5a2c1a",
   "metadata": {},
   "outputs": [
    {
     "data": {
      "text/html": [
       "<div>\n",
       "<style scoped>\n",
       "    .dataframe tbody tr th:only-of-type {\n",
       "        vertical-align: middle;\n",
       "    }\n",
       "\n",
       "    .dataframe tbody tr th {\n",
       "        vertical-align: top;\n",
       "    }\n",
       "\n",
       "    .dataframe thead th {\n",
       "        text-align: right;\n",
       "    }\n",
       "</style>\n",
       "<table border=\"1\" class=\"dataframe\">\n",
       "  <thead>\n",
       "    <tr style=\"text-align: right;\">\n",
       "      <th></th>\n",
       "      <th>name</th>\n",
       "      <th>sq_mt_built</th>\n",
       "      <th>n_rooms</th>\n",
       "      <th>n_bathrooms</th>\n",
       "      <th>latitude</th>\n",
       "      <th>longitude</th>\n",
       "      <th>buy_price</th>\n",
       "      <th>is_new_development</th>\n",
       "      <th>is_renewal_needed</th>\n",
       "      <th>has_lift</th>\n",
       "      <th>is_exterior</th>\n",
       "      <th>has_parking</th>\n",
       "      <th>floor</th>\n",
       "      <th>house_type_id</th>\n",
       "      <th>value_m2</th>\n",
       "      <th>neighborhood</th>\n",
       "      <th>district</th>\n",
       "      <th>url</th>\n",
       "      <th>prediction</th>\n",
       "      <th>buy_prediction</th>\n",
       "    </tr>\n",
       "  </thead>\n",
       "  <tbody>\n",
       "    <tr>\n",
       "      <th>0</th>\n",
       "      <td>Piso en Calle CARACAS</td>\n",
       "      <td>65</td>\n",
       "      <td>2</td>\n",
       "      <td>1</td>\n",
       "      <td>40.430447</td>\n",
       "      <td>-3.693837</td>\n",
       "      <td>338000</td>\n",
       "      <td>0</td>\n",
       "      <td>0</td>\n",
       "      <td>1</td>\n",
       "      <td>0</td>\n",
       "      <td>0</td>\n",
       "      <td>0</td>\n",
       "      <td>0</td>\n",
       "      <td>6564.27</td>\n",
       "      <td>Almagro</td>\n",
       "      <td>Chamberí</td>\n",
       "      <td>https://www.idealista.com/inmueble/94904750/</td>\n",
       "      <td>5.555035</td>\n",
       "      <td>358950</td>\n",
       "    </tr>\n",
       "    <tr>\n",
       "      <th>1</th>\n",
       "      <td>Piso</td>\n",
       "      <td>200</td>\n",
       "      <td>3</td>\n",
       "      <td>4</td>\n",
       "      <td>40.425832</td>\n",
       "      <td>-3.681347</td>\n",
       "      <td>2600000</td>\n",
       "      <td>0</td>\n",
       "      <td>0</td>\n",
       "      <td>0</td>\n",
       "      <td>1</td>\n",
       "      <td>0</td>\n",
       "      <td>4</td>\n",
       "      <td>0</td>\n",
       "      <td>8392.43</td>\n",
       "      <td>Recoletos</td>\n",
       "      <td>Salamanca</td>\n",
       "      <td>https://www.idealista.com/inmueble/94729701/</td>\n",
       "      <td>6.360867</td>\n",
       "      <td>2295446</td>\n",
       "    </tr>\n",
       "    <tr>\n",
       "      <th>2</th>\n",
       "      <td>Piso en Calle de Lope de Rueda, 10</td>\n",
       "      <td>75</td>\n",
       "      <td>3</td>\n",
       "      <td>1</td>\n",
       "      <td>40.423056</td>\n",
       "      <td>-3.677494</td>\n",
       "      <td>439900</td>\n",
       "      <td>0</td>\n",
       "      <td>0</td>\n",
       "      <td>1</td>\n",
       "      <td>0</td>\n",
       "      <td>0</td>\n",
       "      <td>6</td>\n",
       "      <td>0</td>\n",
       "      <td>5887.64</td>\n",
       "      <td>Goya</td>\n",
       "      <td>Salamanca</td>\n",
       "      <td>https://www.idealista.com/inmueble/94853917/</td>\n",
       "      <td>5.650212</td>\n",
       "      <td>446901</td>\n",
       "    </tr>\n",
       "    <tr>\n",
       "      <th>3</th>\n",
       "      <td>Piso en Calle PIZARRO, 8</td>\n",
       "      <td>139</td>\n",
       "      <td>3</td>\n",
       "      <td>2</td>\n",
       "      <td>40.422829</td>\n",
       "      <td>-3.705933</td>\n",
       "      <td>750000</td>\n",
       "      <td>0</td>\n",
       "      <td>0</td>\n",
       "      <td>0</td>\n",
       "      <td>1</td>\n",
       "      <td>0</td>\n",
       "      <td>1</td>\n",
       "      <td>0</td>\n",
       "      <td>5196.25</td>\n",
       "      <td>Malasaña-Universidad</td>\n",
       "      <td>Centro</td>\n",
       "      <td>https://www.idealista.com/inmueble/93591362/</td>\n",
       "      <td>5.781196</td>\n",
       "      <td>604221</td>\n",
       "    </tr>\n",
       "    <tr>\n",
       "      <th>4</th>\n",
       "      <td>Piso</td>\n",
       "      <td>278</td>\n",
       "      <td>6</td>\n",
       "      <td>3</td>\n",
       "      <td>40.437277</td>\n",
       "      <td>-3.690053</td>\n",
       "      <td>1395000</td>\n",
       "      <td>0</td>\n",
       "      <td>0</td>\n",
       "      <td>1</td>\n",
       "      <td>1</td>\n",
       "      <td>1</td>\n",
       "      <td>2</td>\n",
       "      <td>0</td>\n",
       "      <td>6564.27</td>\n",
       "      <td>Almagro</td>\n",
       "      <td>Chamberí</td>\n",
       "      <td>https://www.idealista.com/inmueble/93380726/</td>\n",
       "      <td>6.186810</td>\n",
       "      <td>1537480</td>\n",
       "    </tr>\n",
       "  </tbody>\n",
       "</table>\n",
       "</div>"
      ],
      "text/plain": [
       "                                 name  sq_mt_built  n_rooms  n_bathrooms  \\\n",
       "0               Piso en Calle CARACAS           65        2            1   \n",
       "1                                Piso          200        3            4   \n",
       "2  Piso en Calle de Lope de Rueda, 10           75        3            1   \n",
       "3            Piso en Calle PIZARRO, 8          139        3            2   \n",
       "4                                Piso          278        6            3   \n",
       "\n",
       "    latitude  longitude  buy_price  is_new_development  is_renewal_needed  \\\n",
       "0  40.430447  -3.693837     338000                   0                  0   \n",
       "1  40.425832  -3.681347    2600000                   0                  0   \n",
       "2  40.423056  -3.677494     439900                   0                  0   \n",
       "3  40.422829  -3.705933     750000                   0                  0   \n",
       "4  40.437277  -3.690053    1395000                   0                  0   \n",
       "\n",
       "   has_lift  is_exterior  has_parking  floor  house_type_id  value_m2  \\\n",
       "0         1            0            0      0              0   6564.27   \n",
       "1         0            1            0      4              0   8392.43   \n",
       "2         1            0            0      6              0   5887.64   \n",
       "3         0            1            0      1              0   5196.25   \n",
       "4         1            1            1      2              0   6564.27   \n",
       "\n",
       "           neighborhood   district  \\\n",
       "0               Almagro   Chamberí   \n",
       "1             Recoletos  Salamanca   \n",
       "2                  Goya  Salamanca   \n",
       "3  Malasaña-Universidad     Centro   \n",
       "4               Almagro   Chamberí   \n",
       "\n",
       "                                            url  prediction  buy_prediction  \n",
       "0  https://www.idealista.com/inmueble/94904750/    5.555035          358950  \n",
       "1  https://www.idealista.com/inmueble/94729701/    6.360867         2295446  \n",
       "2  https://www.idealista.com/inmueble/94853917/    5.650212          446901  \n",
       "3  https://www.idealista.com/inmueble/93591362/    5.781196          604221  \n",
       "4  https://www.idealista.com/inmueble/93380726/    6.186810         1537480  "
      ]
     },
     "execution_count": 5,
     "metadata": {},
     "output_type": "execute_result"
    }
   ],
   "source": [
    "predicted_df.head()"
   ]
  },
  {
   "cell_type": "code",
   "execution_count": 13,
   "id": "9cb4a102",
   "metadata": {},
   "outputs": [
    {
     "data": {
      "text/plain": [
       "str"
      ]
     },
     "execution_count": 13,
     "metadata": {},
     "output_type": "execute_result"
    }
   ],
   "source": [
    "apartments_df.loc[1].astype(str)[\"buy_price\"]"
   ]
  },
  {
   "cell_type": "code",
   "execution_count": null,
   "id": "1d508142",
   "metadata": {},
   "outputs": [],
   "source": []
  }
 ],
 "metadata": {
  "kernelspec": {
   "display_name": "ironhack",
   "language": "python",
   "name": "ironhack"
  },
  "language_info": {
   "codemirror_mode": {
    "name": "ipython",
    "version": 3
   },
   "file_extension": ".py",
   "mimetype": "text/x-python",
   "name": "python",
   "nbconvert_exporter": "python",
   "pygments_lexer": "ipython3",
   "version": "3.8.5"
  }
 },
 "nbformat": 4,
 "nbformat_minor": 5
}
