{
 "cells": [
  {
   "cell_type": "code",
   "execution_count": 1,
   "id": "8e523fdf",
   "metadata": {},
   "outputs": [],
   "source": [
    "import h2o\n",
    "from h2o.automl import H2OAutoML"
   ]
  },
  {
   "cell_type": "code",
   "execution_count": 2,
   "id": "16c78608",
   "metadata": {},
   "outputs": [
    {
     "name": "stdout",
     "output_type": "stream",
     "text": [
      "Checking whether there is an H2O instance running at http://localhost:54321 . connected.\n"
     ]
    },
    {
     "data": {
      "text/html": [
       "<div style=\"overflow:auto\"><table style=\"width:50%\"><tr><td>H2O_cluster_uptime:</td>\n",
       "<td>16 hours 1 min</td></tr>\n",
       "<tr><td>H2O_cluster_timezone:</td>\n",
       "<td>Europe/Madrid</td></tr>\n",
       "<tr><td>H2O_data_parsing_timezone:</td>\n",
       "<td>UTC</td></tr>\n",
       "<tr><td>H2O_cluster_version:</td>\n",
       "<td>3.32.1.4</td></tr>\n",
       "<tr><td>H2O_cluster_version_age:</td>\n",
       "<td>18 days </td></tr>\n",
       "<tr><td>H2O_cluster_name:</td>\n",
       "<td>H2O_from_python_ccastrob_cocs40</td></tr>\n",
       "<tr><td>H2O_cluster_total_nodes:</td>\n",
       "<td>1</td></tr>\n",
       "<tr><td>H2O_cluster_free_memory:</td>\n",
       "<td>2.753 Gb</td></tr>\n",
       "<tr><td>H2O_cluster_total_cores:</td>\n",
       "<td>12</td></tr>\n",
       "<tr><td>H2O_cluster_allowed_cores:</td>\n",
       "<td>12</td></tr>\n",
       "<tr><td>H2O_cluster_status:</td>\n",
       "<td>locked, healthy</td></tr>\n",
       "<tr><td>H2O_connection_url:</td>\n",
       "<td>http://localhost:54321</td></tr>\n",
       "<tr><td>H2O_connection_proxy:</td>\n",
       "<td>{\"http\": null, \"https\": null}</td></tr>\n",
       "<tr><td>H2O_internal_security:</td>\n",
       "<td>False</td></tr>\n",
       "<tr><td>H2O_API_Extensions:</td>\n",
       "<td>Amazon S3, XGBoost, Algos, AutoML, Core V3, TargetEncoder, Core V4</td></tr>\n",
       "<tr><td>Python_version:</td>\n",
       "<td>3.8.5 final</td></tr></table></div>"
      ],
      "text/plain": [
       "--------------------------  ------------------------------------------------------------------\n",
       "H2O_cluster_uptime:         16 hours 1 min\n",
       "H2O_cluster_timezone:       Europe/Madrid\n",
       "H2O_data_parsing_timezone:  UTC\n",
       "H2O_cluster_version:        3.32.1.4\n",
       "H2O_cluster_version_age:    18 days\n",
       "H2O_cluster_name:           H2O_from_python_ccastrob_cocs40\n",
       "H2O_cluster_total_nodes:    1\n",
       "H2O_cluster_free_memory:    2.753 Gb\n",
       "H2O_cluster_total_cores:    12\n",
       "H2O_cluster_allowed_cores:  12\n",
       "H2O_cluster_status:         locked, healthy\n",
       "H2O_connection_url:         http://localhost:54321\n",
       "H2O_connection_proxy:       {\"http\": null, \"https\": null}\n",
       "H2O_internal_security:      False\n",
       "H2O_API_Extensions:         Amazon S3, XGBoost, Algos, AutoML, Core V3, TargetEncoder, Core V4\n",
       "Python_version:             3.8.5 final\n",
       "--------------------------  ------------------------------------------------------------------"
      ]
     },
     "metadata": {},
     "output_type": "display_data"
    }
   ],
   "source": [
    "h2o.init()"
   ]
  },
  {
   "cell_type": "markdown",
   "id": "3df206d8",
   "metadata": {},
   "source": [
    "#### First loading model test:"
   ]
  },
  {
   "cell_type": "code",
   "execution_count": 5,
   "id": "3da1da3f",
   "metadata": {},
   "outputs": [],
   "source": [
    "model_path = \"/mnt/c/Users/chris/ironhack_labs/Weekend-projects/tu_pisito/models/StackedEnsemble_AllModels_AutoML_20210725_174222\""
   ]
  },
  {
   "cell_type": "code",
   "execution_count": 6,
   "id": "3db7243f",
   "metadata": {},
   "outputs": [],
   "source": [
    "saved_model = h2o.load_model(model_path)"
   ]
  },
  {
   "cell_type": "markdown",
   "id": "e7292b9f",
   "metadata": {},
   "source": [
    "#### Second loading model test:"
   ]
  },
  {
   "cell_type": "code",
   "execution_count": 3,
   "id": "dd898100",
   "metadata": {},
   "outputs": [],
   "source": [
    "saved_model_1 = h2o.load_model(\"../models/StackedEnsemble_AllModels_AutoML_20210726_000435\")"
   ]
  },
  {
   "cell_type": "code",
   "execution_count": 4,
   "id": "f2954edc",
   "metadata": {},
   "outputs": [
    {
     "name": "stdout",
     "output_type": "stream",
     "text": [
      "Model Details\n",
      "=============\n",
      "H2OStackedEnsembleEstimator :  Stacked Ensemble\n",
      "Model Key:  StackedEnsemble_AllModels_AutoML_20210726_000435\n",
      "\n",
      "No model summary for this model\n",
      "\n",
      "ModelMetricsRegressionGLM: stackedensemble\n",
      "** Reported on train data. **\n",
      "\n",
      "MSE: 131126769.26697575\n",
      "RMSE: 11451.059744275886\n",
      "MAE: 7283.074510200545\n",
      "RMSLE: 0.03447928601804935\n",
      "R^2: 0.9981867654703465\n",
      "Mean Residual Deviance: 131126769.26697575\n",
      "Null degrees of freedom: 6976\n",
      "Residual degrees of freedom: 6958\n",
      "Null deviance: 504552198964858.06\n",
      "Residual deviance: 914871469175.6898\n",
      "AIC: 150251.68558762042\n",
      "\n",
      "ModelMetricsRegressionGLM: stackedensemble\n",
      "** Reported on cross-validation data. **\n",
      "\n",
      "MSE: 1708175734.5018313\n",
      "RMSE: 41330.08268201059\n",
      "MAE: 12938.66015402612\n",
      "RMSLE: 0.0578224398910009\n",
      "R^2: 0.9763791692434\n",
      "Mean Residual Deviance: 1708175734.5018313\n",
      "Null degrees of freedom: 6976\n",
      "Residual degrees of freedom: 6959\n",
      "Null deviance: 504737622352299.4\n",
      "Residual deviance: 11917942099619.277\n",
      "AIC: 168159.76109307702\n"
     ]
    },
    {
     "data": {
      "text/plain": []
     },
     "execution_count": 4,
     "metadata": {},
     "output_type": "execute_result"
    }
   ],
   "source": [
    "saved_model_1"
   ]
  },
  {
   "cell_type": "code",
   "execution_count": 5,
   "id": "c9f4c7aa",
   "metadata": {},
   "outputs": [],
   "source": [
    "saved_model_2 = h2o.load_model(\"../models/StackedEnsemble_AllModels_AutoML_20210726_135529\")"
   ]
  },
  {
   "cell_type": "code",
   "execution_count": 6,
   "id": "921bc5fb",
   "metadata": {},
   "outputs": [
    {
     "name": "stdout",
     "output_type": "stream",
     "text": [
      "Model Details\n",
      "=============\n",
      "H2OStackedEnsembleEstimator :  Stacked Ensemble\n",
      "Model Key:  StackedEnsemble_AllModels_AutoML_20210726_135529\n",
      "\n",
      "No model summary for this model\n",
      "\n",
      "ModelMetricsRegressionGLM: stackedensemble\n",
      "** Reported on train data. **\n",
      "\n",
      "MSE: 1241625273.102558\n",
      "RMSE: 35236.703493694724\n",
      "MAE: 24300.7086173597\n",
      "RMSLE: 0.08830140446511801\n",
      "R^2: 0.9949461403090651\n",
      "Mean Residual Deviance: 1241625273.102558\n",
      "Null degrees of freedom: 7389\n",
      "Residual degrees of freedom: 7365\n",
      "Null deviance: 1815564999694443.8\n",
      "Residual deviance: 9175610768227.902\n",
      "AIC: 175768.19891231135\n",
      "\n",
      "ModelMetricsRegressionGLM: stackedensemble\n",
      "** Reported on cross-validation data. **\n",
      "\n",
      "MSE: 16612061488.604366\n",
      "RMSE: 128887.78642138427\n",
      "MAE: 62686.07765719856\n",
      "RMSLE: 0.1734820581579836\n",
      "R^2: 0.9323829582408523\n",
      "Mean Residual Deviance: 16612061488.604366\n",
      "Null degrees of freedom: 7389\n",
      "Residual degrees of freedom: 7365\n",
      "Null deviance: 1815937115822934.2\n",
      "Residual deviance: 122763134400786.27\n",
      "AIC: 194935.69956694523\n"
     ]
    },
    {
     "data": {
      "text/plain": []
     },
     "execution_count": 6,
     "metadata": {},
     "output_type": "execute_result"
    }
   ],
   "source": [
    "saved_model_2"
   ]
  },
  {
   "cell_type": "code",
   "execution_count": null,
   "id": "67624f3c",
   "metadata": {},
   "outputs": [],
   "source": []
  }
 ],
 "metadata": {
  "kernelspec": {
   "display_name": "ironhack",
   "language": "python",
   "name": "ironhack"
  },
  "language_info": {
   "codemirror_mode": {
    "name": "ipython",
    "version": 3
   },
   "file_extension": ".py",
   "mimetype": "text/x-python",
   "name": "python",
   "nbconvert_exporter": "python",
   "pygments_lexer": "ipython3",
   "version": "3.8.5"
  }
 },
 "nbformat": 4,
 "nbformat_minor": 5
}
