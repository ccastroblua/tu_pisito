{
 "cells": [
  {
   "cell_type": "code",
   "execution_count": 1,
   "id": "262027aa",
   "metadata": {},
   "outputs": [
    {
     "name": "stdout",
     "output_type": "stream",
     "text": [
      "Conectado a mysql / base de datos: tu_pisito\n"
     ]
    }
   ],
   "source": [
    "from config.configuration import engine\n",
    "from tools import idealista_functions as i_func\n",
    "import pandas as pd"
   ]
  },
  {
   "cell_type": "code",
   "execution_count": 2,
   "id": "0d6e5c9f",
   "metadata": {},
   "outputs": [],
   "source": [
    "token = i_func.get_idealista_token()"
   ]
  },
  {
   "cell_type": "code",
   "execution_count": 3,
   "id": "39fc74fd",
   "metadata": {},
   "outputs": [
    {
     "data": {
      "text/html": [
       "<div>\n",
       "<style scoped>\n",
       "    .dataframe tbody tr th:only-of-type {\n",
       "        vertical-align: middle;\n",
       "    }\n",
       "\n",
       "    .dataframe tbody tr th {\n",
       "        vertical-align: top;\n",
       "    }\n",
       "\n",
       "    .dataframe thead th {\n",
       "        text-align: right;\n",
       "    }\n",
       "</style>\n",
       "<table border=\"1\" class=\"dataframe\">\n",
       "  <thead>\n",
       "    <tr style=\"text-align: right;\">\n",
       "      <th></th>\n",
       "      <th>neighborhood</th>\n",
       "      <th>lat,lon</th>\n",
       "    </tr>\n",
       "  </thead>\n",
       "  <tbody>\n",
       "    <tr>\n",
       "      <th>0</th>\n",
       "      <td>Puerta Bonita</td>\n",
       "      <td>40.3865,-3.73456</td>\n",
       "    </tr>\n",
       "    <tr>\n",
       "      <th>1</th>\n",
       "      <td>Casco Histórico de Vallecas</td>\n",
       "      <td>40.3773,-3.62171</td>\n",
       "    </tr>\n",
       "    <tr>\n",
       "      <th>2</th>\n",
       "      <td>Acacias</td>\n",
       "      <td>40.4041,-3.70596</td>\n",
       "    </tr>\n",
       "    <tr>\n",
       "      <th>3</th>\n",
       "      <td>Pacífico</td>\n",
       "      <td>40.4014,-3.67488</td>\n",
       "    </tr>\n",
       "    <tr>\n",
       "      <th>4</th>\n",
       "      <td>Castilla</td>\n",
       "      <td>40.4764,-3.68004</td>\n",
       "    </tr>\n",
       "    <tr>\n",
       "      <th>5</th>\n",
       "      <td>Guindalera</td>\n",
       "      <td>40.4364,-3.66802</td>\n",
       "    </tr>\n",
       "    <tr>\n",
       "      <th>6</th>\n",
       "      <td>Valdeacederas</td>\n",
       "      <td>40.4679,-3.70342</td>\n",
       "    </tr>\n",
       "    <tr>\n",
       "      <th>7</th>\n",
       "      <td>Canillas</td>\n",
       "      <td>40.4619,-3.64335</td>\n",
       "    </tr>\n",
       "    <tr>\n",
       "      <th>8</th>\n",
       "      <td>Media Legua</td>\n",
       "      <td>40.412,-3.65753</td>\n",
       "    </tr>\n",
       "    <tr>\n",
       "      <th>9</th>\n",
       "      <td>Los Ángeles</td>\n",
       "      <td>40.3562,-3.69964</td>\n",
       "    </tr>\n",
       "  </tbody>\n",
       "</table>\n",
       "</div>"
      ],
      "text/plain": [
       "                  neighborhood           lat,lon\n",
       "0                Puerta Bonita  40.3865,-3.73456\n",
       "1  Casco Histórico de Vallecas  40.3773,-3.62171\n",
       "2                      Acacias  40.4041,-3.70596\n",
       "3                     Pacífico  40.4014,-3.67488\n",
       "4                     Castilla  40.4764,-3.68004\n",
       "5                   Guindalera  40.4364,-3.66802\n",
       "6                Valdeacederas  40.4679,-3.70342\n",
       "7                     Canillas  40.4619,-3.64335\n",
       "8                  Media Legua   40.412,-3.65753\n",
       "9                  Los Ángeles  40.3562,-3.69964"
      ]
     },
     "execution_count": 3,
     "metadata": {},
     "output_type": "execute_result"
    }
   ],
   "source": [
    "neighborhoods = [\n",
    "    \"Puerta Bonita\",\n",
    "    \"Casco Histórico de Vallecas\",\n",
    "    \"Acacias\",\n",
    "    \"Pacífico\",\n",
    "    \"Castilla\",\n",
    "    \"Guindalera\",\n",
    "    \"Valdeacederas\", \n",
    "    \"Canillas\",\n",
    "    \"Media Legua\",\n",
    "    \"Los Ángeles\"\n",
    "]\n",
    "\n",
    "lista = []\n",
    "\n",
    "for n in neighborhoods: \n",
    "    neighborhood_df = pd.read_sql_query(\n",
    "    f\"\"\"\n",
    "    SELECT neighborhood_name, latitude, longitude\n",
    "    FROM neighborhoods\n",
    "    WHERE neighborhood_name = \"{n}\";\n",
    "    \"\"\", engine)\n",
    "    \n",
    "    neighborhood = neighborhood_df[\"neighborhood_name\"][0]\n",
    "    lat_lon = str(neighborhood_df[\"latitude\"][0]) + \",\" + str(neighborhood_df[\"longitude\"][0])\n",
    "    \n",
    "    dic = {\n",
    "        \"neighborhood\": neighborhood,\n",
    "        \"lat,lon\": lat_lon\n",
    "        }\n",
    "    \n",
    "    lista.append(dic)\n",
    "\n",
    "df = pd.DataFrame(lista)\n",
    "\n",
    "df"
   ]
  },
  {
   "cell_type": "code",
   "execution_count": 4,
   "id": "b1574c3a",
   "metadata": {},
   "outputs": [],
   "source": [
    "result_1 = i_func.idealista_request(token, df[\"lat,lon\"][1], 2000)"
   ]
  },
  {
   "cell_type": "code",
   "execution_count": 5,
   "id": "e2af726a",
   "metadata": {},
   "outputs": [],
   "source": [
    "df_1_mysql, df_1_pred = i_func.creating_dataframe(result_1)\n",
    "df_1_mysql.to_csv(\"./data/dfs_retrain/df_1_mysql.csv\", index = False)\n",
    "df_1_pred.to_csv(\"./data/dfs_retrain/df_1_pred.csv\", index = False)"
   ]
  },
  {
   "cell_type": "code",
   "execution_count": 7,
   "id": "cdb24dda",
   "metadata": {},
   "outputs": [],
   "source": [
    "result_9 = i_func.idealista_request(token, df[\"lat,lon\"][9], 2000)"
   ]
  },
  {
   "cell_type": "code",
   "execution_count": 8,
   "id": "7761581c",
   "metadata": {},
   "outputs": [],
   "source": [
    "df_9_mysql, df_9_pred = i_func.creating_dataframe(result_9)\n",
    "df_9_mysql.to_csv(\"./data/dfs_retrain/df_9_mysql.csv\", index = False)\n",
    "df_9_pred.to_csv(\"./data/dfs_retrain/df_9_pred.csv\", index = False)"
   ]
  }
 ],
 "metadata": {
  "kernelspec": {
   "display_name": "ironhack",
   "language": "python",
   "name": "ironhack"
  },
  "language_info": {
   "codemirror_mode": {
    "name": "ipython",
    "version": 3
   },
   "file_extension": ".py",
   "mimetype": "text/x-python",
   "name": "python",
   "nbconvert_exporter": "python",
   "pygments_lexer": "ipython3",
   "version": "3.8.5"
  }
 },
 "nbformat": 4,
 "nbformat_minor": 5
}
